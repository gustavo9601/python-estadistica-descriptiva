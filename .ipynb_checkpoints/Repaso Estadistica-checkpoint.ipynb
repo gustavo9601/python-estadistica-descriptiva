{
 "cells": [
  {
   "cell_type": "code",
   "execution_count": 40,
   "metadata": {},
   "outputs": [],
   "source": [
    "import random\n",
    "import math\n",
    "import collections"
   ]
  },
  {
   "cell_type": "code",
   "execution_count": 2,
   "metadata": {},
   "outputs": [],
   "source": [
    "# Media manual\n",
    "def media(X):\n",
    "    return sum(X) / len(X)"
   ]
  },
  {
   "cell_type": "code",
   "execution_count": 10,
   "metadata": {},
   "outputs": [
    {
     "name": "stdout",
     "output_type": "stream",
     "text": [
      "X [11, 9, 21, 13, 3, 5, 8, 3, 18, 19, 7, 20, 10, 20, 19, 15, 19, 21, 20, 10]\n",
      "mu 13.55\n"
     ]
    }
   ],
   "source": [
    "# Lista aleatoria, por cada iteracion genera un numero entre 1 y 20\n",
    "# for i in range(20)  se iterara 20 veces hasta que i tome el valor de 20\n",
    "X = [random.randint(1,21) for i in range(20)]\n",
    "mu = media(X)\n",
    "print(\"X\", X)\n",
    "print(\"mu\", mu)\n"
   ]
  },
  {
   "cell_type": "code",
   "execution_count": 18,
   "metadata": {},
   "outputs": [
    {
     "name": "stdout",
     "output_type": "stream",
     "text": [
      "X [9, 15, 21, 9, 6, 14, 8, 19, 12, 10, 15, 8, 16, 14, 8, 9, 11, 20, 19, 11]\n",
      "varianza 19.61\n"
     ]
    }
   ],
   "source": [
    "def varianza(X):\n",
    "    mu = media(X)\n",
    "    \n",
    "    acumulador = 0\n",
    "    \n",
    "    for x in X:\n",
    "        acumulador += (x - mu)**2\n",
    "    return acumulador / len(X)\n",
    "\n",
    "X = [random.randint(1,21) for i in range(20)]\n",
    "var = varianza(X)\n",
    "print(\"X\", X)\n",
    "print(\"varianza\", var)"
   ]
  },
  {
   "cell_type": "code",
   "execution_count": 22,
   "metadata": {},
   "outputs": [
    {
     "name": "stdout",
     "output_type": "stream",
     "text": [
      "X [20, 18, 9, 10, 6, 21, 5, 6, 20, 13, 20, 3, 13, 17, 5, 18, 21, 7, 14, 6]\n",
      "desviacion_estandar 38.74\n"
     ]
    }
   ],
   "source": [
    "def desviacion_estandar(X):\n",
    "    return math.sqrt(varianza(X))\n",
    "\n",
    "X = [random.randint(1,21) for i in range(20)]\n",
    "sigma = varianza(X)\n",
    "print(\"X\", X)\n",
    "print(\"desviacion_estandar\", sigma)"
   ]
  },
  {
   "cell_type": "code",
   "execution_count": 34,
   "metadata": {},
   "outputs": [
    {
     "name": "stdout",
     "output_type": "stream",
     "text": [
      "Arreglo => [5, 21, 6, 21, 20, 4, 20, 20, 16, 6, 5, 12, 12, 8, 9, 5, 14, 15, 5, 1]\n",
      "Media => 11.25\n",
      "Varianza => 42.4875\n",
      "Desviacion Estandar => 6.518243628463115\n"
     ]
    }
   ],
   "source": [
    "#Resumen\n",
    "X = [random.randint(1,21) for i in range(20)]\n",
    "mu = media(X)\n",
    "var = varianza(X)\n",
    "sigma = desviacion_estandar(X)\n",
    "\n",
    "print(f'Arreglo => {X}')\n",
    "print(f'Media => {mu}')\n",
    "print(f'Varianza => {var}')\n",
    "print(f'Desviacion Estandar => {sigma}')\n",
    "\n",
    "# A partir de la media aproximadamente 10, se toma la desviacion estandar aproximadamente en 6 puntos\n",
    "# Se puede esperar que la mayoria de datos se encuentre entre 4 y 16"
   ]
  },
  {
   "cell_type": "markdown",
   "metadata": {},
   "source": [
    "# Ejercicio de barajas \"Cartas\""
   ]
  },
  {
   "cell_type": "code",
   "execution_count": 28,
   "metadata": {},
   "outputs": [
    {
     "name": "stdout",
     "output_type": "stream",
     "text": [
      "[('espada', 'as'), ('espada', '2'), ('espada', '3'), ('espada', '4'), ('espada', '5'), ('espada', '6'), ('espada', '7'), ('espada', '8'), ('espada', '9'), ('espada', '10'), ('espada', 'jotas'), ('espada', 'reyes'), ('espada', 'reinas'), ('corazon', 'as'), ('corazon', '2'), ('corazon', '3'), ('corazon', '4'), ('corazon', '5'), ('corazon', '6'), ('corazon', '7'), ('corazon', '8'), ('corazon', '9'), ('corazon', '10'), ('corazon', 'jotas'), ('corazon', 'reyes'), ('corazon', 'reinas'), ('rombo', 'as'), ('rombo', '2'), ('rombo', '3'), ('rombo', '4'), ('rombo', '5'), ('rombo', '6'), ('rombo', '7'), ('rombo', '8'), ('rombo', '9'), ('rombo', '10'), ('rombo', 'jotas'), ('rombo', 'reyes'), ('rombo', 'reinas'), ('trebol', 'as'), ('trebol', '2'), ('trebol', '3'), ('trebol', '4'), ('trebol', '5'), ('trebol', '6'), ('trebol', '7'), ('trebol', '8'), ('trebol', '9'), ('trebol', '10'), ('trebol', 'jotas'), ('trebol', 'reyes'), ('trebol', 'reinas')]\n",
      "52\n"
     ]
    }
   ],
   "source": [
    "PALOS = ['espada', 'corazon', 'rombo', 'trebol']\n",
    "VALORES = ['as', '2', '3', '4', '5', '6', '7', '8', '9', '10', 'jotas', 'reyes', 'reinas']\n",
    "\n",
    "def crear_baraja():\n",
    "    baraja = []\n",
    "    for palo in PALOS:\n",
    "        for valor in VALORES:\n",
    "            baraja.append((palo, valor))\n",
    "    return baraja\n",
    "\n",
    "\n",
    "baraja = crear_baraja()\n",
    "print(baraja)\n",
    "print(len(baraja))"
   ]
  },
  {
   "cell_type": "code",
   "execution_count": 37,
   "metadata": {},
   "outputs": [
    {
     "name": "stdout",
     "output_type": "stream",
     "text": [
      "[('corazon', '9'), ('trebol', '7'), ('trebol', 'reinas'), ('rombo', 'reinas'), ('espada', '10')]\n"
     ]
    }
   ],
   "source": [
    "def obtener_mano(baraja, tamano_mano):\n",
    "    # random.sample(lista, cantidad_items)  // permite escoger aleatoriamente valores de la lista pasada por parametro\n",
    "    mano = random.sample(baraja, tamano_mano)\n",
    "    return mano\n",
    "\n",
    "mano1 = obtener_mano(baraja, 5)\n",
    "print(mano1)"
   ]
  },
  {
   "cell_type": "code",
   "execution_count": 68,
   "metadata": {},
   "outputs": [
    {
     "name": "stdout",
     "output_type": "stream",
     "text": [
      "probabilidad_par =>  0.7692307692307693\n"
     ]
    }
   ],
   "source": [
    "def main(tamano_mano, intentos):\n",
    "    baraja = crear_baraja()\n",
    "    \n",
    "    manos = []\n",
    "    \n",
    "    for _ in range(intentos):\n",
    "        mano = obtener_mano(baraja, tamano_mano)\n",
    "        manos.append(mano)\n",
    "    \n",
    "    pares = 0\n",
    "    for mano in manos:\n",
    "        valores = []\n",
    "        for carta in mano:\n",
    "            # append de los valores de la tupla en la posicion 1\n",
    "            valores.append(carta[1])\n",
    "        # Agrupando por la cantidad de veces que se repita en la lista\n",
    "        counter = dict(collections.Counter(valores))\n",
    "        # print(counter)\n",
    "        \n",
    "        # recorremos la agupacion , y si se encuentra el numero 2 por lo menos una vez\n",
    "        # contara en los pares encontrados\n",
    "        for val in counter.values():\n",
    "            if val == 2:\n",
    "                pares += 1\n",
    "                break\n",
    "\n",
    "    # Obteniendo la probabilidad de obtener por lo menos un par en una misma mano, para todos los intentos          \n",
    "    probabilidad_par = pares / intentos\n",
    "    print(\"probabilidad_par => \", probabilidad_par)   \n",
    "            \n",
    "\n",
    "main(7, 52)"
   ]
  },
  {
   "cell_type": "code",
   "execution_count": 78,
   "metadata": {},
   "outputs": [],
   "source": [
    "import numpy as np\n",
    "import matplotlib.pyplot as plt"
   ]
  },
  {
   "cell_type": "code",
   "execution_count": 75,
   "metadata": {},
   "outputs": [
    {
     "data": {
      "text/plain": [
       "9"
      ]
     },
     "execution_count": 75,
     "metadata": {},
     "output_type": "execute_result"
    }
   ],
   "source": [
    "x = np.array([0,1,2,3,4,5,6,7,8])\n",
    "y = np.array([1,2,3,5,4,6,8,7, 9])\n",
    "len(x)\n",
    "len(y)"
   ]
  },
  {
   "cell_type": "code",
   "execution_count": 76,
   "metadata": {},
   "outputs": [
    {
     "data": {
      "text/plain": [
       "array([0.96666667, 1.13333333])"
      ]
     },
     "execution_count": 76,
     "metadata": {},
     "output_type": "execute_result"
    }
   ],
   "source": [
    "# np.polyfit(x, y, 1)   // genera los coeficientes lineales para x y y\n",
    "coeficientes = np.polyfit(x, y, 1)\n",
    "coeficientes"
   ]
  },
  {
   "cell_type": "code",
   "execution_count": 77,
   "metadata": {},
   "outputs": [
    {
     "data": {
      "text/plain": [
       "array([1.13333333, 2.1       , 3.06666667, 4.03333333, 5.        ,\n",
       "       5.96666667, 6.93333333, 7.9       , 8.86666667])"
      ]
     },
     "execution_count": 77,
     "metadata": {},
     "output_type": "execute_result"
    }
   ],
   "source": [
    "# y = mx + b\n",
    "m = coeficientes[0]\n",
    "b = coeficientes[1]\n",
    "est_y = (m * x) + b\n",
    "est_y"
   ]
  },
  {
   "cell_type": "code",
   "execution_count": 79,
   "metadata": {},
   "outputs": [
    {
     "data": {
      "image/png": "[encoded data removed]",
      "text/plain": [
       "<Figure size 432x288 with 1 Axes>"
      ]
     },
     "metadata": {
      "needs_background": "light"
     },
     "output_type": "display_data"
    }
   ],
   "source": [
    "plt.plot(x, est_y)\n",
    "plt.scatter(x, y)\n",
    "plt.show()"
   ]
  },
  {
   "cell_type": "code",
   "execution_count": null,
   "metadata": {},
   "outputs": [],
   "source": []
  },
  {
   "cell_type": "code",
   "execution_count": null,
   "metadata": {},
   "outputs": [],
   "source": []
  },
  {
   "cell_type": "code",
   "execution_count": null,
   "metadata": {},
   "outputs": [],
   "source": []
  },
  {
   "cell_type": "code",
   "execution_count": null,
   "metadata": {},
   "outputs": [],
   "source": []
  },
  {
   "cell_type": "code",
   "execution_count": null,
   "metadata": {},
   "outputs": [],
   "source": []
  },
  {
   "cell_type": "code",
   "execution_count": null,
   "metadata": {},
   "outputs": [],
   "source": []
  },
  {
   "cell_type": "code",
   "execution_count": null,
   "metadata": {},
   "outputs": [],
   "source": []
  },
  {
   "cell_type": "code",
   "execution_count": null,
   "metadata": {},
   "outputs": [],
   "source": []
  },
  {
   "cell_type": "code",
   "execution_count": null,
   "metadata": {},
   "outputs": [],
   "source": []
  },
  {
   "cell_type": "code",
   "execution_count": null,
   "metadata": {},
   "outputs": [],
   "source": []
  },
  {
   "cell_type": "code",
   "execution_count": null,
   "metadata": {},
   "outputs": [],
   "source": []
  },
  {
   "cell_type": "code",
   "execution_count": null,
   "metadata": {},
   "outputs": [],
   "source": []
  },
  {
   "cell_type": "code",
   "execution_count": null,
   "metadata": {},
   "outputs": [],
   "source": []
  },
  {
   "cell_type": "code",
   "execution_count": null,
   "metadata": {},
   "outputs": [],
   "source": []
  },
  {
   "cell_type": "code",
   "execution_count": null,
   "metadata": {},
   "outputs": [],
   "source": []
  },
  {
   "cell_type": "code",
   "execution_count": null,
   "metadata": {},
   "outputs": [],
   "source": []
  },
  {
   "cell_type": "code",
   "execution_count": null,
   "metadata": {},
   "outputs": [],
   "source": []
  },
  {
   "cell_type": "code",
   "execution_count": null,
   "metadata": {},
   "outputs": [],
   "source": []
  },
  {
   "cell_type": "code",
   "execution_count": null,
   "metadata": {},
   "outputs": [],
   "source": []
  },
  {
   "cell_type": "code",
   "execution_count": null,
   "metadata": {},
   "outputs": [],
   "source": []
  },
  {
   "cell_type": "code",
   "execution_count": null,
   "metadata": {},
   "outputs": [],
   "source": []
  },
  {
   "cell_type": "code",
   "execution_count": null,
   "metadata": {},
   "outputs": [],
   "source": []
  },
  {
   "cell_type": "code",
   "execution_count": null,
   "metadata": {},
   "outputs": [],
   "source": []
  },
  {
   "cell_type": "code",
   "execution_count": null,
   "metadata": {},
   "outputs": [],
   "source": []
  },
  {
   "cell_type": "code",
   "execution_count": null,
   "metadata": {},
   "outputs": [],
   "source": []
  },
  {
   "cell_type": "code",
   "execution_count": null,
   "metadata": {},
   "outputs": [],
   "source": []
  },
  {
   "cell_type": "code",
   "execution_count": null,
   "metadata": {},
   "outputs": [],
   "source": []
  },
  {
   "cell_type": "code",
   "execution_count": null,
   "metadata": {},
   "outputs": [],
   "source": []
  },
  {
   "cell_type": "code",
   "execution_count": null,
   "metadata": {},
   "outputs": [],
   "source": []
  },
  {
   "cell_type": "code",
   "execution_count": null,
   "metadata": {},
   "outputs": [],
   "source": []
  },
  {
   "cell_type": "code",
   "execution_count": null,
   "metadata": {},
   "outputs": [],
   "source": []
  },
  {
   "cell_type": "code",
   "execution_count": null,
   "metadata": {},
   "outputs": [],
   "source": []
  },
  {
   "cell_type": "code",
   "execution_count": null,
   "metadata": {},
   "outputs": [],
   "source": []
  },
  {
   "cell_type": "code",
   "execution_count": null,
   "metadata": {},
   "outputs": [],
   "source": []
  },
  {
   "cell_type": "code",
   "execution_count": null,
   "metadata": {},
   "outputs": [],
   "source": []
  },
  {
   "cell_type": "code",
   "execution_count": null,
   "metadata": {},
   "outputs": [],
   "source": []
  },
  {
   "cell_type": "code",
   "execution_count": null,
   "metadata": {},
   "outputs": [],
   "source": []
  },
  {
   "cell_type": "code",
   "execution_count": null,
   "metadata": {},
   "outputs": [],
   "source": []
  },
  {
   "cell_type": "code",
   "execution_count": null,
   "metadata": {},
   "outputs": [],
   "source": []
  },
  {
   "cell_type": "code",
   "execution_count": null,
   "metadata": {},
   "outputs": [],
   "source": []
  },
  {
   "cell_type": "code",
   "execution_count": null,
   "metadata": {},
   "outputs": [],
   "source": []
  },
  {
   "cell_type": "code",
   "execution_count": null,
   "metadata": {},
   "outputs": [],
   "source": []
  },
  {
   "cell_type": "code",
   "execution_count": null,
   "metadata": {},
   "outputs": [],
   "source": []
  },
  {
   "cell_type": "code",
   "execution_count": null,
   "metadata": {},
   "outputs": [],
   "source": []
  },
  {
   "cell_type": "code",
   "execution_count": null,
   "metadata": {},
   "outputs": [],
   "source": []
  },
  {
   "cell_type": "code",
   "execution_count": null,
   "metadata": {},
   "outputs": [],
   "source": []
  },
  {
   "cell_type": "code",
   "execution_count": null,
   "metadata": {},
   "outputs": [],
   "source": []
  },
  {
   "cell_type": "code",
   "execution_count": null,
   "metadata": {},
   "outputs": [],
   "source": []
  },
  {
   "cell_type": "code",
   "execution_count": null,
   "metadata": {},
   "outputs": [],
   "source": []
  },
  {
   "cell_type": "code",
   "execution_count": null,
   "metadata": {},
   "outputs": [],
   "source": []
  },
  {
   "cell_type": "code",
   "execution_count": null,
   "metadata": {},
   "outputs": [],
   "source": []
  },
  {
   "cell_type": "code",
   "execution_count": null,
   "metadata": {},
   "outputs": [],
   "source": []
  },
  {
   "cell_type": "code",
   "execution_count": null,
   "metadata": {},
   "outputs": [],
   "source": [
    "\n"
   ]
  },
  {
   "cell_type": "code",
   "execution_count": null,
   "metadata": {},
   "outputs": [],
   "source": []
  },
  {
   "cell_type": "code",
   "execution_count": null,
   "metadata": {},
   "outputs": [],
   "source": []
  },
  {
   "cell_type": "code",
   "execution_count": null,
   "metadata": {},
   "outputs": [],
   "source": []
  },
  {
   "cell_type": "code",
   "execution_count": null,
   "metadata": {},
   "outputs": [],
   "source": []
  }
 ],
 "metadata": {
  "kernelspec": {
   "display_name": "Python 3",
   "language": "python",
   "name": "python3"
  },
  "language_info": {
   "codemirror_mode": {
    "name": "ipython",
    "version": 3
   },
   "file_extension": ".py",
   "mimetype": "text/x-python",
   "name": "python",
   "nbconvert_exporter": "python",
   "pygments_lexer": "ipython3",
   "version": "3.7.3"
  }
 },
 "nbformat": 4,
 "nbformat_minor": 2
}
