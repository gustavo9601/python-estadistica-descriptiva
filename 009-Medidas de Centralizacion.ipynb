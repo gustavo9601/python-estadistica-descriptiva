{
 "cells": [
  {
   "cell_type": "markdown",
   "source": [
    "# Medidas de tendencia central\n",
    "\n",
    "Resumen informacion del conjunto de datos, en un solo numero\n",
    "\n",
    "- Media (promedio)  // Suceptible a valores atipicos (outliers)\n",
    "- Mediana (dato central)\n",
    "- Moda (dato que mas se repite) // No aplica para datos numericos continuos\n",
    "- Media ponderada\n",
    "- Media armonica\n",
    "\n",
    "\n",
    "\n",
    "<img src=\"https://static.platzi.com/media/user_upload/Screenshot_4-8b680ddc-98de-4392-8bd9-ceae687c85a4.jpg\">"
   ],
   "metadata": {
    "collapsed": false,
    "pycharm": {
     "name": "#%% md\n"
    }
   }
  },
  {
   "cell_type": "markdown",
   "source": [
    "### Diagrama de frecuencias\n",
    "\n",
    "<img src=\"https://static.platzi.com/media/user_upload/Untitled%20%281%29-6c9ab365-1d8c-4325-96ab-37f9687a2371.jpg\">"
   ],
   "metadata": {
    "collapsed": false,
    "pycharm": {
     "name": "#%% md\n"
    }
   }
  },
  {
   "cell_type": "markdown",
   "source": [],
   "metadata": {
    "collapsed": false,
    "pycharm": {
     "name": "#%% md\n"
    }
   }
  },
  {
   "cell_type": "code",
   "metadata": {
    "cell_id": "00000-af7bd2dd-e0a1-4209-bd3e-1968f988b087",
    "deepnote_to_be_reexecuted": false,
    "source_hash": "5ccfd783",
    "execution_start": 1627764816045,
    "execution_millis": 853,
    "deepnote_cell_type": "code",
    "pycharm": {
     "name": "#%%\n"
    }
   },
   "source": [
    "import numpy as np\n",
    "import pandas as pd\n",
    "import seaborn as sns\n",
    "\n",
    "edades = np.array([1,2,50,40,20,21,32,41,12,32,5,62,10,2,50,50,10,80])\n",
    "\n"
   ],
   "execution_count": 2,
   "outputs": []
  },
  {
   "cell_type": "code",
   "metadata": {
    "cell_id": "00001-345279d9-a0db-40f4-a600-f4f334b484c6",
    "deepnote_cell_type": "code",
    "pycharm": {
     "name": "#%%\n"
    }
   },
   "source": [
    "# Frecuencias\n",
    "pd.crosstab(index=edades, columns=\"count\")"
   ],
   "execution_count": 3,
   "outputs": [
    {
     "data": {
      "text/plain": "col_0  count\nrow_0       \n1          1\n2          2\n5          1\n10         2\n12         1\n20         1\n21         1\n32         2\n40         1\n41         1\n50         3\n62         1\n80         1",
      "text/html": "<div>\n<style scoped>\n    .dataframe tbody tr th:only-of-type {\n        vertical-align: middle;\n    }\n\n    .dataframe tbody tr th {\n        vertical-align: top;\n    }\n\n    .dataframe thead th {\n        text-align: right;\n    }\n</style>\n<table border=\"1\" class=\"dataframe\">\n  <thead>\n    <tr style=\"text-align: right;\">\n      <th>col_0</th>\n      <th>count</th>\n    </tr>\n    <tr>\n      <th>row_0</th>\n      <th></th>\n    </tr>\n  </thead>\n  <tbody>\n    <tr>\n      <th>1</th>\n      <td>1</td>\n    </tr>\n    <tr>\n      <th>2</th>\n      <td>2</td>\n    </tr>\n    <tr>\n      <th>5</th>\n      <td>1</td>\n    </tr>\n    <tr>\n      <th>10</th>\n      <td>2</td>\n    </tr>\n    <tr>\n      <th>12</th>\n      <td>1</td>\n    </tr>\n    <tr>\n      <th>20</th>\n      <td>1</td>\n    </tr>\n    <tr>\n      <th>21</th>\n      <td>1</td>\n    </tr>\n    <tr>\n      <th>32</th>\n      <td>2</td>\n    </tr>\n    <tr>\n      <th>40</th>\n      <td>1</td>\n    </tr>\n    <tr>\n      <th>41</th>\n      <td>1</td>\n    </tr>\n    <tr>\n      <th>50</th>\n      <td>3</td>\n    </tr>\n    <tr>\n      <th>62</th>\n      <td>1</td>\n    </tr>\n    <tr>\n      <th>80</th>\n      <td>1</td>\n    </tr>\n  </tbody>\n</table>\n</div>"
     },
     "execution_count": 3,
     "metadata": {},
     "output_type": "execute_result"
    }
   ]
  },
  {
   "cell_type": "code",
   "metadata": {
    "cell_id": "00002-2c4c1c43-1bc1-4c62-bce7-634a9d9b12e3",
    "deepnote_cell_type": "code",
    "pycharm": {
     "name": "#%%\n"
    }
   },
   "source": [
    "promedio = np.sum(edades)/len(edades)\n",
    "round(promedio)"
   ],
   "execution_count": null,
   "outputs": [
    {
     "data": {
      "text/plain": "29.0"
     },
     "execution_count": 49,
     "metadata": {},
     "output_type": "execute_result"
    }
   ]
  },
  {
   "cell_type": "code",
   "metadata": {
    "cell_id": "00003-0067b894-63ed-421d-ac5c-c618cea7a77d",
    "deepnote_cell_type": "code",
    "pycharm": {
     "name": "#%%\n"
    }
   },
   "source": [
    "#moda manual\n",
    "\n",
    "repeticiones = 0\n",
    "# For que valida cuantas veces se repite el mayor valor\n",
    "for i in edades:\n",
    "    apariciones = list(edades).count(i)\n",
    "    if apariciones > repeticiones:\n",
    "        repeticiones = apariciones\n",
    "\n",
    "print('repecticions = ', repeticiones)\n",
    "print('apariciones = ',apariciones)\n",
    "\n",
    "#For que determinara cual de todos los repetidos es el que tenga o tiene mayor frecuecnia\n",
    "modas = []\n",
    "for i in edades:\n",
    "    apariciones = list(edades).count(i)\n",
    "    # Se verifica que solo los valores que sean iguales al numero mayor de repeticiones, se pushee al arreglo modas\n",
    "    if apariciones == repeticiones and i not in modas:\n",
    "        modas.append(i)\n",
    "\n",
    "print(\"Modas = \", modas)        "
   ],
   "execution_count": null,
   "outputs": [
    {
     "name": "stdout",
     "output_type": "stream",
     "text": "repecticions =  3\napariciones =  3\nModas =  [50]\n"
    }
   ]
  },
  {
   "cell_type": "code",
   "metadata": {
    "cell_id": "00004-d32643ad-0270-4007-b5bf-9d69fb1ae2b5",
    "deepnote_cell_type": "code",
    "pycharm": {
     "name": "#%%\n"
    }
   },
   "source": [
    "#Mediana manual\n",
    "\n",
    "# .sort(arreglo)  ordena el arreglo\n",
    "edades = np.sort(edades) \n",
    "print('arreglo ordenado = ', edades)\n",
    "\n",
    "cantidad_edades = len(edades)\n",
    "\n",
    "if  cantidad_edades % 2 == 0:  # si es par\n",
    "    mediana = (edades[int(cantidad_edades/2-1)] + edades[int(cantidad_edades/2)])/2\n",
    "else:\n",
    "    posicion = int((cantidad_edades + 1) / 2)\n",
    "    mediana = edades[posicion]\n",
    "\n",
    "print(\"Mediana = \" , mediana)"
   ],
   "execution_count": null,
   "outputs": [
    {
     "name": "stdout",
     "output_type": "stream",
     "text": "arreglo ordenado =  [ 1  2  2  5 10 10 12 20 21 32 32 40 41 50 50 50 62 80]\nMediana =  26.5\n"
    }
   ]
  },
  {
   "cell_type": "code",
   "metadata": {
    "cell_id": "00005-1a709671-795c-4ec9-a2d0-30d0f3219359",
    "deepnote_cell_type": "code",
    "pycharm": {
     "name": "#%%\n"
    }
   },
   "source": [
    "#Con Numpy\n",
    "\n",
    "media = np.mean(edades)\n",
    "print(\"media = \" , media)\n",
    "\n",
    "mediana = np.median(edades)\n",
    "print(\"mediana = \", mediana)\n",
    "\n",
    "moda = pd.crosstab(index=edades, columns=\"count\").to_numpy().max()   # .crosstab genera la agrupacion o la frecuencia absoluta\n",
    "                                                                        # .to_numpy() convierte el datafram a arreglo numpy\n",
    "                                                                         # max() obtiene el maximo valor\n",
    "print(\"moda = \", moda)"
   ],
   "execution_count": 4,
   "outputs": [
    {
     "name": "stdout",
     "output_type": "stream",
     "text": [
      "media =  28.88888888888889\n",
      "mediana =  26.5\n",
      "moda =  3\n"
     ]
    }
   ]
  },
  {
   "cell_type": "code",
   "metadata": {
    "cell_id": "00006-0d6be6dc-e8f6-46c4-ad84-c31f961c0796",
    "deepnote_cell_type": "code",
    "pycharm": {
     "name": "#%%\n"
    }
   },
   "source": [
    "# Media ponderada  \n",
    "# Ejemplo las notas de la universidad , ya que cada una vale cierto porcentaje\n",
    "\n",
    "notas = np.array([5,3,2])\n",
    "peso_notas = np.array([30,30,40])\n",
    "\n",
    "nota_ponderada =sum(notas*peso_notas) / sum(peso_notas)\n",
    "print(\"nota_ponderada = \", nota_ponderada)\n",
    "\n"
   ],
   "execution_count": null,
   "outputs": [
    {
     "name": "stdout",
     "output_type": "stream",
     "text": "nota_ponderada =  3.2\n"
    }
   ]
  },
  {
   "cell_type": "code",
   "metadata": {
    "cell_id": "00007-e8bf1f66-9736-422a-96b2-1d6a47733983",
    "deepnote_cell_type": "code",
    "pycharm": {
     "name": "#%%\n"
    }
   },
   "source": [
    "# Media Geometrica\n",
    "\n",
    "\n",
    "datos = np.array([32,45,67,43,28,17,48,95])\n",
    "\n",
    "\n",
    "media_geometrica = np.prod(datos)**(1/len(datos))\n",
    "print(\"media_geometrica =  \", media_geometrica)"
   ],
   "execution_count": null,
   "outputs": [
    {
     "name": "stdout",
     "output_type": "stream",
     "text": "media_geometrica =   -1674381312.0\n"
    }
   ]
  },
  {
   "cell_type": "code",
   "metadata": {
    "cell_id": "00008-be1187a3-506b-4899-97a1-18d191c231e3",
    "deepnote_cell_type": "code",
    "pycharm": {
     "name": "#%%\n"
    }
   },
   "source": [
    "# Media armonica\n",
    "# Es un promedio util cuando tenemos observaciones que se definien en relacion a una unidad\n",
    "\n",
    "len(datos)/sum(1/datos)"
   ],
   "execution_count": null,
   "outputs": [
    {
     "data": {
      "text/plain": "36.77300793662041"
     },
     "execution_count": 101,
     "metadata": {},
     "output_type": "execute_result"
    }
   ]
  },
  {
   "cell_type": "code",
   "metadata": {
    "cell_id": "00010-7fe68256-6ee8-421a-aeeb-bef483884a49",
    "deepnote_cell_type": "code",
    "pycharm": {
     "name": "#%%\n"
    }
   },
   "source": [],
   "execution_count": null,
   "outputs": []
  },
  {
   "cell_type": "markdown",
   "source": [
    "# Ejemplo practico"
   ],
   "metadata": {
    "tags": [],
    "cell_id": "00010-a83f9971-fafb-4890-834c-b3c0af7c9980",
    "deepnote_cell_type": "markdown",
    "pycharm": {
     "name": "#%% md\n"
    }
   }
  },
  {
   "cell_type": "code",
   "source": [
    "import pandas as pd \n",
    "\n",
    "df = pd.read_csv('./data/cars.csv')\n",
    "df.head()"
   ],
   "metadata": {
    "tags": [],
    "cell_id": "00011-dafcfa4e-1760-48b0-bf9c-2ac227484361",
    "deepnote_to_be_reexecuted": false,
    "source_hash": "742e68ef",
    "execution_start": 1627764665051,
    "execution_millis": 1068,
    "deepnote_cell_type": "code",
    "pycharm": {
     "name": "#%%\n"
    }
   },
   "outputs": [
    {
     "data": {
      "text/plain": "  manufacturer_name model_name transmission   color  odometer_value  \\\n0            Subaru    Outback    automatic  silver          190000   \n1            Subaru    Outback    automatic    blue          290000   \n2            Subaru   Forester    automatic     red          402000   \n3            Subaru    Impreza   mechanical    blue           10000   \n4            Subaru     Legacy    automatic   black          280000   \n\n   year_produced engine_fuel  engine_has_gas engine_type  engine_capacity  \\\n0           2010    gasoline           False    gasoline              2.5   \n1           2002    gasoline           False    gasoline              3.0   \n2           2001    gasoline           False    gasoline              2.5   \n3           1999    gasoline           False    gasoline              3.0   \n4           2001    gasoline           False    gasoline              2.5   \n\n   ... feature_1  feature_2 feature_3 feature_4  feature_5  feature_6  \\\n0  ...      True       True      True     False       True      False   \n1  ...      True      False     False      True       True      False   \n2  ...      True      False     False     False      False      False   \n3  ...     False      False     False     False      False      False   \n4  ...      True      False      True      True      False      False   \n\n  feature_7  feature_8  feature_9  duration_listed  \n0      True       True       True               16  \n1     False      False       True               83  \n2     False       True       True              151  \n3     False      False      False               86  \n4     False      False       True                7  \n\n[5 rows x 30 columns]",
      "text/html": "<div>\n<style scoped>\n    .dataframe tbody tr th:only-of-type {\n        vertical-align: middle;\n    }\n\n    .dataframe tbody tr th {\n        vertical-align: top;\n    }\n\n    .dataframe thead th {\n        text-align: right;\n    }\n</style>\n<table border=\"1\" class=\"dataframe\">\n  <thead>\n    <tr style=\"text-align: right;\">\n      <th></th>\n      <th>manufacturer_name</th>\n      <th>model_name</th>\n      <th>transmission</th>\n      <th>color</th>\n      <th>odometer_value</th>\n      <th>year_produced</th>\n      <th>engine_fuel</th>\n      <th>engine_has_gas</th>\n      <th>engine_type</th>\n      <th>engine_capacity</th>\n      <th>...</th>\n      <th>feature_1</th>\n      <th>feature_2</th>\n      <th>feature_3</th>\n      <th>feature_4</th>\n      <th>feature_5</th>\n      <th>feature_6</th>\n      <th>feature_7</th>\n      <th>feature_8</th>\n      <th>feature_9</th>\n      <th>duration_listed</th>\n    </tr>\n  </thead>\n  <tbody>\n    <tr>\n      <th>0</th>\n      <td>Subaru</td>\n      <td>Outback</td>\n      <td>automatic</td>\n      <td>silver</td>\n      <td>190000</td>\n      <td>2010</td>\n      <td>gasoline</td>\n      <td>False</td>\n      <td>gasoline</td>\n      <td>2.5</td>\n      <td>...</td>\n      <td>True</td>\n      <td>True</td>\n      <td>True</td>\n      <td>False</td>\n      <td>True</td>\n      <td>False</td>\n      <td>True</td>\n      <td>True</td>\n      <td>True</td>\n      <td>16</td>\n    </tr>\n    <tr>\n      <th>1</th>\n      <td>Subaru</td>\n      <td>Outback</td>\n      <td>automatic</td>\n      <td>blue</td>\n      <td>290000</td>\n      <td>2002</td>\n      <td>gasoline</td>\n      <td>False</td>\n      <td>gasoline</td>\n      <td>3.0</td>\n      <td>...</td>\n      <td>True</td>\n      <td>False</td>\n      <td>False</td>\n      <td>True</td>\n      <td>True</td>\n      <td>False</td>\n      <td>False</td>\n      <td>False</td>\n      <td>True</td>\n      <td>83</td>\n    </tr>\n    <tr>\n      <th>2</th>\n      <td>Subaru</td>\n      <td>Forester</td>\n      <td>automatic</td>\n      <td>red</td>\n      <td>402000</td>\n      <td>2001</td>\n      <td>gasoline</td>\n      <td>False</td>\n      <td>gasoline</td>\n      <td>2.5</td>\n      <td>...</td>\n      <td>True</td>\n      <td>False</td>\n      <td>False</td>\n      <td>False</td>\n      <td>False</td>\n      <td>False</td>\n      <td>False</td>\n      <td>True</td>\n      <td>True</td>\n      <td>151</td>\n    </tr>\n    <tr>\n      <th>3</th>\n      <td>Subaru</td>\n      <td>Impreza</td>\n      <td>mechanical</td>\n      <td>blue</td>\n      <td>10000</td>\n      <td>1999</td>\n      <td>gasoline</td>\n      <td>False</td>\n      <td>gasoline</td>\n      <td>3.0</td>\n      <td>...</td>\n      <td>False</td>\n      <td>False</td>\n      <td>False</td>\n      <td>False</td>\n      <td>False</td>\n      <td>False</td>\n      <td>False</td>\n      <td>False</td>\n      <td>False</td>\n      <td>86</td>\n    </tr>\n    <tr>\n      <th>4</th>\n      <td>Subaru</td>\n      <td>Legacy</td>\n      <td>automatic</td>\n      <td>black</td>\n      <td>280000</td>\n      <td>2001</td>\n      <td>gasoline</td>\n      <td>False</td>\n      <td>gasoline</td>\n      <td>2.5</td>\n      <td>...</td>\n      <td>True</td>\n      <td>False</td>\n      <td>True</td>\n      <td>True</td>\n      <td>False</td>\n      <td>False</td>\n      <td>False</td>\n      <td>False</td>\n      <td>True</td>\n      <td>7</td>\n    </tr>\n  </tbody>\n</table>\n<p>5 rows × 30 columns</p>\n</div>"
     },
     "execution_count": 6,
     "metadata": {},
     "output_type": "execute_result"
    }
   ],
   "execution_count": 6
  },
  {
   "cell_type": "code",
   "metadata": {
    "cell_id": "00011-482b3d3e-a52c-4147-a230-3c1f2b6a8e48",
    "deepnote_to_be_reexecuted": false,
    "source_hash": "c7d1671b",
    "execution_start": 1627764680339,
    "execution_millis": 13,
    "deepnote_cell_type": "code",
    "pycharm": {
     "name": "#%%\n"
    }
   },
   "source": [
    "# Media\n",
    "\n",
    "df['price_usd'].mean()"
   ],
   "execution_count": 2,
   "outputs": [
    {
     "output_type": "execute_result",
     "execution_count": 2,
     "data": {
      "text/plain": "6639.971021255613"
     },
     "metadata": {}
    }
   ]
  },
  {
   "cell_type": "code",
   "metadata": {
    "cell_id": "00012-0b11f004-f9a8-45ab-90ec-e35cd8088995",
    "deepnote_to_be_reexecuted": false,
    "source_hash": "b7a97061",
    "execution_start": 1627764694854,
    "execution_millis": 16,
    "deepnote_cell_type": "code",
    "pycharm": {
     "name": "#%%\n"
    }
   },
   "source": [
    "df['price_usd'].median()"
   ],
   "execution_count": 3,
   "outputs": [
    {
     "output_type": "execute_result",
     "execution_count": 3,
     "data": {
      "text/plain": "4800.0"
     },
     "metadata": {}
    }
   ]
  },
  {
   "cell_type": "code",
   "metadata": {
    "cell_id": "00013-513405bd-dd7b-40ea-b8a3-8958d1e9f787",
    "deepnote_to_be_reexecuted": false,
    "source_hash": "2f3ead91",
    "execution_start": 1627764727691,
    "execution_millis": 1488,
    "deepnote_cell_type": "code",
    "pycharm": {
     "name": "#%%\n"
    }
   },
   "source": [
    "# Histograma ya que es un valor continuo\n",
    "# bins = cantidad de divisiones  \n",
    "df['price_usd'].plot.hist(bins=10)"
   ],
   "execution_count": 13,
   "outputs": [
    {
     "data": {
      "text/plain": "<AxesSubplot:ylabel='Frequency'>"
     },
     "execution_count": 13,
     "metadata": {},
     "output_type": "execute_result"
    },
    {
     "data": {
      "text/plain": "<Figure size 432x288 with 1 Axes>",
      "image/png": "[encoded data removed]"
     },
     "metadata": {},
     "output_type": "display_data"
    }
   ]
  },
  {
   "cell_type": "code",
   "metadata": {
    "cell_id": "00014-070e089d-77e9-433d-a111-a2059bf76a11",
    "deepnote_to_be_reexecuted": false,
    "source_hash": "9aa5fe8e",
    "execution_start": 1627764931353,
    "execution_millis": 28546,
    "deepnote_cell_type": "code",
    "pycharm": {
     "name": "#%%\n"
    }
   },
   "source": [
    "# x='price_usd' // Valor que tomara el histograma\n",
    "# hue='mnufacturer_name' // Agrupacion para cada histograma \n",
    "sns.displot(df, x='price_usd', hue='manufacturer_name')"
   ],
   "execution_count": 14,
   "outputs": [
    {
     "data": {
      "text/plain": "<seaborn.axisgrid.FacetGrid at 0x1a9d9e57c40>"
     },
     "execution_count": 14,
     "metadata": {},
     "output_type": "execute_result"
    },
    {
     "data": {
      "text/plain": "<Figure size 466.125x360 with 1 Axes>",
      "image/png": "[encoded data removed]"
     },
     "metadata": {},
     "output_type": "display_data"
    }
   ]
  },
  {
   "cell_type": "code",
   "metadata": {
    "cell_id": "00015-1389f9f9-1041-4a9f-ade8-de4cfd705160",
    "deepnote_to_be_reexecuted": false,
    "source_hash": "b2b110f",
    "execution_start": 1627765070481,
    "execution_millis": 1918,
    "deepnote_cell_type": "code",
    "pycharm": {
     "name": "#%%\n"
    }
   },
   "source": [
    "# x='price_usd' // Valor que tomara el histograma\n",
    "# hue='engyne_type' // Agrupacion para cada histograma \n",
    "# multiple='stack' // Indica que se superponga \n",
    "sns.displot(df, x='price_usd', hue='engine_type', multiple='stack')"
   ],
   "execution_count": 20,
   "outputs": [
    {
     "data": {
      "text/plain": "<seaborn.axisgrid.FacetGrid at 0x1a9db5c0430>"
     },
     "execution_count": 20,
     "metadata": {},
     "output_type": "execute_result"
    },
    {
     "data": {
      "text/plain": "<Figure size 433.625x360 with 1 Axes>",
      "image/png": "[encoded data removed]"
     },
     "metadata": {},
     "output_type": "display_data"
    }
   ]
  },
  {
   "cell_type": "code",
   "metadata": {
    "cell_id": "00016-65e75a82-533f-4419-8838-777f8b96a8e5",
    "deepnote_to_be_reexecuted": false,
    "source_hash": "5450ff2d",
    "execution_start": 1627765157002,
    "execution_millis": 112,
    "deepnote_cell_type": "code",
    "pycharm": {
     "name": "#%%\n"
    }
   },
   "source": [
    "df.groupby(['engine_type']).count()"
   ],
   "execution_count": 10,
   "outputs": [
    {
     "output_type": "execute_result",
     "execution_count": 10,
     "data": {
      "application/vnd.deepnote.dataframe.v2+json": {
       "row_count": 3,
       "column_count": 29,
       "columns": [
        {
         "name": "manufacturer_name",
         "dtype": "int64",
         "stats": {
          "unique_count": 3,
          "nan_count": 0,
          "min": "10",
          "max": "25647",
          "histogram": [
           {
            "bin_start": 10,
            "bin_end": 2573.7,
            "count": 1
           },
           {
            "bin_start": 2573.7,
            "bin_end": 5137.4,
            "count": 0
           },
           {
            "bin_start": 5137.4,
            "bin_end": 7701.099999999999,
            "count": 0
           },
           {
            "bin_start": 7701.099999999999,
            "bin_end": 10264.8,
            "count": 0
           },
           {
            "bin_start": 10264.8,
            "bin_end": 12828.5,
            "count": 0
           },
           {
            "bin_start": 12828.5,
            "bin_end": 15392.199999999999,
            "count": 1
           },
           {
            "bin_start": 15392.199999999999,
            "bin_end": 17955.899999999998,
            "count": 0
           },
           {
            "bin_start": 17955.899999999998,
            "bin_end": 20519.6,
            "count": 0
           },
           {
            "bin_start": 20519.6,
            "bin_end": 23083.3,
            "count": 0
           },
           {
            "bin_start": 23083.3,
            "bin_end": 25647,
            "count": 1
           }
          ]
         }
        },
        {
         "name": "model_name",
         "dtype": "int64",
         "stats": {
          "unique_count": 3,
          "nan_count": 0,
          "min": "10",
          "max": "25647",
          "histogram": [
           {
            "bin_start": 10,
            "bin_end": 2573.7,
            "count": 1
           },
           {
            "bin_start": 2573.7,
            "bin_end": 5137.4,
            "count": 0
           },
           {
            "bin_start": 5137.4,
            "bin_end": 7701.099999999999,
            "count": 0
           },
           {
            "bin_start": 7701.099999999999,
            "bin_end": 10264.8,
            "count": 0
           },
           {
            "bin_start": 10264.8,
            "bin_end": 12828.5,
            "count": 0
           },
           {
            "bin_start": 12828.5,
            "bin_end": 15392.199999999999,
            "count": 1
           },
           {
            "bin_start": 15392.199999999999,
            "bin_end": 17955.899999999998,
            "count": 0
           },
           {
            "bin_start": 17955.899999999998,
            "bin_end": 20519.6,
            "count": 0
           },
           {
            "bin_start": 20519.6,
            "bin_end": 23083.3,
            "count": 0
           },
           {
            "bin_start": 23083.3,
            "bin_end": 25647,
            "count": 1
           }
          ]
         }
        },
        {
         "name": "transmission",
         "dtype": "int64",
         "stats": {
          "unique_count": 3,
          "nan_count": 0,
          "min": "10",
          "max": "25647",
          "histogram": [
           {
            "bin_start": 10,
            "bin_end": 2573.7,
            "count": 1
           },
           {
            "bin_start": 2573.7,
            "bin_end": 5137.4,
            "count": 0
           },
           {
            "bin_start": 5137.4,
            "bin_end": 7701.099999999999,
            "count": 0
           },
           {
            "bin_start": 7701.099999999999,
            "bin_end": 10264.8,
            "count": 0
           },
           {
            "bin_start": 10264.8,
            "bin_end": 12828.5,
            "count": 0
           },
           {
            "bin_start": 12828.5,
            "bin_end": 15392.199999999999,
            "count": 1
           },
           {
            "bin_start": 15392.199999999999,
            "bin_end": 17955.899999999998,
            "count": 0
           },
           {
            "bin_start": 17955.899999999998,
            "bin_end": 20519.6,
            "count": 0
           },
           {
            "bin_start": 20519.6,
            "bin_end": 23083.3,
            "count": 0
           },
           {
            "bin_start": 23083.3,
            "bin_end": 25647,
            "count": 1
           }
          ]
         }
        },
        {
         "name": "color",
         "dtype": "int64",
         "stats": {
          "unique_count": 3,
          "nan_count": 0,
          "min": "10",
          "max": "25647",
          "histogram": [
           {
            "bin_start": 10,
            "bin_end": 2573.7,
            "count": 1
           },
           {
            "bin_start": 2573.7,
            "bin_end": 5137.4,
            "count": 0
           },
           {
            "bin_start": 5137.4,
            "bin_end": 7701.099999999999,
            "count": 0
           },
           {
            "bin_start": 7701.099999999999,
            "bin_end": 10264.8,
            "count": 0
           },
           {
            "bin_start": 10264.8,
            "bin_end": 12828.5,
            "count": 0
           },
           {
            "bin_start": 12828.5,
            "bin_end": 15392.199999999999,
            "count": 1
           },
           {
            "bin_start": 15392.199999999999,
            "bin_end": 17955.899999999998,
            "count": 0
           },
           {
            "bin_start": 17955.899999999998,
            "bin_end": 20519.6,
            "count": 0
           },
           {
            "bin_start": 20519.6,
            "bin_end": 23083.3,
            "count": 0
           },
           {
            "bin_start": 23083.3,
            "bin_end": 25647,
            "count": 1
           }
          ]
         }
        },
        {
         "name": "odometer_value",
         "dtype": "int64",
         "stats": {
          "unique_count": 3,
          "nan_count": 0,
          "min": "10",
          "max": "25647",
          "histogram": [
           {
            "bin_start": 10,
            "bin_end": 2573.7,
            "count": 1
           },
           {
            "bin_start": 2573.7,
            "bin_end": 5137.4,
            "count": 0
           },
           {
            "bin_start": 5137.4,
            "bin_end": 7701.099999999999,
            "count": 0
           },
           {
            "bin_start": 7701.099999999999,
            "bin_end": 10264.8,
            "count": 0
           },
           {
            "bin_start": 10264.8,
            "bin_end": 12828.5,
            "count": 0
           },
           {
            "bin_start": 12828.5,
            "bin_end": 15392.199999999999,
            "count": 1
           },
           {
            "bin_start": 15392.199999999999,
            "bin_end": 17955.899999999998,
            "count": 0
           },
           {
            "bin_start": 17955.899999999998,
            "bin_end": 20519.6,
            "count": 0
           },
           {
            "bin_start": 20519.6,
            "bin_end": 23083.3,
            "count": 0
           },
           {
            "bin_start": 23083.3,
            "bin_end": 25647,
            "count": 1
           }
          ]
         }
        },
        {
         "name": "year_produced",
         "dtype": "int64",
         "stats": {
          "unique_count": 3,
          "nan_count": 0,
          "min": "10",
          "max": "25647",
          "histogram": [
           {
            "bin_start": 10,
            "bin_end": 2573.7,
            "count": 1
           },
           {
            "bin_start": 2573.7,
            "bin_end": 5137.4,
            "count": 0
           },
           {
            "bin_start": 5137.4,
            "bin_end": 7701.099999999999,
            "count": 0
           },
           {
            "bin_start": 7701.099999999999,
            "bin_end": 10264.8,
            "count": 0
           },
           {
            "bin_start": 10264.8,
            "bin_end": 12828.5,
            "count": 0
           },
           {
            "bin_start": 12828.5,
            "bin_end": 15392.199999999999,
            "count": 1
           },
           {
            "bin_start": 15392.199999999999,
            "bin_end": 17955.899999999998,
            "count": 0
           },
           {
            "bin_start": 17955.899999999998,
            "bin_end": 20519.6,
            "count": 0
           },
           {
            "bin_start": 20519.6,
            "bin_end": 23083.3,
            "count": 0
           },
           {
            "bin_start": 23083.3,
            "bin_end": 25647,
            "count": 1
           }
          ]
         }
        },
        {
         "name": "engine_fuel",
         "dtype": "int64",
         "stats": {
          "unique_count": 3,
          "nan_count": 0,
          "min": "10",
          "max": "25647",
          "histogram": [
           {
            "bin_start": 10,
            "bin_end": 2573.7,
            "count": 1
           },
           {
            "bin_start": 2573.7,
            "bin_end": 5137.4,
            "count": 0
           },
           {
            "bin_start": 5137.4,
            "bin_end": 7701.099999999999,
            "count": 0
           },
           {
            "bin_start": 7701.099999999999,
            "bin_end": 10264.8,
            "count": 0
           },
           {
            "bin_start": 10264.8,
            "bin_end": 12828.5,
            "count": 0
           },
           {
            "bin_start": 12828.5,
            "bin_end": 15392.199999999999,
            "count": 1
           },
           {
            "bin_start": 15392.199999999999,
            "bin_end": 17955.899999999998,
            "count": 0
           },
           {
            "bin_start": 17955.899999999998,
            "bin_end": 20519.6,
            "count": 0
           },
           {
            "bin_start": 20519.6,
            "bin_end": 23083.3,
            "count": 0
           },
           {
            "bin_start": 23083.3,
            "bin_end": 25647,
            "count": 1
           }
          ]
         }
        },
        {
         "name": "engine_has_gas",
         "dtype": "int64",
         "stats": {
          "unique_count": 3,
          "nan_count": 0,
          "min": "10",
          "max": "25647",
          "histogram": [
           {
            "bin_start": 10,
            "bin_end": 2573.7,
            "count": 1
           },
           {
            "bin_start": 2573.7,
            "bin_end": 5137.4,
            "count": 0
           },
           {
            "bin_start": 5137.4,
            "bin_end": 7701.099999999999,
            "count": 0
           },
           {
            "bin_start": 7701.099999999999,
            "bin_end": 10264.8,
            "count": 0
           },
           {
            "bin_start": 10264.8,
            "bin_end": 12828.5,
            "count": 0
           },
           {
            "bin_start": 12828.5,
            "bin_end": 15392.199999999999,
            "count": 1
           },
           {
            "bin_start": 15392.199999999999,
            "bin_end": 17955.899999999998,
            "count": 0
           },
           {
            "bin_start": 17955.899999999998,
            "bin_end": 20519.6,
            "count": 0
           },
           {
            "bin_start": 20519.6,
            "bin_end": 23083.3,
            "count": 0
           },
           {
            "bin_start": 23083.3,
            "bin_end": 25647,
            "count": 1
           }
          ]
         }
        },
        {
         "name": "engine_capacity",
         "dtype": "int64",
         "stats": {
          "unique_count": 3,
          "nan_count": 0,
          "min": "0",
          "max": "25647",
          "histogram": [
           {
            "bin_start": 0,
            "bin_end": 2564.7,
            "count": 1
           },
           {
            "bin_start": 2564.7,
            "bin_end": 5129.4,
            "count": 0
           },
           {
            "bin_start": 5129.4,
            "bin_end": 7694.099999999999,
            "count": 0
           },
           {
            "bin_start": 7694.099999999999,
            "bin_end": 10258.8,
            "count": 0
           },
           {
            "bin_start": 10258.8,
            "bin_end": 12823.5,
            "count": 0
           },
           {
            "bin_start": 12823.5,
            "bin_end": 15388.199999999999,
            "count": 1
           },
           {
            "bin_start": 15388.199999999999,
            "bin_end": 17952.899999999998,
            "count": 0
           },
           {
            "bin_start": 17952.899999999998,
            "bin_end": 20517.6,
            "count": 0
           },
           {
            "bin_start": 20517.6,
            "bin_end": 23082.3,
            "count": 0
           },
           {
            "bin_start": 23082.3,
            "bin_end": 25647,
            "count": 1
           }
          ]
         }
        },
        {
         "name": "body_type",
         "dtype": "int64",
         "stats": {
          "unique_count": 3,
          "nan_count": 0,
          "min": "10",
          "max": "25647",
          "histogram": [
           {
            "bin_start": 10,
            "bin_end": 2573.7,
            "count": 1
           },
           {
            "bin_start": 2573.7,
            "bin_end": 5137.4,
            "count": 0
           },
           {
            "bin_start": 5137.4,
            "bin_end": 7701.099999999999,
            "count": 0
           },
           {
            "bin_start": 7701.099999999999,
            "bin_end": 10264.8,
            "count": 0
           },
           {
            "bin_start": 10264.8,
            "bin_end": 12828.5,
            "count": 0
           },
           {
            "bin_start": 12828.5,
            "bin_end": 15392.199999999999,
            "count": 1
           },
           {
            "bin_start": 15392.199999999999,
            "bin_end": 17955.899999999998,
            "count": 0
           },
           {
            "bin_start": 17955.899999999998,
            "bin_end": 20519.6,
            "count": 0
           },
           {
            "bin_start": 20519.6,
            "bin_end": 23083.3,
            "count": 0
           },
           {
            "bin_start": 23083.3,
            "bin_end": 25647,
            "count": 1
           }
          ]
         }
        },
        {
         "name": "has_warranty",
         "dtype": "int64",
         "stats": {
          "unique_count": 3,
          "nan_count": 0,
          "min": "10",
          "max": "25647",
          "histogram": [
           {
            "bin_start": 10,
            "bin_end": 2573.7,
            "count": 1
           },
           {
            "bin_start": 2573.7,
            "bin_end": 5137.4,
            "count": 0
           },
           {
            "bin_start": 5137.4,
            "bin_end": 7701.099999999999,
            "count": 0
           },
           {
            "bin_start": 7701.099999999999,
            "bin_end": 10264.8,
            "count": 0
           },
           {
            "bin_start": 10264.8,
            "bin_end": 12828.5,
            "count": 0
           },
           {
            "bin_start": 12828.5,
            "bin_end": 15392.199999999999,
            "count": 1
           },
           {
            "bin_start": 15392.199999999999,
            "bin_end": 17955.899999999998,
            "count": 0
           },
           {
            "bin_start": 17955.899999999998,
            "bin_end": 20519.6,
            "count": 0
           },
           {
            "bin_start": 20519.6,
            "bin_end": 23083.3,
            "count": 0
           },
           {
            "bin_start": 23083.3,
            "bin_end": 25647,
            "count": 1
           }
          ]
         }
        },
        {
         "name": "state",
         "dtype": "int64",
         "stats": {
          "unique_count": 3,
          "nan_count": 0,
          "min": "10",
          "max": "25647",
          "histogram": [
           {
            "bin_start": 10,
            "bin_end": 2573.7,
            "count": 1
           },
           {
            "bin_start": 2573.7,
            "bin_end": 5137.4,
            "count": 0
           },
           {
            "bin_start": 5137.4,
            "bin_end": 7701.099999999999,
            "count": 0
           },
           {
            "bin_start": 7701.099999999999,
            "bin_end": 10264.8,
            "count": 0
           },
           {
            "bin_start": 10264.8,
            "bin_end": 12828.5,
            "count": 0
           },
           {
            "bin_start": 12828.5,
            "bin_end": 15392.199999999999,
            "count": 1
           },
           {
            "bin_start": 15392.199999999999,
            "bin_end": 17955.899999999998,
            "count": 0
           },
           {
            "bin_start": 17955.899999999998,
            "bin_end": 20519.6,
            "count": 0
           },
           {
            "bin_start": 20519.6,
            "bin_end": 23083.3,
            "count": 0
           },
           {
            "bin_start": 23083.3,
            "bin_end": 25647,
            "count": 1
           }
          ]
         }
        },
        {
         "name": "drivetrain",
         "dtype": "int64",
         "stats": {
          "unique_count": 3,
          "nan_count": 0,
          "min": "10",
          "max": "25647",
          "histogram": [
           {
            "bin_start": 10,
            "bin_end": 2573.7,
            "count": 1
           },
           {
            "bin_start": 2573.7,
            "bin_end": 5137.4,
            "count": 0
           },
           {
            "bin_start": 5137.4,
            "bin_end": 7701.099999999999,
            "count": 0
           },
           {
            "bin_start": 7701.099999999999,
            "bin_end": 10264.8,
            "count": 0
           },
           {
            "bin_start": 10264.8,
            "bin_end": 12828.5,
            "count": 0
           },
           {
            "bin_start": 12828.5,
            "bin_end": 15392.199999999999,
            "count": 1
           },
           {
            "bin_start": 15392.199999999999,
            "bin_end": 17955.899999999998,
            "count": 0
           },
           {
            "bin_start": 17955.899999999998,
            "bin_end": 20519.6,
            "count": 0
           },
           {
            "bin_start": 20519.6,
            "bin_end": 23083.3,
            "count": 0
           },
           {
            "bin_start": 23083.3,
            "bin_end": 25647,
            "count": 1
           }
          ]
         }
        },
        {
         "name": "price_usd",
         "dtype": "int64",
         "stats": {
          "unique_count": 3,
          "nan_count": 0,
          "min": "10",
          "max": "25647",
          "histogram": [
           {
            "bin_start": 10,
            "bin_end": 2573.7,
            "count": 1
           },
           {
            "bin_start": 2573.7,
            "bin_end": 5137.4,
            "count": 0
           },
           {
            "bin_start": 5137.4,
            "bin_end": 7701.099999999999,
            "count": 0
           },
           {
            "bin_start": 7701.099999999999,
            "bin_end": 10264.8,
            "count": 0
           },
           {
            "bin_start": 10264.8,
            "bin_end": 12828.5,
            "count": 0
           },
           {
            "bin_start": 12828.5,
            "bin_end": 15392.199999999999,
            "count": 1
           },
           {
            "bin_start": 15392.199999999999,
            "bin_end": 17955.899999999998,
            "count": 0
           },
           {
            "bin_start": 17955.899999999998,
            "bin_end": 20519.6,
            "count": 0
           },
           {
            "bin_start": 20519.6,
            "bin_end": 23083.3,
            "count": 0
           },
           {
            "bin_start": 23083.3,
            "bin_end": 25647,
            "count": 1
           }
          ]
         }
        },
        {
         "name": "is_exchangeable",
         "dtype": "int64",
         "stats": {
          "unique_count": 3,
          "nan_count": 0,
          "min": "10",
          "max": "25647",
          "histogram": [
           {
            "bin_start": 10,
            "bin_end": 2573.7,
            "count": 1
           },
           {
            "bin_start": 2573.7,
            "bin_end": 5137.4,
            "count": 0
           },
           {
            "bin_start": 5137.4,
            "bin_end": 7701.099999999999,
            "count": 0
           },
           {
            "bin_start": 7701.099999999999,
            "bin_end": 10264.8,
            "count": 0
           },
           {
            "bin_start": 10264.8,
            "bin_end": 12828.5,
            "count": 0
           },
           {
            "bin_start": 12828.5,
            "bin_end": 15392.199999999999,
            "count": 1
           },
           {
            "bin_start": 15392.199999999999,
            "bin_end": 17955.899999999998,
            "count": 0
           },
           {
            "bin_start": 17955.899999999998,
            "bin_end": 20519.6,
            "count": 0
           },
           {
            "bin_start": 20519.6,
            "bin_end": 23083.3,
            "count": 0
           },
           {
            "bin_start": 23083.3,
            "bin_end": 25647,
            "count": 1
           }
          ]
         }
        },
        {
         "name": "location_region",
         "dtype": "int64",
         "stats": {
          "unique_count": 3,
          "nan_count": 0,
          "min": "10",
          "max": "25647",
          "histogram": [
           {
            "bin_start": 10,
            "bin_end": 2573.7,
            "count": 1
           },
           {
            "bin_start": 2573.7,
            "bin_end": 5137.4,
            "count": 0
           },
           {
            "bin_start": 5137.4,
            "bin_end": 7701.099999999999,
            "count": 0
           },
           {
            "bin_start": 7701.099999999999,
            "bin_end": 10264.8,
            "count": 0
           },
           {
            "bin_start": 10264.8,
            "bin_end": 12828.5,
            "count": 0
           },
           {
            "bin_start": 12828.5,
            "bin_end": 15392.199999999999,
            "count": 1
           },
           {
            "bin_start": 15392.199999999999,
            "bin_end": 17955.899999999998,
            "count": 0
           },
           {
            "bin_start": 17955.899999999998,
            "bin_end": 20519.6,
            "count": 0
           },
           {
            "bin_start": 20519.6,
            "bin_end": 23083.3,
            "count": 0
           },
           {
            "bin_start": 23083.3,
            "bin_end": 25647,
            "count": 1
           }
          ]
         }
        },
        {
         "name": "number_of_photos",
         "dtype": "int64",
         "stats": {
          "unique_count": 3,
          "nan_count": 0,
          "min": "10",
          "max": "25647",
          "histogram": [
           {
            "bin_start": 10,
            "bin_end": 2573.7,
            "count": 1
           },
           {
            "bin_start": 2573.7,
            "bin_end": 5137.4,
            "count": 0
           },
           {
            "bin_start": 5137.4,
            "bin_end": 7701.099999999999,
            "count": 0
           },
           {
            "bin_start": 7701.099999999999,
            "bin_end": 10264.8,
            "count": 0
           },
           {
            "bin_start": 10264.8,
            "bin_end": 12828.5,
            "count": 0
           },
           {
            "bin_start": 12828.5,
            "bin_end": 15392.199999999999,
            "count": 1
           },
           {
            "bin_start": 15392.199999999999,
            "bin_end": 17955.899999999998,
            "count": 0
           },
           {
            "bin_start": 17955.899999999998,
            "bin_end": 20519.6,
            "count": 0
           },
           {
            "bin_start": 20519.6,
            "bin_end": 23083.3,
            "count": 0
           },
           {
            "bin_start": 23083.3,
            "bin_end": 25647,
            "count": 1
           }
          ]
         }
        },
        {
         "name": "up_counter",
         "dtype": "int64",
         "stats": {
          "unique_count": 3,
          "nan_count": 0,
          "min": "10",
          "max": "25647",
          "histogram": [
           {
            "bin_start": 10,
            "bin_end": 2573.7,
            "count": 1
           },
           {
            "bin_start": 2573.7,
            "bin_end": 5137.4,
            "count": 0
           },
           {
            "bin_start": 5137.4,
            "bin_end": 7701.099999999999,
            "count": 0
           },
           {
            "bin_start": 7701.099999999999,
            "bin_end": 10264.8,
            "count": 0
           },
           {
            "bin_start": 10264.8,
            "bin_end": 12828.5,
            "count": 0
           },
           {
            "bin_start": 12828.5,
            "bin_end": 15392.199999999999,
            "count": 1
           },
           {
            "bin_start": 15392.199999999999,
            "bin_end": 17955.899999999998,
            "count": 0
           },
           {
            "bin_start": 17955.899999999998,
            "bin_end": 20519.6,
            "count": 0
           },
           {
            "bin_start": 20519.6,
            "bin_end": 23083.3,
            "count": 0
           },
           {
            "bin_start": 23083.3,
            "bin_end": 25647,
            "count": 1
           }
          ]
         }
        },
        {
         "name": "feature_0",
         "dtype": "int64",
         "stats": {
          "unique_count": 3,
          "nan_count": 0,
          "min": "10",
          "max": "25647",
          "histogram": [
           {
            "bin_start": 10,
            "bin_end": 2573.7,
            "count": 1
           },
           {
            "bin_start": 2573.7,
            "bin_end": 5137.4,
            "count": 0
           },
           {
            "bin_start": 5137.4,
            "bin_end": 7701.099999999999,
            "count": 0
           },
           {
            "bin_start": 7701.099999999999,
            "bin_end": 10264.8,
            "count": 0
           },
           {
            "bin_start": 10264.8,
            "bin_end": 12828.5,
            "count": 0
           },
           {
            "bin_start": 12828.5,
            "bin_end": 15392.199999999999,
            "count": 1
           },
           {
            "bin_start": 15392.199999999999,
            "bin_end": 17955.899999999998,
            "count": 0
           },
           {
            "bin_start": 17955.899999999998,
            "bin_end": 20519.6,
            "count": 0
           },
           {
            "bin_start": 20519.6,
            "bin_end": 23083.3,
            "count": 0
           },
           {
            "bin_start": 23083.3,
            "bin_end": 25647,
            "count": 1
           }
          ]
         }
        },
        {
         "name": "feature_1",
         "dtype": "int64",
         "stats": {
          "unique_count": 3,
          "nan_count": 0,
          "min": "10",
          "max": "25647",
          "histogram": [
           {
            "bin_start": 10,
            "bin_end": 2573.7,
            "count": 1
           },
           {
            "bin_start": 2573.7,
            "bin_end": 5137.4,
            "count": 0
           },
           {
            "bin_start": 5137.4,
            "bin_end": 7701.099999999999,
            "count": 0
           },
           {
            "bin_start": 7701.099999999999,
            "bin_end": 10264.8,
            "count": 0
           },
           {
            "bin_start": 10264.8,
            "bin_end": 12828.5,
            "count": 0
           },
           {
            "bin_start": 12828.5,
            "bin_end": 15392.199999999999,
            "count": 1
           },
           {
            "bin_start": 15392.199999999999,
            "bin_end": 17955.899999999998,
            "count": 0
           },
           {
            "bin_start": 17955.899999999998,
            "bin_end": 20519.6,
            "count": 0
           },
           {
            "bin_start": 20519.6,
            "bin_end": 23083.3,
            "count": 0
           },
           {
            "bin_start": 23083.3,
            "bin_end": 25647,
            "count": 1
           }
          ]
         }
        },
        {
         "name": "feature_2",
         "dtype": "int64",
         "stats": {
          "unique_count": 3,
          "nan_count": 0,
          "min": "10",
          "max": "25647",
          "histogram": [
           {
            "bin_start": 10,
            "bin_end": 2573.7,
            "count": 1
           },
           {
            "bin_start": 2573.7,
            "bin_end": 5137.4,
            "count": 0
           },
           {
            "bin_start": 5137.4,
            "bin_end": 7701.099999999999,
            "count": 0
           },
           {
            "bin_start": 7701.099999999999,
            "bin_end": 10264.8,
            "count": 0
           },
           {
            "bin_start": 10264.8,
            "bin_end": 12828.5,
            "count": 0
           },
           {
            "bin_start": 12828.5,
            "bin_end": 15392.199999999999,
            "count": 1
           },
           {
            "bin_start": 15392.199999999999,
            "bin_end": 17955.899999999998,
            "count": 0
           },
           {
            "bin_start": 17955.899999999998,
            "bin_end": 20519.6,
            "count": 0
           },
           {
            "bin_start": 20519.6,
            "bin_end": 23083.3,
            "count": 0
           },
           {
            "bin_start": 23083.3,
            "bin_end": 25647,
            "count": 1
           }
          ]
         }
        },
        {
         "name": "feature_3",
         "dtype": "int64",
         "stats": {
          "unique_count": 3,
          "nan_count": 0,
          "min": "10",
          "max": "25647",
          "histogram": [
           {
            "bin_start": 10,
            "bin_end": 2573.7,
            "count": 1
           },
           {
            "bin_start": 2573.7,
            "bin_end": 5137.4,
            "count": 0
           },
           {
            "bin_start": 5137.4,
            "bin_end": 7701.099999999999,
            "count": 0
           },
           {
            "bin_start": 7701.099999999999,
            "bin_end": 10264.8,
            "count": 0
           },
           {
            "bin_start": 10264.8,
            "bin_end": 12828.5,
            "count": 0
           },
           {
            "bin_start": 12828.5,
            "bin_end": 15392.199999999999,
            "count": 1
           },
           {
            "bin_start": 15392.199999999999,
            "bin_end": 17955.899999999998,
            "count": 0
           },
           {
            "bin_start": 17955.899999999998,
            "bin_end": 20519.6,
            "count": 0
           },
           {
            "bin_start": 20519.6,
            "bin_end": 23083.3,
            "count": 0
           },
           {
            "bin_start": 23083.3,
            "bin_end": 25647,
            "count": 1
           }
          ]
         }
        },
        {
         "name": "feature_4",
         "dtype": "int64",
         "stats": {
          "unique_count": 3,
          "nan_count": 0,
          "min": "10",
          "max": "25647",
          "histogram": [
           {
            "bin_start": 10,
            "bin_end": 2573.7,
            "count": 1
           },
           {
            "bin_start": 2573.7,
            "bin_end": 5137.4,
            "count": 0
           },
           {
            "bin_start": 5137.4,
            "bin_end": 7701.099999999999,
            "count": 0
           },
           {
            "bin_start": 7701.099999999999,
            "bin_end": 10264.8,
            "count": 0
           },
           {
            "bin_start": 10264.8,
            "bin_end": 12828.5,
            "count": 0
           },
           {
            "bin_start": 12828.5,
            "bin_end": 15392.199999999999,
            "count": 1
           },
           {
            "bin_start": 15392.199999999999,
            "bin_end": 17955.899999999998,
            "count": 0
           },
           {
            "bin_start": 17955.899999999998,
            "bin_end": 20519.6,
            "count": 0
           },
           {
            "bin_start": 20519.6,
            "bin_end": 23083.3,
            "count": 0
           },
           {
            "bin_start": 23083.3,
            "bin_end": 25647,
            "count": 1
           }
          ]
         }
        },
        {
         "name": "feature_5",
         "dtype": "int64",
         "stats": {
          "unique_count": 3,
          "nan_count": 0,
          "min": "10",
          "max": "25647",
          "histogram": [
           {
            "bin_start": 10,
            "bin_end": 2573.7,
            "count": 1
           },
           {
            "bin_start": 2573.7,
            "bin_end": 5137.4,
            "count": 0
           },
           {
            "bin_start": 5137.4,
            "bin_end": 7701.099999999999,
            "count": 0
           },
           {
            "bin_start": 7701.099999999999,
            "bin_end": 10264.8,
            "count": 0
           },
           {
            "bin_start": 10264.8,
            "bin_end": 12828.5,
            "count": 0
           },
           {
            "bin_start": 12828.5,
            "bin_end": 15392.199999999999,
            "count": 1
           },
           {
            "bin_start": 15392.199999999999,
            "bin_end": 17955.899999999998,
            "count": 0
           },
           {
            "bin_start": 17955.899999999998,
            "bin_end": 20519.6,
            "count": 0
           },
           {
            "bin_start": 20519.6,
            "bin_end": 23083.3,
            "count": 0
           },
           {
            "bin_start": 23083.3,
            "bin_end": 25647,
            "count": 1
           }
          ]
         }
        },
        {
         "name": "feature_6",
         "dtype": "int64",
         "stats": {
          "unique_count": 3,
          "nan_count": 0,
          "min": "10",
          "max": "25647",
          "histogram": [
           {
            "bin_start": 10,
            "bin_end": 2573.7,
            "count": 1
           },
           {
            "bin_start": 2573.7,
            "bin_end": 5137.4,
            "count": 0
           },
           {
            "bin_start": 5137.4,
            "bin_end": 7701.099999999999,
            "count": 0
           },
           {
            "bin_start": 7701.099999999999,
            "bin_end": 10264.8,
            "count": 0
           },
           {
            "bin_start": 10264.8,
            "bin_end": 12828.5,
            "count": 0
           },
           {
            "bin_start": 12828.5,
            "bin_end": 15392.199999999999,
            "count": 1
           },
           {
            "bin_start": 15392.199999999999,
            "bin_end": 17955.899999999998,
            "count": 0
           },
           {
            "bin_start": 17955.899999999998,
            "bin_end": 20519.6,
            "count": 0
           },
           {
            "bin_start": 20519.6,
            "bin_end": 23083.3,
            "count": 0
           },
           {
            "bin_start": 23083.3,
            "bin_end": 25647,
            "count": 1
           }
          ]
         }
        },
        {
         "name": "feature_7",
         "dtype": "int64",
         "stats": {
          "unique_count": 3,
          "nan_count": 0,
          "min": "10",
          "max": "25647",
          "histogram": [
           {
            "bin_start": 10,
            "bin_end": 2573.7,
            "count": 1
           },
           {
            "bin_start": 2573.7,
            "bin_end": 5137.4,
            "count": 0
           },
           {
            "bin_start": 5137.4,
            "bin_end": 7701.099999999999,
            "count": 0
           },
           {
            "bin_start": 7701.099999999999,
            "bin_end": 10264.8,
            "count": 0
           },
           {
            "bin_start": 10264.8,
            "bin_end": 12828.5,
            "count": 0
           },
           {
            "bin_start": 12828.5,
            "bin_end": 15392.199999999999,
            "count": 1
           },
           {
            "bin_start": 15392.199999999999,
            "bin_end": 17955.899999999998,
            "count": 0
           },
           {
            "bin_start": 17955.899999999998,
            "bin_end": 20519.6,
            "count": 0
           },
           {
            "bin_start": 20519.6,
            "bin_end": 23083.3,
            "count": 0
           },
           {
            "bin_start": 23083.3,
            "bin_end": 25647,
            "count": 1
           }
          ]
         }
        },
        {
         "name": "feature_8",
         "dtype": "int64",
         "stats": {
          "unique_count": 3,
          "nan_count": 0,
          "min": "10",
          "max": "25647",
          "histogram": [
           {
            "bin_start": 10,
            "bin_end": 2573.7,
            "count": 1
           },
           {
            "bin_start": 2573.7,
            "bin_end": 5137.4,
            "count": 0
           },
           {
            "bin_start": 5137.4,
            "bin_end": 7701.099999999999,
            "count": 0
           },
           {
            "bin_start": 7701.099999999999,
            "bin_end": 10264.8,
            "count": 0
           },
           {
            "bin_start": 10264.8,
            "bin_end": 12828.5,
            "count": 0
           },
           {
            "bin_start": 12828.5,
            "bin_end": 15392.199999999999,
            "count": 1
           },
           {
            "bin_start": 15392.199999999999,
            "bin_end": 17955.899999999998,
            "count": 0
           },
           {
            "bin_start": 17955.899999999998,
            "bin_end": 20519.6,
            "count": 0
           },
           {
            "bin_start": 20519.6,
            "bin_end": 23083.3,
            "count": 0
           },
           {
            "bin_start": 23083.3,
            "bin_end": 25647,
            "count": 1
           }
          ]
         }
        },
        {
         "name": "feature_9",
         "dtype": "int64",
         "stats": {
          "unique_count": 3,
          "nan_count": 0,
          "min": "10",
          "max": "25647",
          "histogram": [
           {
            "bin_start": 10,
            "bin_end": 2573.7,
            "count": 1
           },
           {
            "bin_start": 2573.7,
            "bin_end": 5137.4,
            "count": 0
           },
           {
            "bin_start": 5137.4,
            "bin_end": 7701.099999999999,
            "count": 0
           },
           {
            "bin_start": 7701.099999999999,
            "bin_end": 10264.8,
            "count": 0
           },
           {
            "bin_start": 10264.8,
            "bin_end": 12828.5,
            "count": 0
           },
           {
            "bin_start": 12828.5,
            "bin_end": 15392.199999999999,
            "count": 1
           },
           {
            "bin_start": 15392.199999999999,
            "bin_end": 17955.899999999998,
            "count": 0
           },
           {
            "bin_start": 17955.899999999998,
            "bin_end": 20519.6,
            "count": 0
           },
           {
            "bin_start": 20519.6,
            "bin_end": 23083.3,
            "count": 0
           },
           {
            "bin_start": 23083.3,
            "bin_end": 25647,
            "count": 1
           }
          ]
         }
        },
        {
         "name": "duration_listed",
         "dtype": "int64",
         "stats": {
          "unique_count": 3,
          "nan_count": 0,
          "min": "10",
          "max": "25647",
          "histogram": [
           {
            "bin_start": 10,
            "bin_end": 2573.7,
            "count": 1
           },
           {
            "bin_start": 2573.7,
            "bin_end": 5137.4,
            "count": 0
           },
           {
            "bin_start": 5137.4,
            "bin_end": 7701.099999999999,
            "count": 0
           },
           {
            "bin_start": 7701.099999999999,
            "bin_end": 10264.8,
            "count": 0
           },
           {
            "bin_start": 10264.8,
            "bin_end": 12828.5,
            "count": 0
           },
           {
            "bin_start": 12828.5,
            "bin_end": 15392.199999999999,
            "count": 1
           },
           {
            "bin_start": 15392.199999999999,
            "bin_end": 17955.899999999998,
            "count": 0
           },
           {
            "bin_start": 17955.899999999998,
            "bin_end": 20519.6,
            "count": 0
           },
           {
            "bin_start": 20519.6,
            "bin_end": 23083.3,
            "count": 0
           },
           {
            "bin_start": 23083.3,
            "bin_end": 25647,
            "count": 1
           }
          ]
         }
        },
        {
         "name": "_deepnote_index_column",
         "dtype": "object"
        }
       ],
       "rows_top": [
        {
         "manufacturer_name": 12874,
         "model_name": 12874,
         "transmission": 12874,
         "color": 12874,
         "odometer_value": 12874,
         "year_produced": 12874,
         "engine_fuel": 12874,
         "engine_has_gas": 12874,
         "engine_capacity": 12874,
         "body_type": 12874,
         "has_warranty": 12874,
         "state": 12874,
         "drivetrain": 12874,
         "price_usd": 12874,
         "is_exchangeable": 12874,
         "location_region": 12874,
         "number_of_photos": 12874,
         "up_counter": 12874,
         "feature_0": 12874,
         "feature_1": 12874,
         "feature_2": 12874,
         "feature_3": 12874,
         "feature_4": 12874,
         "feature_5": 12874,
         "feature_6": 12874,
         "feature_7": 12874,
         "feature_8": 12874,
         "feature_9": 12874,
         "duration_listed": 12874,
         "_deepnote_index_column": "diesel"
        },
        {
         "manufacturer_name": 10,
         "model_name": 10,
         "transmission": 10,
         "color": 10,
         "odometer_value": 10,
         "year_produced": 10,
         "engine_fuel": 10,
         "engine_has_gas": 10,
         "engine_capacity": 0,
         "body_type": 10,
         "has_warranty": 10,
         "state": 10,
         "drivetrain": 10,
         "price_usd": 10,
         "is_exchangeable": 10,
         "location_region": 10,
         "number_of_photos": 10,
         "up_counter": 10,
         "feature_0": 10,
         "feature_1": 10,
         "feature_2": 10,
         "feature_3": 10,
         "feature_4": 10,
         "feature_5": 10,
         "feature_6": 10,
         "feature_7": 10,
         "feature_8": 10,
         "feature_9": 10,
         "duration_listed": 10,
         "_deepnote_index_column": "electric"
        },
        {
         "manufacturer_name": 25647,
         "model_name": 25647,
         "transmission": 25647,
         "color": 25647,
         "odometer_value": 25647,
         "year_produced": 25647,
         "engine_fuel": 25647,
         "engine_has_gas": 25647,
         "engine_capacity": 25647,
         "body_type": 25647,
         "has_warranty": 25647,
         "state": 25647,
         "drivetrain": 25647,
         "price_usd": 25647,
         "is_exchangeable": 25647,
         "location_region": 25647,
         "number_of_photos": 25647,
         "up_counter": 25647,
         "feature_0": 25647,
         "feature_1": 25647,
         "feature_2": 25647,
         "feature_3": 25647,
         "feature_4": 25647,
         "feature_5": 25647,
         "feature_6": 25647,
         "feature_7": 25647,
         "feature_8": 25647,
         "feature_9": 25647,
         "duration_listed": 25647,
         "_deepnote_index_column": "gasoline"
        }
       ],
       "rows_bottom": null
      },
      "text/plain": "             manufacturer_name  model_name  transmission  color  \\\nengine_type                                                       \ndiesel                   12874       12874         12874  12874   \nelectric                    10          10            10     10   \ngasoline                 25647       25647         25647  25647   \n\n             odometer_value  year_produced  engine_fuel  engine_has_gas  \\\nengine_type                                                               \ndiesel                12874          12874        12874           12874   \nelectric                 10             10           10              10   \ngasoline              25647          25647        25647           25647   \n\n             engine_capacity  body_type  ...  feature_1  feature_2  feature_3  \\\nengine_type                              ...                                    \ndiesel                 12874      12874  ...      12874      12874      12874   \nelectric                   0         10  ...         10         10         10   \ngasoline               25647      25647  ...      25647      25647      25647   \n\n             feature_4  feature_5  feature_6  feature_7  feature_8  feature_9  \\\nengine_type                                                                     \ndiesel           12874      12874      12874      12874      12874      12874   \nelectric            10         10         10         10         10         10   \ngasoline         25647      25647      25647      25647      25647      25647   \n\n             duration_listed  \nengine_type                   \ndiesel                 12874  \nelectric                  10  \ngasoline               25647  \n\n[3 rows x 29 columns]",
      "text/html": "<div>\n<style scoped>\n    .dataframe tbody tr th:only-of-type {\n        vertical-align: middle;\n    }\n\n    .dataframe tbody tr th {\n        vertical-align: top;\n    }\n\n    .dataframe thead th {\n        text-align: right;\n    }\n</style>\n<table border=\"1\" class=\"dataframe\">\n  <thead>\n    <tr style=\"text-align: right;\">\n      <th></th>\n      <th>manufacturer_name</th>\n      <th>model_name</th>\n      <th>transmission</th>\n      <th>color</th>\n      <th>odometer_value</th>\n      <th>year_produced</th>\n      <th>engine_fuel</th>\n      <th>engine_has_gas</th>\n      <th>engine_capacity</th>\n      <th>body_type</th>\n      <th>...</th>\n      <th>feature_1</th>\n      <th>feature_2</th>\n      <th>feature_3</th>\n      <th>feature_4</th>\n      <th>feature_5</th>\n      <th>feature_6</th>\n      <th>feature_7</th>\n      <th>feature_8</th>\n      <th>feature_9</th>\n      <th>duration_listed</th>\n    </tr>\n    <tr>\n      <th>engine_type</th>\n      <th></th>\n      <th></th>\n      <th></th>\n      <th></th>\n      <th></th>\n      <th></th>\n      <th></th>\n      <th></th>\n      <th></th>\n      <th></th>\n      <th></th>\n      <th></th>\n      <th></th>\n      <th></th>\n      <th></th>\n      <th></th>\n      <th></th>\n      <th></th>\n      <th></th>\n      <th></th>\n      <th></th>\n    </tr>\n  </thead>\n  <tbody>\n    <tr>\n      <th>diesel</th>\n      <td>12874</td>\n      <td>12874</td>\n      <td>12874</td>\n      <td>12874</td>\n      <td>12874</td>\n      <td>12874</td>\n      <td>12874</td>\n      <td>12874</td>\n      <td>12874</td>\n      <td>12874</td>\n      <td>...</td>\n      <td>12874</td>\n      <td>12874</td>\n      <td>12874</td>\n      <td>12874</td>\n      <td>12874</td>\n      <td>12874</td>\n      <td>12874</td>\n      <td>12874</td>\n      <td>12874</td>\n      <td>12874</td>\n    </tr>\n    <tr>\n      <th>electric</th>\n      <td>10</td>\n      <td>10</td>\n      <td>10</td>\n      <td>10</td>\n      <td>10</td>\n      <td>10</td>\n      <td>10</td>\n      <td>10</td>\n      <td>0</td>\n      <td>10</td>\n      <td>...</td>\n      <td>10</td>\n      <td>10</td>\n      <td>10</td>\n      <td>10</td>\n      <td>10</td>\n      <td>10</td>\n      <td>10</td>\n      <td>10</td>\n      <td>10</td>\n      <td>10</td>\n    </tr>\n    <tr>\n      <th>gasoline</th>\n      <td>25647</td>\n      <td>25647</td>\n      <td>25647</td>\n      <td>25647</td>\n      <td>25647</td>\n      <td>25647</td>\n      <td>25647</td>\n      <td>25647</td>\n      <td>25647</td>\n      <td>25647</td>\n      <td>...</td>\n      <td>25647</td>\n      <td>25647</td>\n      <td>25647</td>\n      <td>25647</td>\n      <td>25647</td>\n      <td>25647</td>\n      <td>25647</td>\n      <td>25647</td>\n      <td>25647</td>\n      <td>25647</td>\n    </tr>\n  </tbody>\n</table>\n<p>3 rows × 29 columns</p>\n</div>"
     },
     "metadata": {}
    }
   ]
  },
  {
   "cell_type": "code",
   "metadata": {
    "cell_id": "00017-ba49800a-0a66-4bd0-9b69-7e21ea6db123",
    "deepnote_to_be_reexecuted": false,
    "source_hash": "ac912157",
    "execution_start": 1627765299204,
    "execution_millis": 162,
    "deepnote_cell_type": "code",
    "pycharm": {
     "name": "#%%\n"
    }
   },
   "source": [
    "# Filtrando el df, aplicando 2 condicionales\n",
    "Q7_df = df[(df['manufacturer_name']=='Audi') & (df['model_name']=='Q7')]\n",
    "Q7_df"
   ],
   "execution_count": 17,
   "outputs": [
    {
     "data": {
      "text/plain": "      manufacturer_name model_name transmission   color  odometer_value  \\\n19515              Audi         Q7    automatic    grey          275000   \n19547              Audi         Q7    automatic   white          105000   \n19559              Audi         Q7    automatic   other          170000   \n19574              Audi         Q7    automatic   black          185000   \n19583              Audi         Q7    automatic   other          210000   \n...                 ...        ...          ...     ...             ...   \n21756              Audi         Q7    automatic  silver          200000   \n21812              Audi         Q7    automatic   black          276000   \n21873              Audi         Q7    automatic   black          273000   \n21900              Audi         Q7    automatic   white          283000   \n21942              Audi         Q7    automatic    grey          262000   \n\n       year_produced engine_fuel  engine_has_gas engine_type  engine_capacity  \\\n19515           2007      diesel           False      diesel              3.0   \n19547           2014      diesel           False      diesel              3.0   \n19559           2006      diesel           False      diesel              3.0   \n19574           2016      diesel           False      diesel              3.0   \n19583           2010      diesel           False      diesel              4.2   \n...              ...         ...             ...         ...              ...   \n21756           2008    gasoline           False    gasoline              3.6   \n21812           2008      diesel           False      diesel              4.2   \n21873           2006    gasoline           False    gasoline              4.2   \n21900           2007      diesel           False      diesel              4.2   \n21942           2007    gasoline           False    gasoline              3.6   \n\n       ... feature_1  feature_2 feature_3 feature_4  feature_5  feature_6  \\\n19515  ...     False      False     False     False      False      False   \n19547  ...      True       True      True      True       True       True   \n19559  ...      True       True      True      True       True      False   \n19574  ...     False      False      True      True       True       True   \n19583  ...      True       True      True     False       True       True   \n...    ...       ...        ...       ...       ...        ...        ...   \n21756  ...      True       True      True      True       True       True   \n21812  ...      True       True      True      True       True       True   \n21873  ...      True       True     False      True       True       True   \n21900  ...      True       True      True      True       True       True   \n21942  ...      True       True      True      True       True      False   \n\n      feature_7  feature_8  feature_9  duration_listed  \n19515     False      False      False               21  \n19547      True       True       True              216  \n19559      True      False       True               24  \n19574      True       True       True                7  \n19583      True       True       True               45  \n...         ...        ...        ...              ...  \n21756      True       True       True               91  \n21812      True       True       True              115  \n21873      True      False       True              147  \n21900      True       True       True              159  \n21942     False       True       True              199  \n\n[79 rows x 30 columns]",
      "text/html": "<div>\n<style scoped>\n    .dataframe tbody tr th:only-of-type {\n        vertical-align: middle;\n    }\n\n    .dataframe tbody tr th {\n        vertical-align: top;\n    }\n\n    .dataframe thead th {\n        text-align: right;\n    }\n</style>\n<table border=\"1\" class=\"dataframe\">\n  <thead>\n    <tr style=\"text-align: right;\">\n      <th></th>\n      <th>manufacturer_name</th>\n      <th>model_name</th>\n      <th>transmission</th>\n      <th>color</th>\n      <th>odometer_value</th>\n      <th>year_produced</th>\n      <th>engine_fuel</th>\n      <th>engine_has_gas</th>\n      <th>engine_type</th>\n      <th>engine_capacity</th>\n      <th>...</th>\n      <th>feature_1</th>\n      <th>feature_2</th>\n      <th>feature_3</th>\n      <th>feature_4</th>\n      <th>feature_5</th>\n      <th>feature_6</th>\n      <th>feature_7</th>\n      <th>feature_8</th>\n      <th>feature_9</th>\n      <th>duration_listed</th>\n    </tr>\n  </thead>\n  <tbody>\n    <tr>\n      <th>19515</th>\n      <td>Audi</td>\n      <td>Q7</td>\n      <td>automatic</td>\n      <td>grey</td>\n      <td>275000</td>\n      <td>2007</td>\n      <td>diesel</td>\n      <td>False</td>\n      <td>diesel</td>\n      <td>3.0</td>\n      <td>...</td>\n      <td>False</td>\n      <td>False</td>\n      <td>False</td>\n      <td>False</td>\n      <td>False</td>\n      <td>False</td>\n      <td>False</td>\n      <td>False</td>\n      <td>False</td>\n      <td>21</td>\n    </tr>\n    <tr>\n      <th>19547</th>\n      <td>Audi</td>\n      <td>Q7</td>\n      <td>automatic</td>\n      <td>white</td>\n      <td>105000</td>\n      <td>2014</td>\n      <td>diesel</td>\n      <td>False</td>\n      <td>diesel</td>\n      <td>3.0</td>\n      <td>...</td>\n      <td>True</td>\n      <td>True</td>\n      <td>True</td>\n      <td>True</td>\n      <td>True</td>\n      <td>True</td>\n      <td>True</td>\n      <td>True</td>\n      <td>True</td>\n      <td>216</td>\n    </tr>\n    <tr>\n      <th>19559</th>\n      <td>Audi</td>\n      <td>Q7</td>\n      <td>automatic</td>\n      <td>other</td>\n      <td>170000</td>\n      <td>2006</td>\n      <td>diesel</td>\n      <td>False</td>\n      <td>diesel</td>\n      <td>3.0</td>\n      <td>...</td>\n      <td>True</td>\n      <td>True</td>\n      <td>True</td>\n      <td>True</td>\n      <td>True</td>\n      <td>False</td>\n      <td>True</td>\n      <td>False</td>\n      <td>True</td>\n      <td>24</td>\n    </tr>\n    <tr>\n      <th>19574</th>\n      <td>Audi</td>\n      <td>Q7</td>\n      <td>automatic</td>\n      <td>black</td>\n      <td>185000</td>\n      <td>2016</td>\n      <td>diesel</td>\n      <td>False</td>\n      <td>diesel</td>\n      <td>3.0</td>\n      <td>...</td>\n      <td>False</td>\n      <td>False</td>\n      <td>True</td>\n      <td>True</td>\n      <td>True</td>\n      <td>True</td>\n      <td>True</td>\n      <td>True</td>\n      <td>True</td>\n      <td>7</td>\n    </tr>\n    <tr>\n      <th>19583</th>\n      <td>Audi</td>\n      <td>Q7</td>\n      <td>automatic</td>\n      <td>other</td>\n      <td>210000</td>\n      <td>2010</td>\n      <td>diesel</td>\n      <td>False</td>\n      <td>diesel</td>\n      <td>4.2</td>\n      <td>...</td>\n      <td>True</td>\n      <td>True</td>\n      <td>True</td>\n      <td>False</td>\n      <td>True</td>\n      <td>True</td>\n      <td>True</td>\n      <td>True</td>\n      <td>True</td>\n      <td>45</td>\n    </tr>\n    <tr>\n      <th>...</th>\n      <td>...</td>\n      <td>...</td>\n      <td>...</td>\n      <td>...</td>\n      <td>...</td>\n      <td>...</td>\n      <td>...</td>\n      <td>...</td>\n      <td>...</td>\n      <td>...</td>\n      <td>...</td>\n      <td>...</td>\n      <td>...</td>\n      <td>...</td>\n      <td>...</td>\n      <td>...</td>\n      <td>...</td>\n      <td>...</td>\n      <td>...</td>\n      <td>...</td>\n      <td>...</td>\n    </tr>\n    <tr>\n      <th>21756</th>\n      <td>Audi</td>\n      <td>Q7</td>\n      <td>automatic</td>\n      <td>silver</td>\n      <td>200000</td>\n      <td>2008</td>\n      <td>gasoline</td>\n      <td>False</td>\n      <td>gasoline</td>\n      <td>3.6</td>\n      <td>...</td>\n      <td>True</td>\n      <td>True</td>\n      <td>True</td>\n      <td>True</td>\n      <td>True</td>\n      <td>True</td>\n      <td>True</td>\n      <td>True</td>\n      <td>True</td>\n      <td>91</td>\n    </tr>\n    <tr>\n      <th>21812</th>\n      <td>Audi</td>\n      <td>Q7</td>\n      <td>automatic</td>\n      <td>black</td>\n      <td>276000</td>\n      <td>2008</td>\n      <td>diesel</td>\n      <td>False</td>\n      <td>diesel</td>\n      <td>4.2</td>\n      <td>...</td>\n      <td>True</td>\n      <td>True</td>\n      <td>True</td>\n      <td>True</td>\n      <td>True</td>\n      <td>True</td>\n      <td>True</td>\n      <td>True</td>\n      <td>True</td>\n      <td>115</td>\n    </tr>\n    <tr>\n      <th>21873</th>\n      <td>Audi</td>\n      <td>Q7</td>\n      <td>automatic</td>\n      <td>black</td>\n      <td>273000</td>\n      <td>2006</td>\n      <td>gasoline</td>\n      <td>False</td>\n      <td>gasoline</td>\n      <td>4.2</td>\n      <td>...</td>\n      <td>True</td>\n      <td>True</td>\n      <td>False</td>\n      <td>True</td>\n      <td>True</td>\n      <td>True</td>\n      <td>True</td>\n      <td>False</td>\n      <td>True</td>\n      <td>147</td>\n    </tr>\n    <tr>\n      <th>21900</th>\n      <td>Audi</td>\n      <td>Q7</td>\n      <td>automatic</td>\n      <td>white</td>\n      <td>283000</td>\n      <td>2007</td>\n      <td>diesel</td>\n      <td>False</td>\n      <td>diesel</td>\n      <td>4.2</td>\n      <td>...</td>\n      <td>True</td>\n      <td>True</td>\n      <td>True</td>\n      <td>True</td>\n      <td>True</td>\n      <td>True</td>\n      <td>True</td>\n      <td>True</td>\n      <td>True</td>\n      <td>159</td>\n    </tr>\n    <tr>\n      <th>21942</th>\n      <td>Audi</td>\n      <td>Q7</td>\n      <td>automatic</td>\n      <td>grey</td>\n      <td>262000</td>\n      <td>2007</td>\n      <td>gasoline</td>\n      <td>False</td>\n      <td>gasoline</td>\n      <td>3.6</td>\n      <td>...</td>\n      <td>True</td>\n      <td>True</td>\n      <td>True</td>\n      <td>True</td>\n      <td>True</td>\n      <td>False</td>\n      <td>False</td>\n      <td>True</td>\n      <td>True</td>\n      <td>199</td>\n    </tr>\n  </tbody>\n</table>\n<p>79 rows × 30 columns</p>\n</div>"
     },
     "execution_count": 17,
     "metadata": {},
     "output_type": "execute_result"
    }
   ]
  },
  {
   "cell_type": "code",
   "metadata": {
    "cell_id": "00018-c336fdad-d7ef-4ef3-a46b-e3e0a5a8ea05",
    "deepnote_to_be_reexecuted": false,
    "source_hash": "f7004b40",
    "execution_start": 1627765350856,
    "execution_millis": 688,
    "deepnote_cell_type": "code",
    "pycharm": {
     "name": "#%%\n"
    }
   },
   "source": [
    "# Usando el histograma con Seaborn\n",
    "# x='price_usd' // valores amostrar\n",
    "# hue = 'year_produced // valor de agrupacion\n",
    "sns.histplot(Q7_df, x='price_usd', hue = 'year_produced', multiple='stack')\n",
    "\n",
    "\n",
    "# Colores mas claros, mas caros y mas actuales\n",
    "# Colores oscuros mas antiguos y mas baratos"
   ],
   "execution_count": 22,
   "outputs": [
    {
     "data": {
      "text/plain": "<AxesSubplot:xlabel='price_usd', ylabel='Count'>"
     },
     "execution_count": 22,
     "metadata": {},
     "output_type": "execute_result"
    },
    {
     "data": {
      "text/plain": "<Figure size 432x288 with 1 Axes>",
      "image/png": "[encoded data removed]"
     },
     "metadata": {},
     "output_type": "display_data"
    }
   ]
  },
  {
   "cell_type": "code",
   "metadata": {
    "cell_id": "00058-28c2ef6e-b2df-49a7-8065-6c209e90784f",
    "deepnote_cell_type": "code",
    "pycharm": {
     "name": "#%%\n"
    }
   },
   "source": [],
   "execution_count": null,
   "outputs": []
  },
  {
   "cell_type": "code",
   "metadata": {
    "cell_id": "00059-3f1656d4-4faa-4608-ae40-d5d6b6a4dbc5",
    "deepnote_cell_type": "code",
    "pycharm": {
     "name": "#%%\n"
    }
   },
   "source": [],
   "execution_count": null,
   "outputs": []
  },
  {
   "cell_type": "code",
   "metadata": {
    "cell_id": "00060-56124a14-e43e-4e0b-9a2f-f92e3f583332",
    "deepnote_cell_type": "code",
    "pycharm": {
     "name": "#%%\n"
    }
   },
   "source": [],
   "execution_count": null,
   "outputs": []
  },
  {
   "cell_type": "code",
   "metadata": {
    "cell_id": "00061-f25823a7-f895-46bb-b1aa-71bf7026d99a",
    "deepnote_cell_type": "code",
    "pycharm": {
     "name": "#%%\n"
    }
   },
   "source": [],
   "execution_count": null,
   "outputs": []
  },
  {
   "cell_type": "code",
   "metadata": {
    "cell_id": "00062-278f94ae-8356-4013-a2dc-ea770eed38c7",
    "deepnote_cell_type": "code",
    "pycharm": {
     "name": "#%%\n"
    }
   },
   "source": [],
   "execution_count": null,
   "outputs": []
  },
  {
   "cell_type": "code",
   "metadata": {
    "cell_id": "00063-37e30658-b418-4404-b74e-c74b680af003",
    "deepnote_cell_type": "code",
    "pycharm": {
     "name": "#%%\n"
    }
   },
   "source": [],
   "execution_count": null,
   "outputs": []
  },
  {
   "cell_type": "code",
   "metadata": {
    "cell_id": "00064-27eb4ec8-6b74-4fa6-bc87-c6aa1e3c8456",
    "deepnote_cell_type": "code",
    "pycharm": {
     "name": "#%%\n"
    }
   },
   "source": [],
   "execution_count": null,
   "outputs": []
  },
  {
   "cell_type": "code",
   "metadata": {
    "cell_id": "00065-2c8573bb-5534-4c9d-a197-2a0400fb35ba",
    "deepnote_cell_type": "code",
    "pycharm": {
     "name": "#%%\n"
    }
   },
   "source": [],
   "execution_count": null,
   "outputs": []
  },
  {
   "cell_type": "code",
   "metadata": {
    "cell_id": "00066-2757d2ac-4fe4-4e73-836a-e7f17e22a15d",
    "deepnote_cell_type": "code",
    "pycharm": {
     "name": "#%%\n"
    }
   },
   "source": [],
   "execution_count": null,
   "outputs": []
  },
  {
   "cell_type": "code",
   "metadata": {
    "cell_id": "00067-d12c43d7-b89d-4f2e-8625-a08fe1a7d223",
    "deepnote_cell_type": "code",
    "pycharm": {
     "name": "#%%\n"
    }
   },
   "source": [],
   "execution_count": null,
   "outputs": []
  },
  {
   "cell_type": "code",
   "metadata": {
    "cell_id": "00068-3f6897db-306d-4e4a-b6ea-12ed632bcb3c",
    "deepnote_cell_type": "code",
    "pycharm": {
     "name": "#%%\n"
    }
   },
   "source": [],
   "execution_count": null,
   "outputs": []
  },
  {
   "cell_type": "code",
   "metadata": {
    "cell_id": "00069-be4724d0-b6db-4894-b0b3-747d60209b98",
    "deepnote_cell_type": "code",
    "pycharm": {
     "name": "#%%\n"
    }
   },
   "source": [],
   "execution_count": null,
   "outputs": []
  },
  {
   "cell_type": "code",
   "metadata": {
    "cell_id": "00070-e05a65b5-b21c-4526-b7d7-af397c5d418e",
    "deepnote_cell_type": "code",
    "pycharm": {
     "name": "#%%\n"
    }
   },
   "source": [],
   "execution_count": null,
   "outputs": []
  },
  {
   "cell_type": "code",
   "metadata": {
    "cell_id": "00071-f349b039-09fa-4a99-ba48-7cd3ab88666d",
    "deepnote_cell_type": "code",
    "pycharm": {
     "name": "#%%\n"
    }
   },
   "source": [],
   "execution_count": null,
   "outputs": []
  },
  {
   "cell_type": "code",
   "metadata": {
    "cell_id": "00072-d7c6794e-56f2-44a5-8f01-7fab70f4f60a",
    "deepnote_cell_type": "code",
    "pycharm": {
     "name": "#%%\n"
    }
   },
   "source": [],
   "execution_count": null,
   "outputs": []
  },
  {
   "cell_type": "code",
   "metadata": {
    "cell_id": "00073-09fcd466-891e-4488-99d4-01e0265c4c04",
    "deepnote_cell_type": "code",
    "pycharm": {
     "name": "#%%\n"
    }
   },
   "source": [],
   "execution_count": null,
   "outputs": []
  },
  {
   "cell_type": "code",
   "metadata": {
    "cell_id": "00074-0841261d-be5e-4963-8e10-a81230f66905",
    "deepnote_cell_type": "code",
    "pycharm": {
     "name": "#%%\n"
    }
   },
   "source": [],
   "execution_count": null,
   "outputs": []
  },
  {
   "cell_type": "code",
   "metadata": {
    "cell_id": "00075-f34688d8-09e6-45bb-bd50-6976bd162795",
    "deepnote_cell_type": "code",
    "pycharm": {
     "name": "#%%\n"
    }
   },
   "source": [],
   "execution_count": null,
   "outputs": []
  },
  {
   "cell_type": "code",
   "metadata": {
    "cell_id": "00076-dc4637c5-7771-4f3f-8252-2bb36afe862c",
    "deepnote_cell_type": "code",
    "pycharm": {
     "name": "#%%\n"
    }
   },
   "source": [],
   "execution_count": null,
   "outputs": []
  },
  {
   "cell_type": "code",
   "metadata": {
    "cell_id": "00077-29a09f3d-fa86-4ffc-bdd2-a8c427ab7b5c",
    "deepnote_cell_type": "code",
    "pycharm": {
     "name": "#%%\n"
    }
   },
   "source": [],
   "execution_count": null,
   "outputs": []
  },
  {
   "cell_type": "code",
   "metadata": {
    "cell_id": "00078-1244ea80-7ad6-46a6-a28c-43fd80b573fa",
    "deepnote_cell_type": "code",
    "pycharm": {
     "name": "#%%\n"
    }
   },
   "source": [],
   "execution_count": null,
   "outputs": []
  },
  {
   "cell_type": "code",
   "metadata": {
    "cell_id": "00079-e63b0575-1fce-4bd4-b38a-d13c4753975c",
    "deepnote_cell_type": "code",
    "pycharm": {
     "name": "#%%\n"
    }
   },
   "source": [],
   "execution_count": null,
   "outputs": []
  },
  {
   "cell_type": "code",
   "metadata": {
    "cell_id": "00080-a658a686-df30-4e77-a34e-5b5c9d69defe",
    "deepnote_cell_type": "code",
    "pycharm": {
     "name": "#%%\n"
    }
   },
   "source": [],
   "execution_count": null,
   "outputs": []
  },
  {
   "cell_type": "code",
   "metadata": {
    "cell_id": "00081-37913367-61b5-4c4b-9464-0b9520448309",
    "deepnote_cell_type": "code",
    "pycharm": {
     "name": "#%%\n"
    }
   },
   "source": [],
   "execution_count": null,
   "outputs": []
  },
  {
   "cell_type": "code",
   "metadata": {
    "cell_id": "00082-242b9a7d-68ca-42e9-813a-902ab2eeb45e",
    "deepnote_cell_type": "code",
    "pycharm": {
     "name": "#%%\n"
    }
   },
   "source": [],
   "execution_count": null,
   "outputs": []
  },
  {
   "cell_type": "code",
   "metadata": {
    "cell_id": "00083-b227e597-13c6-449e-935f-0bc283fe47f8",
    "deepnote_cell_type": "code",
    "pycharm": {
     "name": "#%%\n"
    }
   },
   "source": [],
   "execution_count": null,
   "outputs": []
  },
  {
   "cell_type": "code",
   "metadata": {
    "cell_id": "00084-2e86f0d9-51b4-4368-9625-a3905b7b471e",
    "deepnote_cell_type": "code",
    "pycharm": {
     "name": "#%%\n"
    }
   },
   "source": [],
   "execution_count": null,
   "outputs": []
  },
  {
   "cell_type": "code",
   "metadata": {
    "cell_id": "00085-1f59080e-b150-4e03-8edc-2191ef1750eb",
    "deepnote_cell_type": "code",
    "pycharm": {
     "name": "#%%\n"
    }
   },
   "source": [],
   "execution_count": null,
   "outputs": []
  }
 ],
 "nbformat": 4,
 "nbformat_minor": 2,
 "metadata": {
  "kernelspec": {
   "display_name": "Python 3",
   "language": "python",
   "name": "python3"
  },
  "language_info": {
   "codemirror_mode": {
    "name": "ipython",
    "version": 3
   },
   "file_extension": ".py",
   "mimetype": "text/x-python",
   "name": "python",
   "nbconvert_exporter": "python",
   "pygments_lexer": "ipython3",
   "version": "3.7.3"
  },
  "deepnote_notebook_id": "111fefb4-883a-4611-9fcf-168678ab2cab",
  "deepnote": {},
  "deepnote_execution_queue": []
 }
}