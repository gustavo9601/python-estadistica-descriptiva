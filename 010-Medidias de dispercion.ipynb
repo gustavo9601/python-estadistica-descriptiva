{
 "cells": [
  {
   "cell_type": "markdown",
   "source": [
    "## Medidas de dispersion"
   ],
   "metadata": {
    "cell_id": "00000-05e718e7-0d34-4015-a09c-84ba2eec72fe",
    "deepnote_cell_type": "markdown"
   }
  },
  {
   "cell_type": "code",
   "metadata": {
    "cell_id": "00001-a28616a7-4be9-49eb-a856-1389da8c9507",
    "deepnote_to_be_reexecuted": false,
    "source_hash": "34ad2d5b",
    "execution_start": 1627766613135,
    "execution_millis": 1165,
    "deepnote_cell_type": "code"
   },
   "source": [
    "import numpy as np\n",
    "import pandas as pd\n",
    "import seaborn as sns\n",
    "import matplotlib.pyplot as plt"
   ],
   "execution_count": 2,
   "outputs": []
  },
  {
   "cell_type": "code",
   "metadata": {
    "cell_id": "00002-4f34462b-cea3-4f14-881e-951f4be50ef4",
    "deepnote_cell_type": "code"
   },
   "source": [
    "data = np.array([1,2,3,4,56,8,100,2])\n",
    "data"
   ],
   "execution_count": 2,
   "outputs": [
    {
     "data": {
      "text/plain": "array([  1,   2,   3,   4,  56,   8, 100,   2])"
     },
     "execution_count": 2,
     "metadata": {},
     "output_type": "execute_result"
    }
   ]
  },
  {
   "cell_type": "code",
   "metadata": {
    "cell_id": "00003-8c96bc6d-1df2-4b18-9a48-92398b5b0e51",
    "deepnote_cell_type": "code"
   },
   "source": [
    "data.min()"
   ],
   "execution_count": 3,
   "outputs": [
    {
     "data": {
      "text/plain": "1"
     },
     "execution_count": 3,
     "metadata": {},
     "output_type": "execute_result"
    }
   ]
  },
  {
   "cell_type": "code",
   "metadata": {
    "cell_id": "00004-8d70a7a8-a4ec-44bd-98d5-f7cbd1a73902",
    "deepnote_cell_type": "code"
   },
   "source": [
    "data.max()"
   ],
   "execution_count": 4,
   "outputs": [
    {
     "data": {
      "text/plain": "100"
     },
     "execution_count": 4,
     "metadata": {},
     "output_type": "execute_result"
    }
   ]
  },
  {
   "cell_type": "code",
   "metadata": {
    "cell_id": "00005-e4cc7541-0a44-4c13-94c1-0bb022beaaac",
    "deepnote_cell_type": "code"
   },
   "source": [
    "rango = data.max() - data.min()\n",
    "rango"
   ],
   "execution_count": 5,
   "outputs": [
    {
     "data": {
      "text/plain": "99"
     },
     "execution_count": 5,
     "metadata": {},
     "output_type": "execute_result"
    }
   ]
  },
  {
   "cell_type": "code",
   "metadata": {
    "cell_id": "00006-5b33e850-4d53-4b83-8be8-55ab73df26ca",
    "deepnote_cell_type": "code"
   },
   "source": [
    "varianza = data.var()\n",
    "varianza"
   ],
   "execution_count": 7,
   "outputs": [
    {
     "data": {
      "text/plain": "1170.25"
     },
     "execution_count": 7,
     "metadata": {},
     "output_type": "execute_result"
    }
   ]
  },
  {
   "cell_type": "code",
   "metadata": {
    "cell_id": "00007-025d5659-150d-4393-b6a3-e33cf8ea7472",
    "deepnote_cell_type": "code"
   },
   "source": [
    "desviacion_estandar = data.std()\n",
    "desviacion_estandar"
   ],
   "execution_count": 8,
   "outputs": [
    {
     "data": {
      "text/plain": "34.20891696619465"
     },
     "execution_count": 8,
     "metadata": {},
     "output_type": "execute_result"
    }
   ]
  },
  {
   "cell_type": "code",
   "metadata": {
    "cell_id": "00008-7a4d5c3c-3abc-4f60-a82b-62c1b7703aa4",
    "deepnote_cell_type": "code"
   },
   "source": [
    "serie1 = pd.Series(data)\n",
    "serie1"
   ],
   "execution_count": 10,
   "outputs": [
    {
     "data": {
      "text/plain": "0      1\n1      2\n2      3\n3      4\n4     56\n5      8\n6    100\n7      2\ndtype: int32"
     },
     "execution_count": 10,
     "metadata": {},
     "output_type": "execute_result"
    }
   ]
  },
  {
   "cell_type": "code",
   "metadata": {
    "scrolled": true,
    "cell_id": "00009-c5c6d1f9-4869-43d7-ad10-c157422b2864",
    "deepnote_cell_type": "code"
   },
   "source": [
    "serie1.describe()"
   ],
   "execution_count": 13,
   "outputs": [
    {
     "data": {
      "text/plain": "count      8.000000\nmean      22.000000\nstd       36.570871\nmin        1.000000\n25%        2.000000\n50%        3.500000\n75%       20.000000\nmax      100.000000\ndtype: float64"
     },
     "execution_count": 13,
     "metadata": {},
     "output_type": "execute_result"
    }
   ]
  },
  {
   "cell_type": "markdown",
   "source": [
    "# Ejemplo aplicado"
   ],
   "metadata": {
    "tags": [],
    "cell_id": "00010-7c12c8db-55f6-4921-9328-ab15ae5516ac",
    "deepnote_cell_type": "markdown"
   }
  },
  {
   "cell_type": "code",
   "metadata": {
    "cell_id": "00010-8210ec9e-ce88-4196-8492-84dcf898febf",
    "deepnote_to_be_reexecuted": false,
    "source_hash": "44d3f319",
    "execution_start": 1627766662568,
    "execution_millis": 229,
    "deepnote_cell_type": "code"
   },
   "source": [
    "df = pd.read_csv('./data/cars.csv')\n",
    "df.tail()"
   ],
   "execution_count": 3,
   "outputs": [
    {
     "output_type": "execute_result",
     "execution_count": 3,
     "data": {
      "application/vnd.deepnote.dataframe.v2+json": {
       "row_count": 5,
       "column_count": 30,
       "columns": [
        {
         "name": "manufacturer_name",
         "dtype": "object",
         "stats": {
          "unique_count": 1,
          "nan_count": 0,
          "categories": [
           {
            "name": "Chrysler",
            "count": 5
           }
          ]
         }
        },
        {
         "name": "model_name",
         "dtype": "object",
         "stats": {
          "unique_count": 3,
          "nan_count": 0,
          "categories": [
           {
            "name": "300",
            "count": 2
           },
           {
            "name": "PT Cruiser",
            "count": 2
           },
           {
            "name": "Voyager",
            "count": 1
           }
          ]
         }
        },
        {
         "name": "transmission",
         "dtype": "object",
         "stats": {
          "unique_count": 2,
          "nan_count": 0,
          "categories": [
           {
            "name": "automatic",
            "count": 3
           },
           {
            "name": "mechanical",
            "count": 2
           }
          ]
         }
        },
        {
         "name": "color",
         "dtype": "object",
         "stats": {
          "unique_count": 3,
          "nan_count": 0,
          "categories": [
           {
            "name": "silver",
            "count": 2
           },
           {
            "name": "blue",
            "count": 2
           },
           {
            "name": "black",
            "count": 1
           }
          ]
         }
        },
        {
         "name": "odometer_value",
         "dtype": "int64",
         "stats": {
          "unique_count": 5,
          "nan_count": 0,
          "min": "20000",
          "max": "777957",
          "histogram": [
           {
            "bin_start": 20000,
            "bin_end": 95795.7,
            "count": 1
           },
           {
            "bin_start": 95795.7,
            "bin_end": 171591.4,
            "count": 0
           },
           {
            "bin_start": 171591.4,
            "bin_end": 247387.09999999998,
            "count": 0
           },
           {
            "bin_start": 247387.09999999998,
            "bin_end": 323182.8,
            "count": 3
           },
           {
            "bin_start": 323182.8,
            "bin_end": 398978.5,
            "count": 0
           },
           {
            "bin_start": 398978.5,
            "bin_end": 474774.19999999995,
            "count": 0
           },
           {
            "bin_start": 474774.19999999995,
            "bin_end": 550569.9,
            "count": 0
           },
           {
            "bin_start": 550569.9,
            "bin_end": 626365.6,
            "count": 0
           },
           {
            "bin_start": 626365.6,
            "bin_end": 702161.2999999999,
            "count": 0
           },
           {
            "bin_start": 702161.2999999999,
            "bin_end": 777957,
            "count": 1
           }
          ]
         }
        },
        {
         "name": "year_produced",
         "dtype": "int64",
         "stats": {
          "unique_count": 3,
          "nan_count": 0,
          "min": "2000",
          "max": "2004",
          "histogram": [
           {
            "bin_start": 2000,
            "bin_end": 2000.4,
            "count": 3
           },
           {
            "bin_start": 2000.4,
            "bin_end": 2000.8,
            "count": 0
           },
           {
            "bin_start": 2000.8,
            "bin_end": 2001.2,
            "count": 1
           },
           {
            "bin_start": 2001.2,
            "bin_end": 2001.6,
            "count": 0
           },
           {
            "bin_start": 2001.6,
            "bin_end": 2002,
            "count": 0
           },
           {
            "bin_start": 2002,
            "bin_end": 2002.4,
            "count": 0
           },
           {
            "bin_start": 2002.4,
            "bin_end": 2002.8,
            "count": 0
           },
           {
            "bin_start": 2002.8,
            "bin_end": 2003.2,
            "count": 0
           },
           {
            "bin_start": 2003.2,
            "bin_end": 2003.6,
            "count": 0
           },
           {
            "bin_start": 2003.6,
            "bin_end": 2004,
            "count": 1
           }
          ]
         }
        },
        {
         "name": "engine_fuel",
         "dtype": "object",
         "stats": {
          "unique_count": 2,
          "nan_count": 0,
          "categories": [
           {
            "name": "gasoline",
            "count": 4
           },
           {
            "name": "diesel",
            "count": 1
           }
          ]
         }
        },
        {
         "name": "engine_has_gas",
         "dtype": "bool",
         "stats": {
          "unique_count": 1,
          "nan_count": 0,
          "categories": [
           {
            "name": "False",
            "count": 5
           }
          ]
         }
        },
        {
         "name": "engine_type",
         "dtype": "object",
         "stats": {
          "unique_count": 2,
          "nan_count": 0,
          "categories": [
           {
            "name": "gasoline",
            "count": 4
           },
           {
            "name": "diesel",
            "count": 1
           }
          ]
         }
        },
        {
         "name": "engine_capacity",
         "dtype": "float64",
         "stats": {
          "unique_count": 4,
          "nan_count": 0,
          "min": "2.0",
          "max": "3.5",
          "histogram": [
           {
            "bin_start": 2,
            "bin_end": 2.15,
            "count": 1
           },
           {
            "bin_start": 2.15,
            "bin_end": 2.3,
            "count": 1
           },
           {
            "bin_start": 2.3,
            "bin_end": 2.45,
            "count": 1
           },
           {
            "bin_start": 2.45,
            "bin_end": 2.6,
            "count": 0
           },
           {
            "bin_start": 2.6,
            "bin_end": 2.75,
            "count": 0
           },
           {
            "bin_start": 2.75,
            "bin_end": 2.9,
            "count": 0
           },
           {
            "bin_start": 2.9,
            "bin_end": 3.05,
            "count": 0
           },
           {
            "bin_start": 3.05,
            "bin_end": 3.2,
            "count": 0
           },
           {
            "bin_start": 3.2,
            "bin_end": 3.3499999999999996,
            "count": 0
           },
           {
            "bin_start": 3.3499999999999996,
            "bin_end": 3.5,
            "count": 2
           }
          ]
         }
        },
        {
         "name": "body_type",
         "dtype": "object",
         "stats": {
          "unique_count": 3,
          "nan_count": 0,
          "categories": [
           {
            "name": "sedan",
            "count": 2
           },
           {
            "name": "minivan",
            "count": 2
           },
           {
            "name": "hatchback",
            "count": 1
           }
          ]
         }
        },
        {
         "name": "has_warranty",
         "dtype": "bool",
         "stats": {
          "unique_count": 1,
          "nan_count": 0,
          "categories": [
           {
            "name": "False",
            "count": 5
           }
          ]
         }
        },
        {
         "name": "state",
         "dtype": "object",
         "stats": {
          "unique_count": 1,
          "nan_count": 0,
          "categories": [
           {
            "name": "owned",
            "count": 5
           }
          ]
         }
        },
        {
         "name": "drivetrain",
         "dtype": "object",
         "stats": {
          "unique_count": 1,
          "nan_count": 0,
          "categories": [
           {
            "name": "front",
            "count": 5
           }
          ]
         }
        },
        {
         "name": "price_usd",
         "dtype": "float64",
         "stats": {
          "unique_count": 5,
          "nan_count": 0,
          "min": "2750.0",
          "max": "4800.0",
          "histogram": [
           {
            "bin_start": 2750,
            "bin_end": 2955,
            "count": 1
           },
           {
            "bin_start": 2955,
            "bin_end": 3160,
            "count": 0
           },
           {
            "bin_start": 3160,
            "bin_end": 3365,
            "count": 1
           },
           {
            "bin_start": 3365,
            "bin_end": 3570,
            "count": 0
           },
           {
            "bin_start": 3570,
            "bin_end": 3775,
            "count": 0
           },
           {
            "bin_start": 3775,
            "bin_end": 3980,
            "count": 0
           },
           {
            "bin_start": 3980,
            "bin_end": 4185,
            "count": 1
           },
           {
            "bin_start": 4185,
            "bin_end": 4390,
            "count": 1
           },
           {
            "bin_start": 4390,
            "bin_end": 4595,
            "count": 0
           },
           {
            "bin_start": 4595,
            "bin_end": 4800,
            "count": 1
           }
          ]
         }
        },
        {
         "name": "is_exchangeable",
         "dtype": "bool",
         "stats": {
          "unique_count": 2,
          "nan_count": 0,
          "categories": [
           {
            "name": "True",
            "count": 4
           },
           {
            "name": "False",
            "count": 1
           }
          ]
         }
        },
        {
         "name": "location_region",
         "dtype": "object",
         "stats": {
          "unique_count": 2,
          "nan_count": 0,
          "categories": [
           {
            "name": "Минская обл.",
            "count": 3
           },
           {
            "name": "Брестская обл.",
            "count": 2
           }
          ]
         }
        },
        {
         "name": "number_of_photos",
         "dtype": "int64",
         "stats": {
          "unique_count": 4,
          "nan_count": 0,
          "min": "3",
          "max": "7",
          "histogram": [
           {
            "bin_start": 3,
            "bin_end": 3.4,
            "count": 1
           },
           {
            "bin_start": 3.4,
            "bin_end": 3.8,
            "count": 0
           },
           {
            "bin_start": 3.8,
            "bin_end": 4.2,
            "count": 2
           },
           {
            "bin_start": 4.2,
            "bin_end": 4.6,
            "count": 0
           },
           {
            "bin_start": 4.6,
            "bin_end": 5,
            "count": 0
           },
           {
            "bin_start": 5,
            "bin_end": 5.4,
            "count": 1
           },
           {
            "bin_start": 5.4,
            "bin_end": 5.800000000000001,
            "count": 0
           },
           {
            "bin_start": 5.800000000000001,
            "bin_end": 6.2,
            "count": 0
           },
           {
            "bin_start": 6.2,
            "bin_end": 6.6,
            "count": 0
           },
           {
            "bin_start": 6.6,
            "bin_end": 7,
            "count": 1
           }
          ]
         }
        },
        {
         "name": "up_counter",
         "dtype": "int64",
         "stats": {
          "unique_count": 5,
          "nan_count": 0,
          "min": "20",
          "max": "156",
          "histogram": [
           {
            "bin_start": 20,
            "bin_end": 33.6,
            "count": 1
           },
           {
            "bin_start": 33.6,
            "bin_end": 47.2,
            "count": 0
           },
           {
            "bin_start": 47.2,
            "bin_end": 60.8,
            "count": 0
           },
           {
            "bin_start": 60.8,
            "bin_end": 74.4,
            "count": 2
           },
           {
            "bin_start": 74.4,
            "bin_end": 88,
            "count": 1
           },
           {
            "bin_start": 88,
            "bin_end": 101.6,
            "count": 0
           },
           {
            "bin_start": 101.6,
            "bin_end": 115.2,
            "count": 0
           },
           {
            "bin_start": 115.2,
            "bin_end": 128.8,
            "count": 0
           },
           {
            "bin_start": 128.8,
            "bin_end": 142.39999999999998,
            "count": 0
           },
           {
            "bin_start": 142.39999999999998,
            "bin_end": 156,
            "count": 1
           }
          ]
         }
        },
        {
         "name": "feature_0",
         "dtype": "bool",
         "stats": {
          "unique_count": 1,
          "nan_count": 0,
          "categories": [
           {
            "name": "False",
            "count": 5
           }
          ]
         }
        },
        {
         "name": "feature_1",
         "dtype": "bool",
         "stats": {
          "unique_count": 2,
          "nan_count": 0,
          "categories": [
           {
            "name": "True",
            "count": 4
           },
           {
            "name": "False",
            "count": 1
           }
          ]
         }
        },
        {
         "name": "feature_2",
         "dtype": "bool",
         "stats": {
          "unique_count": 1,
          "nan_count": 0,
          "categories": [
           {
            "name": "False",
            "count": 5
           }
          ]
         }
        },
        {
         "name": "feature_3",
         "dtype": "bool",
         "stats": {
          "unique_count": 1,
          "nan_count": 0,
          "categories": [
           {
            "name": "False",
            "count": 5
           }
          ]
         }
        },
        {
         "name": "feature_4",
         "dtype": "bool",
         "stats": {
          "unique_count": 2,
          "nan_count": 0,
          "categories": [
           {
            "name": "True",
            "count": 3
           },
           {
            "name": "False",
            "count": 2
           }
          ]
         }
        },
        {
         "name": "feature_5",
         "dtype": "bool",
         "stats": {
          "unique_count": 2,
          "nan_count": 0,
          "categories": [
           {
            "name": "True",
            "count": 3
           },
           {
            "name": "False",
            "count": 2
           }
          ]
         }
        },
        {
         "name": "feature_6",
         "dtype": "bool",
         "stats": {
          "unique_count": 1,
          "nan_count": 0,
          "categories": [
           {
            "name": "False",
            "count": 5
           }
          ]
         }
        },
        {
         "name": "feature_7",
         "dtype": "bool",
         "stats": {
          "unique_count": 1,
          "nan_count": 0,
          "categories": [
           {
            "name": "False",
            "count": 5
           }
          ]
         }
        },
        {
         "name": "feature_8",
         "dtype": "bool",
         "stats": {
          "unique_count": 2,
          "nan_count": 0,
          "categories": [
           {
            "name": "True",
            "count": 3
           },
           {
            "name": "False",
            "count": 2
           }
          ]
         }
        },
        {
         "name": "feature_9",
         "dtype": "bool",
         "stats": {
          "unique_count": 1,
          "nan_count": 0,
          "categories": [
           {
            "name": "True",
            "count": 5
           }
          ]
         }
        },
        {
         "name": "duration_listed",
         "dtype": "int64",
         "stats": {
          "unique_count": 5,
          "nan_count": 0,
          "min": "301",
          "max": "632",
          "histogram": [
           {
            "bin_start": 301,
            "bin_end": 334.1,
            "count": 2
           },
           {
            "bin_start": 334.1,
            "bin_end": 367.2,
            "count": 0
           },
           {
            "bin_start": 367.2,
            "bin_end": 400.3,
            "count": 1
           },
           {
            "bin_start": 400.3,
            "bin_end": 433.4,
            "count": 0
           },
           {
            "bin_start": 433.4,
            "bin_end": 466.5,
            "count": 0
           },
           {
            "bin_start": 466.5,
            "bin_end": 499.6,
            "count": 1
           },
           {
            "bin_start": 499.6,
            "bin_end": 532.7,
            "count": 0
           },
           {
            "bin_start": 532.7,
            "bin_end": 565.8,
            "count": 0
           },
           {
            "bin_start": 565.8,
            "bin_end": 598.9000000000001,
            "count": 0
           },
           {
            "bin_start": 598.9000000000001,
            "bin_end": 632,
            "count": 1
           }
          ]
         }
        },
        {
         "name": "_deepnote_index_column",
         "dtype": "int64"
        }
       ],
       "rows_top": [
        {
         "manufacturer_name": "Chrysler",
         "model_name": "300",
         "transmission": "automatic",
         "color": "silver",
         "odometer_value": 290000,
         "year_produced": 2000,
         "engine_fuel": "gasoline",
         "engine_has_gas": "False",
         "engine_type": "gasoline",
         "engine_capacity": 3.5,
         "body_type": "sedan",
         "has_warranty": "False",
         "state": "owned",
         "drivetrain": "front",
         "price_usd": 2750,
         "is_exchangeable": "True",
         "location_region": "Минская обл.",
         "number_of_photos": 5,
         "up_counter": 85,
         "feature_0": "False",
         "feature_1": "True",
         "feature_2": "False",
         "feature_3": "False",
         "feature_4": "True",
         "feature_5": "True",
         "feature_6": "False",
         "feature_7": "False",
         "feature_8": "True",
         "feature_9": "True",
         "duration_listed": 301,
         "_deepnote_index_column": 38526
        },
        {
         "manufacturer_name": "Chrysler",
         "model_name": "PT Cruiser",
         "transmission": "mechanical",
         "color": "blue",
         "odometer_value": 321000,
         "year_produced": 2004,
         "engine_fuel": "diesel",
         "engine_has_gas": "False",
         "engine_type": "diesel",
         "engine_capacity": 2.2,
         "body_type": "hatchback",
         "has_warranty": "False",
         "state": "owned",
         "drivetrain": "front",
         "price_usd": 4800,
         "is_exchangeable": "True",
         "location_region": "Брестская обл.",
         "number_of_photos": 4,
         "up_counter": 20,
         "feature_0": "False",
         "feature_1": "True",
         "feature_2": "False",
         "feature_3": "False",
         "feature_4": "True",
         "feature_5": "True",
         "feature_6": "False",
         "feature_7": "False",
         "feature_8": "True",
         "feature_9": "True",
         "duration_listed": 317,
         "_deepnote_index_column": 38527
        },
        {
         "manufacturer_name": "Chrysler",
         "model_name": "300",
         "transmission": "automatic",
         "color": "blue",
         "odometer_value": 777957,
         "year_produced": 2000,
         "engine_fuel": "gasoline",
         "engine_has_gas": "False",
         "engine_type": "gasoline",
         "engine_capacity": 3.5,
         "body_type": "sedan",
         "has_warranty": "False",
         "state": "owned",
         "drivetrain": "front",
         "price_usd": 4300,
         "is_exchangeable": "False",
         "location_region": "Минская обл.",
         "number_of_photos": 3,
         "up_counter": 63,
         "feature_0": "False",
         "feature_1": "True",
         "feature_2": "False",
         "feature_3": "False",
         "feature_4": "True",
         "feature_5": "True",
         "feature_6": "False",
         "feature_7": "False",
         "feature_8": "True",
         "feature_9": "True",
         "duration_listed": 369,
         "_deepnote_index_column": 38528
        },
        {
         "manufacturer_name": "Chrysler",
         "model_name": "PT Cruiser",
         "transmission": "mechanical",
         "color": "black",
         "odometer_value": 20000,
         "year_produced": 2001,
         "engine_fuel": "gasoline",
         "engine_has_gas": "False",
         "engine_type": "gasoline",
         "engine_capacity": 2,
         "body_type": "minivan",
         "has_warranty": "False",
         "state": "owned",
         "drivetrain": "front",
         "price_usd": 4000,
         "is_exchangeable": "True",
         "location_region": "Брестская обл.",
         "number_of_photos": 7,
         "up_counter": 156,
         "feature_0": "False",
         "feature_1": "True",
         "feature_2": "False",
         "feature_3": "False",
         "feature_4": "False",
         "feature_5": "False",
         "feature_6": "False",
         "feature_7": "False",
         "feature_8": "False",
         "feature_9": "True",
         "duration_listed": 490,
         "_deepnote_index_column": 38529
        },
        {
         "manufacturer_name": "Chrysler",
         "model_name": "Voyager",
         "transmission": "automatic",
         "color": "silver",
         "odometer_value": 297729,
         "year_produced": 2000,
         "engine_fuel": "gasoline",
         "engine_has_gas": "False",
         "engine_type": "gasoline",
         "engine_capacity": 2.4,
         "body_type": "minivan",
         "has_warranty": "False",
         "state": "owned",
         "drivetrain": "front",
         "price_usd": 3200,
         "is_exchangeable": "True",
         "location_region": "Минская обл.",
         "number_of_photos": 4,
         "up_counter": 73,
         "feature_0": "False",
         "feature_1": "False",
         "feature_2": "False",
         "feature_3": "False",
         "feature_4": "False",
         "feature_5": "False",
         "feature_6": "False",
         "feature_7": "False",
         "feature_8": "False",
         "feature_9": "True",
         "duration_listed": 632,
         "_deepnote_index_column": 38530
        }
       ],
       "rows_bottom": null
      },
      "text/plain": "      manufacturer_name  model_name transmission   color  odometer_value  \\\n38526          Chrysler         300    automatic  silver          290000   \n38527          Chrysler  PT Cruiser   mechanical    blue          321000   \n38528          Chrysler         300    automatic    blue          777957   \n38529          Chrysler  PT Cruiser   mechanical   black           20000   \n38530          Chrysler     Voyager    automatic  silver          297729   \n\n       year_produced engine_fuel  engine_has_gas engine_type  engine_capacity  \\\n38526           2000    gasoline           False    gasoline              3.5   \n38527           2004      diesel           False      diesel              2.2   \n38528           2000    gasoline           False    gasoline              3.5   \n38529           2001    gasoline           False    gasoline              2.0   \n38530           2000    gasoline           False    gasoline              2.4   \n\n       ... feature_1  feature_2 feature_3 feature_4  feature_5  feature_6  \\\n38526  ...      True      False     False      True       True      False   \n38527  ...      True      False     False      True       True      False   \n38528  ...      True      False     False      True       True      False   \n38529  ...      True      False     False     False      False      False   \n38530  ...     False      False     False     False      False      False   \n\n      feature_7  feature_8  feature_9  duration_listed  \n38526     False       True       True              301  \n38527     False       True       True              317  \n38528     False       True       True              369  \n38529     False      False       True              490  \n38530     False      False       True              632  \n\n[5 rows x 30 columns]",
      "text/html": "<div>\n<style scoped>\n    .dataframe tbody tr th:only-of-type {\n        vertical-align: middle;\n    }\n\n    .dataframe tbody tr th {\n        vertical-align: top;\n    }\n\n    .dataframe thead th {\n        text-align: right;\n    }\n</style>\n<table border=\"1\" class=\"dataframe\">\n  <thead>\n    <tr style=\"text-align: right;\">\n      <th></th>\n      <th>manufacturer_name</th>\n      <th>model_name</th>\n      <th>transmission</th>\n      <th>color</th>\n      <th>odometer_value</th>\n      <th>year_produced</th>\n      <th>engine_fuel</th>\n      <th>engine_has_gas</th>\n      <th>engine_type</th>\n      <th>engine_capacity</th>\n      <th>...</th>\n      <th>feature_1</th>\n      <th>feature_2</th>\n      <th>feature_3</th>\n      <th>feature_4</th>\n      <th>feature_5</th>\n      <th>feature_6</th>\n      <th>feature_7</th>\n      <th>feature_8</th>\n      <th>feature_9</th>\n      <th>duration_listed</th>\n    </tr>\n  </thead>\n  <tbody>\n    <tr>\n      <th>38526</th>\n      <td>Chrysler</td>\n      <td>300</td>\n      <td>automatic</td>\n      <td>silver</td>\n      <td>290000</td>\n      <td>2000</td>\n      <td>gasoline</td>\n      <td>False</td>\n      <td>gasoline</td>\n      <td>3.5</td>\n      <td>...</td>\n      <td>True</td>\n      <td>False</td>\n      <td>False</td>\n      <td>True</td>\n      <td>True</td>\n      <td>False</td>\n      <td>False</td>\n      <td>True</td>\n      <td>True</td>\n      <td>301</td>\n    </tr>\n    <tr>\n      <th>38527</th>\n      <td>Chrysler</td>\n      <td>PT Cruiser</td>\n      <td>mechanical</td>\n      <td>blue</td>\n      <td>321000</td>\n      <td>2004</td>\n      <td>diesel</td>\n      <td>False</td>\n      <td>diesel</td>\n      <td>2.2</td>\n      <td>...</td>\n      <td>True</td>\n      <td>False</td>\n      <td>False</td>\n      <td>True</td>\n      <td>True</td>\n      <td>False</td>\n      <td>False</td>\n      <td>True</td>\n      <td>True</td>\n      <td>317</td>\n    </tr>\n    <tr>\n      <th>38528</th>\n      <td>Chrysler</td>\n      <td>300</td>\n      <td>automatic</td>\n      <td>blue</td>\n      <td>777957</td>\n      <td>2000</td>\n      <td>gasoline</td>\n      <td>False</td>\n      <td>gasoline</td>\n      <td>3.5</td>\n      <td>...</td>\n      <td>True</td>\n      <td>False</td>\n      <td>False</td>\n      <td>True</td>\n      <td>True</td>\n      <td>False</td>\n      <td>False</td>\n      <td>True</td>\n      <td>True</td>\n      <td>369</td>\n    </tr>\n    <tr>\n      <th>38529</th>\n      <td>Chrysler</td>\n      <td>PT Cruiser</td>\n      <td>mechanical</td>\n      <td>black</td>\n      <td>20000</td>\n      <td>2001</td>\n      <td>gasoline</td>\n      <td>False</td>\n      <td>gasoline</td>\n      <td>2.0</td>\n      <td>...</td>\n      <td>True</td>\n      <td>False</td>\n      <td>False</td>\n      <td>False</td>\n      <td>False</td>\n      <td>False</td>\n      <td>False</td>\n      <td>False</td>\n      <td>True</td>\n      <td>490</td>\n    </tr>\n    <tr>\n      <th>38530</th>\n      <td>Chrysler</td>\n      <td>Voyager</td>\n      <td>automatic</td>\n      <td>silver</td>\n      <td>297729</td>\n      <td>2000</td>\n      <td>gasoline</td>\n      <td>False</td>\n      <td>gasoline</td>\n      <td>2.4</td>\n      <td>...</td>\n      <td>False</td>\n      <td>False</td>\n      <td>False</td>\n      <td>False</td>\n      <td>False</td>\n      <td>False</td>\n      <td>False</td>\n      <td>False</td>\n      <td>True</td>\n      <td>632</td>\n    </tr>\n  </tbody>\n</table>\n<p>5 rows × 30 columns</p>\n</div>"
     },
     "metadata": {}
    }
   ]
  },
  {
   "cell_type": "code",
   "metadata": {
    "cell_id": "00011-2d4acb19-e54f-423e-8a94-df7d45a5ea89",
    "deepnote_to_be_reexecuted": false,
    "source_hash": "5aecfb65",
    "execution_start": 1627766683891,
    "execution_millis": 0,
    "deepnote_cell_type": "code"
   },
   "source": [
    "# Desviacion estandar\n",
    "df['price_usd'].std()"
   ],
   "execution_count": 4,
   "outputs": [
    {
     "output_type": "execute_result",
     "execution_count": 4,
     "data": {
      "text/plain": "6428.1520182029035"
     },
     "metadata": {}
    }
   ]
  },
  {
   "cell_type": "code",
   "metadata": {
    "cell_id": "00012-6b42b074-a45d-4cdb-9018-e55ab7016efe",
    "deepnote_to_be_reexecuted": false,
    "source_hash": "93dfd3d",
    "execution_start": 1627766720439,
    "execution_millis": 10,
    "deepnote_cell_type": "code"
   },
   "source": [
    "# Rango = valor_max - valor_min\n",
    "rango = df['price_usd'].max() - df['price_usd'].min()\n",
    "rango"
   ],
   "execution_count": 5,
   "outputs": [
    {
     "output_type": "execute_result",
     "execution_count": 5,
     "data": {
      "text/plain": "49999.0"
     },
     "metadata": {}
    }
   ]
  },
  {
   "cell_type": "code",
   "metadata": {
    "cell_id": "00013-27ea2d7e-507e-4edb-aad7-3f77a5d829cc",
    "deepnote_to_be_reexecuted": false,
    "source_hash": "ec087eed",
    "execution_start": 1627766984336,
    "execution_millis": 5,
    "deepnote_cell_type": "code"
   },
   "source": [
    "# Quartiles\n",
    "median = df['price_usd'].median()\n",
    "# quantile(q=0.25) // 25%\n",
    "Q1 = df['price_usd'].quantile(q=0.25)\n",
    "Q3 = df['price_usd'].quantile(q=0.75)\n",
    "\n",
    "# q=0 primer valor\n",
    "# q=1.0 100%\n",
    "min_val = df['price_usd'].quantile(q=0)\n",
    "max_val = df['price_usd'].quantile(q=1.0)\n",
    "\n",
    "print(\"min_val >\", min_val)\n",
    "print(\"Q1 >\", Q1)\n",
    "print(\"median >\", median)\n",
    "print(\"Q3 >\", Q3)\n",
    "print(\"max_val >\", max_val)"
   ],
   "execution_count": 9,
   "outputs": [
    {
     "name": "stdout",
     "text": "min_val > 1.0\nQ1 > 2100.0\nmedian > 4800.0\nQ3 > 8990.0\nmax_val > 50000.0\n",
     "output_type": "stream"
    }
   ]
  },
  {
   "cell_type": "code",
   "metadata": {
    "cell_id": "00014-c2783371-fb5d-4702-bd66-50ddd0b8a82a",
    "deepnote_to_be_reexecuted": false,
    "source_hash": "a0cac53",
    "execution_start": 1627767008031,
    "execution_millis": 10,
    "deepnote_cell_type": "code"
   },
   "source": [
    "# Rango intercuartil\n",
    "IQR = Q3 - Q1\n",
    "IQR"
   ],
   "execution_count": 10,
   "outputs": [
    {
     "output_type": "execute_result",
     "execution_count": 10,
     "data": {
      "text/plain": "6890.0"
     },
     "metadata": {}
    }
   ]
  },
  {
   "cell_type": "markdown",
   "source": [
    "### Límites para detección de outliers (datos simetricamente distribuidos)\n",
    "\n",
    "Datos entre $$Q_1 -1.5 \\times \\text{IQR}$$ y $$Q_3 + 1.5 \\times \\text{IQR}$$\n",
    "\n",
    "Permite identificar el rango por el cual si se sobrepasa el minimo o el maximo deberia considerarse un Outlier"
   ],
   "metadata": {
    "tags": [],
    "cell_id": "00016-517b742f-bac3-4606-b459-3549eb0f8848",
    "deepnote_cell_type": "markdown"
   }
  },
  {
   "cell_type": "code",
   "source": [
    "min_limit = Q1 - 1.5*IQR\n",
    "max_limit = Q3 + 1.5*IQR\n",
    "print('rango para detección de outliers: {}, {}'.format(min_limit, max_limit))"
   ],
   "metadata": {
    "tags": [],
    "cell_id": "00017-76d7b8d9-1901-41de-bd39-d4ba71796ab4",
    "deepnote_to_be_reexecuted": false,
    "source_hash": "77076828",
    "execution_start": 1627767331644,
    "execution_millis": 4,
    "deepnote_cell_type": "code"
   },
   "outputs": [
    {
     "name": "stdout",
     "text": "rango para detección de outliers: -8235.0, 19325.0\n",
     "output_type": "stream"
    }
   ],
   "execution_count": 13
  },
  {
   "cell_type": "code",
   "source": [
    "# Histograma\n",
    "sns.histplot(df['price_usd'])"
   ],
   "metadata": {
    "tags": [],
    "cell_id": "00018-23986cca-38ce-4861-bb0d-66c00b8c0c0d",
    "deepnote_to_be_reexecuted": false,
    "source_hash": "e5cf4786",
    "execution_start": 1627767419139,
    "execution_millis": 564,
    "deepnote_cell_type": "code"
   },
   "outputs": [
    {
     "output_type": "execute_result",
     "execution_count": 16,
     "data": {
      "text/plain": "<AxesSubplot:xlabel='price_usd', ylabel='Count'>"
     },
     "metadata": {}
    },
    {
     "data": {
      "text/plain": "<Figure size 432x288 with 1 Axes>",
      "image/png": "[encoded data removed]"
     },
     "metadata": {
      "needs_background": "light",
      "image/png": {
       "width": 395,
       "height": 263
      }
     },
     "output_type": "display_data"
    }
   ],
   "execution_count": 16
  },
  {
   "cell_type": "code",
   "source": [
    "# Diagrama de Bigotes o Caja\n",
    "sns.boxplot(df['price_usd'])"
   ],
   "metadata": {
    "tags": [],
    "cell_id": "00019-afaf4e7c-10f9-45b1-bec4-067f8c5cde37",
    "deepnote_to_be_reexecuted": false,
    "source_hash": "64467694",
    "execution_start": 1627767481432,
    "execution_millis": 176,
    "deepnote_cell_type": "code"
   },
   "outputs": [
    {
     "name": "stderr",
     "text": "/shared-libs/python3.7/py/lib/python3.7/site-packages/seaborn/_decorators.py:43: FutureWarning: Pass the following variable as a keyword arg: x. From version 0.12, the only valid positional argument will be `data`, and passing other arguments without an explicit keyword will result in an error or misinterpretation.\n  FutureWarning\n",
     "output_type": "stream"
    },
    {
     "output_type": "execute_result",
     "execution_count": 17,
     "data": {
      "text/plain": "<AxesSubplot:xlabel='price_usd'>"
     },
     "metadata": {}
    },
    {
     "data": {
      "text/plain": "<Figure size 432x288 with 1 Axes>",
      "image/png": "[encoded data removed]"
     },
     "metadata": {
      "needs_background": "light",
      "image/png": {
       "width": 353,
       "height": 263
      }
     },
     "output_type": "display_data"
    }
   ],
   "execution_count": 17
  },
  {
   "cell_type": "code",
   "source": [
    "# Grafico de caja para valores categoricos\n",
    "# x // valores categoricos\n",
    "# y // valores numericos\n",
    "# data // valores del df\n",
    "sns.boxplot(x = 'engine_fuel', y='price_usd', data=df)\n"
   ],
   "metadata": {
    "tags": [],
    "cell_id": "00020-f5a4d67a-fca1-443e-8c31-78022c1785c8",
    "deepnote_to_be_reexecuted": false,
    "source_hash": "6ac237d9",
    "execution_start": 1627767622730,
    "execution_millis": 353,
    "deepnote_cell_type": "code",
    "pycharm": {
     "name": "#%%\n"
    }
   },
   "outputs": [
    {
     "output_type": "execute_result",
     "execution_count": 18,
     "data": {
      "text/plain": "<AxesSubplot:xlabel='engine_fuel', ylabel='price_usd'>"
     },
     "metadata": {}
    },
    {
     "data": {
      "text/plain": "<Figure size 432x288 with 1 Axes>",
      "image/png": "[encoded data removed]"
     },
     "metadata": {
      "needs_background": "light",
      "image/png": {
       "width": 402,
       "height": 263
      }
     },
     "output_type": "display_data"
    }
   ],
   "execution_count": 18
  }
 ],
 "nbformat": 4,
 "nbformat_minor": 2,
 "metadata": {
  "kernelspec": {
   "display_name": "Python 3",
   "language": "python",
   "name": "python3"
  },
  "language_info": {
   "codemirror_mode": {
    "name": "ipython",
    "version": 3
   },
   "file_extension": ".py",
   "mimetype": "text/x-python",
   "name": "python",
   "nbconvert_exporter": "python",
   "pygments_lexer": "ipython3",
   "version": "3.7.3"
  },
  "deepnote_notebook_id": "675e98d4-8b88-4ec0-b0ab-d5c2b61a7784",
  "deepnote": {},
  "deepnote_execution_queue": []
 }
}