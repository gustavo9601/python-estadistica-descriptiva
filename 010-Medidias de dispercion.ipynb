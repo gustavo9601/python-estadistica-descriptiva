{
 "cells": [
  {
   "cell_type": "markdown",
   "source": [
    "## Medidas de dispersion\n",
    "\n",
    "Las medidas de dispersión, también llamadas medidas de variabilidad, muestran la variabilidad de una distribución, indicando por medio de un número, si las diferentes puntuaciones de una variable están muy alejadas de la media. Cuanto mayor sea ese valor, mayor será la variabilidad, cuanto menor sea, más homogénea será. Así se sabe si todos los casos son parecidos o varían mucho entre ellos.\n",
    "\n",
    "Desviación estandar: Indica qué tan dispersos están los datos con respecto a la media.\n",
    "\n",
    "Varianza: Representa la variabilidad de una serie de datos respecto a su media.\n",
    "\n",
    "Rango: El Rango es el intervalo entre el valor máximo y el valor mínimo.\n",
    "\n",
    "Cuartiles: Los cuartiles son valores que dividen una muestra de datos en cuatro partes iguales\n",
    "+ Q1 25%\n",
    "+ Q2 Mediana 50%\n",
    "+ Q3 75%\n",
    "\n",
    "\n",
    "\n",
    "### Hisgograma y Boxplot para ver la distribucion de datos\n",
    "<img src=\"https://i.imgur.com/4NGeE61.png\">\n",
    "\n",
    "\n"
   ],
   "metadata": {
    "cell_id": "00000-05e718e7-0d34-4015-a09c-84ba2eec72fe",
    "deepnote_cell_type": "markdown",
    "pycharm": {
     "name": "#%% md\n"
    }
   }
  },
  {
   "cell_type": "code",
   "metadata": {
    "cell_id": "00001-a28616a7-4be9-49eb-a856-1389da8c9507",
    "deepnote_to_be_reexecuted": false,
    "source_hash": "34ad2d5b",
    "execution_start": 1627766613135,
    "execution_millis": 1165,
    "deepnote_cell_type": "code",
    "pycharm": {
     "name": "#%%\n"
    }
   },
   "source": [
    "import numpy as np\n",
    "import pandas as pd\n",
    "import seaborn as sns\n",
    "import matplotlib.pyplot as plt"
   ],
   "execution_count": 2,
   "outputs": []
  },
  {
   "cell_type": "code",
   "metadata": {
    "cell_id": "00002-4f34462b-cea3-4f14-881e-951f4be50ef4",
    "deepnote_cell_type": "code",
    "pycharm": {
     "name": "#%%\n"
    }
   },
   "source": [
    "data = np.array([1, 2, 3, 4, 56, 8, 100, 2])\n",
    "data"
   ],
   "execution_count": 3,
   "outputs": [
    {
     "data": {
      "text/plain": "array([  1,   2,   3,   4,  56,   8, 100,   2])"
     },
     "execution_count": 3,
     "metadata": {},
     "output_type": "execute_result"
    }
   ]
  },
  {
   "cell_type": "code",
   "metadata": {
    "cell_id": "00003-8c96bc6d-1df2-4b18-9a48-92398b5b0e51",
    "deepnote_cell_type": "code",
    "pycharm": {
     "name": "#%%\n"
    }
   },
   "source": [
    "data.min()"
   ],
   "execution_count": 4,
   "outputs": [
    {
     "data": {
      "text/plain": "1"
     },
     "execution_count": 4,
     "metadata": {},
     "output_type": "execute_result"
    }
   ]
  },
  {
   "cell_type": "code",
   "metadata": {
    "cell_id": "00004-8d70a7a8-a4ec-44bd-98d5-f7cbd1a73902",
    "deepnote_cell_type": "code",
    "pycharm": {
     "name": "#%%\n"
    }
   },
   "source": [
    "data.max()"
   ],
   "execution_count": 5,
   "outputs": [
    {
     "data": {
      "text/plain": "100"
     },
     "execution_count": 5,
     "metadata": {},
     "output_type": "execute_result"
    }
   ]
  },
  {
   "cell_type": "code",
   "metadata": {
    "cell_id": "00005-e4cc7541-0a44-4c13-94c1-0bb022beaaac",
    "deepnote_cell_type": "code",
    "pycharm": {
     "name": "#%%\n"
    }
   },
   "source": [
    "rango = data.max() - data.min()\n",
    "rango"
   ],
   "execution_count": 6,
   "outputs": [
    {
     "data": {
      "text/plain": "99"
     },
     "execution_count": 6,
     "metadata": {},
     "output_type": "execute_result"
    }
   ]
  },
  {
   "cell_type": "code",
   "metadata": {
    "cell_id": "00006-5b33e850-4d53-4b83-8be8-55ab73df26ca",
    "deepnote_cell_type": "code",
    "pycharm": {
     "name": "#%%\n"
    }
   },
   "source": [
    "varianza = data.var()\n",
    "varianza"
   ],
   "execution_count": 7,
   "outputs": [
    {
     "data": {
      "text/plain": "1170.25"
     },
     "execution_count": 7,
     "metadata": {},
     "output_type": "execute_result"
    }
   ]
  },
  {
   "cell_type": "code",
   "metadata": {
    "cell_id": "00007-025d5659-150d-4393-b6a3-e33cf8ea7472",
    "deepnote_cell_type": "code",
    "pycharm": {
     "name": "#%%\n"
    }
   },
   "source": [
    "desviacion_estandar = data.std()\n",
    "desviacion_estandar"
   ],
   "execution_count": 8,
   "outputs": [
    {
     "data": {
      "text/plain": "34.20891696619465"
     },
     "execution_count": 8,
     "metadata": {},
     "output_type": "execute_result"
    }
   ]
  },
  {
   "cell_type": "code",
   "metadata": {
    "cell_id": "00008-7a4d5c3c-3abc-4f60-a82b-62c1b7703aa4",
    "deepnote_cell_type": "code",
    "pycharm": {
     "name": "#%%\n"
    }
   },
   "source": [
    "serie1 = pd.Series(data)\n",
    "serie1"
   ],
   "execution_count": 9,
   "outputs": [
    {
     "data": {
      "text/plain": "0      1\n1      2\n2      3\n3      4\n4     56\n5      8\n6    100\n7      2\ndtype: int32"
     },
     "execution_count": 9,
     "metadata": {},
     "output_type": "execute_result"
    }
   ]
  },
  {
   "cell_type": "code",
   "metadata": {
    "scrolled": true,
    "cell_id": "00009-c5c6d1f9-4869-43d7-ad10-c157422b2864",
    "deepnote_cell_type": "code",
    "pycharm": {
     "name": "#%%\n"
    }
   },
   "source": [
    "serie1.describe()"
   ],
   "execution_count": 10,
   "outputs": [
    {
     "data": {
      "text/plain": "count      8.000000\nmean      22.000000\nstd       36.570871\nmin        1.000000\n25%        2.000000\n50%        3.500000\n75%       20.000000\nmax      100.000000\ndtype: float64"
     },
     "execution_count": 10,
     "metadata": {},
     "output_type": "execute_result"
    }
   ]
  },
  {
   "cell_type": "markdown",
   "source": [
    "# Ejemplo aplicado"
   ],
   "metadata": {
    "tags": [],
    "cell_id": "00010-7c12c8db-55f6-4921-9328-ab15ae5516ac",
    "deepnote_cell_type": "markdown",
    "pycharm": {
     "name": "#%% md\n"
    }
   }
  },
  {
   "cell_type": "code",
   "metadata": {
    "cell_id": "00010-8210ec9e-ce88-4196-8492-84dcf898febf",
    "deepnote_to_be_reexecuted": false,
    "source_hash": "44d3f319",
    "execution_start": 1627766662568,
    "execution_millis": 229,
    "deepnote_cell_type": "code",
    "pycharm": {
     "name": "#%%\n"
    }
   },
   "source": [
    "df = pd.read_csv('./data/cars.csv')\n",
    "df.tail()"
   ],
   "execution_count": 11,
   "outputs": [
    {
     "data": {
      "text/plain": "      manufacturer_name  model_name transmission   color  odometer_value  \\\n38526          Chrysler         300    automatic  silver          290000   \n38527          Chrysler  PT Cruiser   mechanical    blue          321000   \n38528          Chrysler         300    automatic    blue          777957   \n38529          Chrysler  PT Cruiser   mechanical   black           20000   \n38530          Chrysler     Voyager    automatic  silver          297729   \n\n       year_produced engine_fuel  engine_has_gas engine_type  engine_capacity  \\\n38526           2000    gasoline           False    gasoline              3.5   \n38527           2004      diesel           False      diesel              2.2   \n38528           2000    gasoline           False    gasoline              3.5   \n38529           2001    gasoline           False    gasoline              2.0   \n38530           2000    gasoline           False    gasoline              2.4   \n\n       ... feature_1  feature_2 feature_3 feature_4  feature_5  feature_6  \\\n38526  ...      True      False     False      True       True      False   \n38527  ...      True      False     False      True       True      False   \n38528  ...      True      False     False      True       True      False   \n38529  ...      True      False     False     False      False      False   \n38530  ...     False      False     False     False      False      False   \n\n      feature_7  feature_8  feature_9  duration_listed  \n38526     False       True       True              301  \n38527     False       True       True              317  \n38528     False       True       True              369  \n38529     False      False       True              490  \n38530     False      False       True              632  \n\n[5 rows x 30 columns]",
      "text/html": "<div>\n<style scoped>\n    .dataframe tbody tr th:only-of-type {\n        vertical-align: middle;\n    }\n\n    .dataframe tbody tr th {\n        vertical-align: top;\n    }\n\n    .dataframe thead th {\n        text-align: right;\n    }\n</style>\n<table border=\"1\" class=\"dataframe\">\n  <thead>\n    <tr style=\"text-align: right;\">\n      <th></th>\n      <th>manufacturer_name</th>\n      <th>model_name</th>\n      <th>transmission</th>\n      <th>color</th>\n      <th>odometer_value</th>\n      <th>year_produced</th>\n      <th>engine_fuel</th>\n      <th>engine_has_gas</th>\n      <th>engine_type</th>\n      <th>engine_capacity</th>\n      <th>...</th>\n      <th>feature_1</th>\n      <th>feature_2</th>\n      <th>feature_3</th>\n      <th>feature_4</th>\n      <th>feature_5</th>\n      <th>feature_6</th>\n      <th>feature_7</th>\n      <th>feature_8</th>\n      <th>feature_9</th>\n      <th>duration_listed</th>\n    </tr>\n  </thead>\n  <tbody>\n    <tr>\n      <th>38526</th>\n      <td>Chrysler</td>\n      <td>300</td>\n      <td>automatic</td>\n      <td>silver</td>\n      <td>290000</td>\n      <td>2000</td>\n      <td>gasoline</td>\n      <td>False</td>\n      <td>gasoline</td>\n      <td>3.5</td>\n      <td>...</td>\n      <td>True</td>\n      <td>False</td>\n      <td>False</td>\n      <td>True</td>\n      <td>True</td>\n      <td>False</td>\n      <td>False</td>\n      <td>True</td>\n      <td>True</td>\n      <td>301</td>\n    </tr>\n    <tr>\n      <th>38527</th>\n      <td>Chrysler</td>\n      <td>PT Cruiser</td>\n      <td>mechanical</td>\n      <td>blue</td>\n      <td>321000</td>\n      <td>2004</td>\n      <td>diesel</td>\n      <td>False</td>\n      <td>diesel</td>\n      <td>2.2</td>\n      <td>...</td>\n      <td>True</td>\n      <td>False</td>\n      <td>False</td>\n      <td>True</td>\n      <td>True</td>\n      <td>False</td>\n      <td>False</td>\n      <td>True</td>\n      <td>True</td>\n      <td>317</td>\n    </tr>\n    <tr>\n      <th>38528</th>\n      <td>Chrysler</td>\n      <td>300</td>\n      <td>automatic</td>\n      <td>blue</td>\n      <td>777957</td>\n      <td>2000</td>\n      <td>gasoline</td>\n      <td>False</td>\n      <td>gasoline</td>\n      <td>3.5</td>\n      <td>...</td>\n      <td>True</td>\n      <td>False</td>\n      <td>False</td>\n      <td>True</td>\n      <td>True</td>\n      <td>False</td>\n      <td>False</td>\n      <td>True</td>\n      <td>True</td>\n      <td>369</td>\n    </tr>\n    <tr>\n      <th>38529</th>\n      <td>Chrysler</td>\n      <td>PT Cruiser</td>\n      <td>mechanical</td>\n      <td>black</td>\n      <td>20000</td>\n      <td>2001</td>\n      <td>gasoline</td>\n      <td>False</td>\n      <td>gasoline</td>\n      <td>2.0</td>\n      <td>...</td>\n      <td>True</td>\n      <td>False</td>\n      <td>False</td>\n      <td>False</td>\n      <td>False</td>\n      <td>False</td>\n      <td>False</td>\n      <td>False</td>\n      <td>True</td>\n      <td>490</td>\n    </tr>\n    <tr>\n      <th>38530</th>\n      <td>Chrysler</td>\n      <td>Voyager</td>\n      <td>automatic</td>\n      <td>silver</td>\n      <td>297729</td>\n      <td>2000</td>\n      <td>gasoline</td>\n      <td>False</td>\n      <td>gasoline</td>\n      <td>2.4</td>\n      <td>...</td>\n      <td>False</td>\n      <td>False</td>\n      <td>False</td>\n      <td>False</td>\n      <td>False</td>\n      <td>False</td>\n      <td>False</td>\n      <td>False</td>\n      <td>True</td>\n      <td>632</td>\n    </tr>\n  </tbody>\n</table>\n<p>5 rows × 30 columns</p>\n</div>"
     },
     "execution_count": 11,
     "metadata": {},
     "output_type": "execute_result"
    }
   ]
  },
  {
   "cell_type": "code",
   "metadata": {
    "cell_id": "00011-2d4acb19-e54f-423e-8a94-df7d45a5ea89",
    "deepnote_to_be_reexecuted": false,
    "source_hash": "5aecfb65",
    "execution_start": 1627766683891,
    "execution_millis": 0,
    "deepnote_cell_type": "code",
    "pycharm": {
     "name": "#%%\n"
    }
   },
   "source": [
    "# Desviacion estandar\n",
    "df['price_usd'].std()"
   ],
   "execution_count": 22,
   "outputs": [
    {
     "data": {
      "text/plain": "6428.1520182029035"
     },
     "execution_count": 22,
     "metadata": {},
     "output_type": "execute_result"
    }
   ]
  },
  {
   "cell_type": "code",
   "metadata": {
    "cell_id": "00012-6b42b074-a45d-4cdb-9018-e55ab7016efe",
    "deepnote_to_be_reexecuted": false,
    "source_hash": "93dfd3d",
    "execution_start": 1627766720439,
    "execution_millis": 10,
    "deepnote_cell_type": "code",
    "pycharm": {
     "name": "#%%\n"
    }
   },
   "source": [
    "# Rango = valor_max - valor_min\n",
    "rango = df['price_usd'].max() - df['price_usd'].min()\n",
    "rango"
   ],
   "execution_count": 21,
   "outputs": [
    {
     "data": {
      "text/plain": "49999.0"
     },
     "execution_count": 21,
     "metadata": {},
     "output_type": "execute_result"
    }
   ]
  },
  {
   "cell_type": "code",
   "metadata": {
    "cell_id": "00013-27ea2d7e-507e-4edb-aad7-3f77a5d829cc",
    "deepnote_to_be_reexecuted": false,
    "source_hash": "ec087eed",
    "execution_start": 1627766984336,
    "execution_millis": 5,
    "deepnote_cell_type": "code",
    "pycharm": {
     "name": "#%%\n"
    }
   },
   "source": [
    "# Quartiles\n",
    "# 50%\n",
    "median = df['price_usd'].median()\n",
    "# quantile(q=0.25) // 25%\n",
    "Q1 = df['price_usd'].quantile(q=0.25)\n",
    "Q3 = df['price_usd'].quantile(q=0.75)\n",
    "\n",
    "# q=0 primer valor\n",
    "# q=1.0 100%\n",
    "min_val = df['price_usd'].quantile(q=0)\n",
    "max_val = df['price_usd'].quantile(q=1.0)\n",
    "\n",
    "print(\"min_val =\", min_val)\n",
    "print(\"Q1 =\", Q1)\n",
    "print(\"median =\", median)\n",
    "print(\"Q3 =\", Q3)\n",
    "print(\"max_val >=\", max_val)"
   ],
   "execution_count": 20,
   "outputs": [
    {
     "name": "stdout",
     "output_type": "stream",
     "text": [
      "min_val = 1.0\n",
      "Q1 = 2100.0\n",
      "median = 4800.0\n",
      "Q3 = 8990.0\n",
      "max_val >= 50000.0\n"
     ]
    }
   ]
  },
  {
   "cell_type": "code",
   "metadata": {
    "cell_id": "00014-c2783371-fb5d-4702-bd66-50ddd0b8a82a",
    "deepnote_to_be_reexecuted": false,
    "source_hash": "a0cac53",
    "execution_start": 1627767008031,
    "execution_millis": 10,
    "deepnote_cell_type": "code",
    "pycharm": {
     "name": "#%%\n"
    }
   },
   "source": [
    "# Rango intercuartil\n",
    "IQR = Q3 - Q1\n",
    "IQR"
   ],
   "execution_count": 15,
   "outputs": [
    {
     "data": {
      "text/plain": "6890.0"
     },
     "execution_count": 15,
     "metadata": {},
     "output_type": "execute_result"
    }
   ]
  },
  {
   "cell_type": "markdown",
   "source": [
    "### Límites para detección de outliers (datos simetricamente distribuidos)\n",
    "\n",
    "Datos entre $$Q_1 -1.5 \\times \\text{IQR}$$ y $$Q_3 + 1.5 \\times \\text{IQR}$$\n",
    "\n",
    "Permite identificar el rango por el cual si se sobrepasa el minimo o el maximo deberia considerarse un Outlier"
   ],
   "metadata": {
    "tags": [],
    "cell_id": "00016-517b742f-bac3-4606-b459-3549eb0f8848",
    "deepnote_cell_type": "markdown",
    "pycharm": {
     "name": "#%% md\n"
    }
   }
  },
  {
   "cell_type": "code",
   "source": [
    "min_limit = Q1 - 1.5 * IQR\n",
    "max_limit = Q3 + 1.5 * IQR\n",
    "print('rango para detección de outliers: {}, {}'.format(min_limit, max_limit))"
   ],
   "metadata": {
    "tags": [],
    "cell_id": "00017-76d7b8d9-1901-41de-bd39-d4ba71796ab4",
    "deepnote_to_be_reexecuted": false,
    "source_hash": "77076828",
    "execution_start": 1627767331644,
    "execution_millis": 4,
    "deepnote_cell_type": "code",
    "pycharm": {
     "name": "#%%\n"
    }
   },
   "outputs": [
    {
     "name": "stdout",
     "output_type": "stream",
     "text": [
      "rango para detección de outliers: -8235.0, 19325.0\n"
     ]
    }
   ],
   "execution_count": 16
  },
  {
   "cell_type": "code",
   "source": [
    "# Histograma // Muestra distribucion de la variable\n",
    "sns.histplot(df['price_usd'])"
   ],
   "metadata": {
    "tags": [],
    "cell_id": "00018-23986cca-38ce-4861-bb0d-66c00b8c0c0d",
    "deepnote_to_be_reexecuted": false,
    "source_hash": "e5cf4786",
    "execution_start": 1627767419139,
    "execution_millis": 564,
    "deepnote_cell_type": "code",
    "pycharm": {
     "name": "#%%\n"
    }
   },
   "outputs": [
    {
     "data": {
      "text/plain": "<AxesSubplot:xlabel='price_usd', ylabel='Count'>"
     },
     "execution_count": 23,
     "metadata": {},
     "output_type": "execute_result"
    },
    {
     "data": {
      "text/plain": "<Figure size 432x288 with 1 Axes>",
      "image/png": "[encoded data removed]"
     },
     "metadata": {},
     "output_type": "display_data"
    }
   ],
   "execution_count": 23
  },
  {
   "cell_type": "code",
   "source": [
    "# Diagrama de Bigotes o Caja\n",
    "sns.boxplot(df['price_usd'])"
   ],
   "metadata": {
    "tags": [],
    "cell_id": "00019-afaf4e7c-10f9-45b1-bec4-067f8c5cde37",
    "deepnote_to_be_reexecuted": false,
    "source_hash": "64467694",
    "execution_start": 1627767481432,
    "execution_millis": 176,
    "deepnote_cell_type": "code",
    "pycharm": {
     "name": "#%%\n"
    }
   },
   "outputs": [
    {
     "name": "stderr",
     "output_type": "stream",
     "text": [
      "D:\\Programs\\python\\lib\\site-packages\\seaborn\\_decorators.py:36: FutureWarning: Pass the following variable as a keyword arg: x. From version 0.12, the only valid positional argument will be `data`, and passing other arguments without an explicit keyword will result in an error or misinterpretation.\n",
      "  warnings.warn(\n"
     ]
    },
    {
     "data": {
      "text/plain": "<AxesSubplot:xlabel='price_usd'>"
     },
     "execution_count": 18,
     "metadata": {},
     "output_type": "execute_result"
    },
    {
     "data": {
      "text/plain": "<Figure size 432x288 with 1 Axes>",
      "image/png": "[encoded data removed]"
     },
     "metadata": {},
     "output_type": "display_data"
    }
   ],
   "execution_count": 18
  },
  {
   "cell_type": "code",
   "source": [
    "# Grafico de caja para valores categoricos\n",
    "# x // valores categoricos\n",
    "# y // valores numericos\n",
    "# data // valores del df\n",
    "sns.boxplot(x='engine_fuel', y='price_usd', data=df)\n"
   ],
   "metadata": {
    "tags": [],
    "cell_id": "00020-f5a4d67a-fca1-443e-8c31-78022c1785c8",
    "deepnote_to_be_reexecuted": false,
    "source_hash": "6ac237d9",
    "execution_start": 1627767622730,
    "execution_millis": 353,
    "deepnote_cell_type": "code",
    "pycharm": {
     "name": "#%%\n"
    }
   },
   "outputs": [
    {
     "data": {
      "text/plain": "<AxesSubplot:xlabel='engine_fuel', ylabel='price_usd'>"
     },
     "execution_count": 19,
     "metadata": {},
     "output_type": "execute_result"
    },
    {
     "data": {
      "text/plain": "<Figure size 432x288 with 1 Axes>",
      "image/png": "[encoded data removed]"
     },
     "metadata": {},
     "output_type": "display_data"
    }
   ],
   "execution_count": 19
  }
 ],
 "nbformat": 4,
 "nbformat_minor": 2,
 "metadata": {
  "kernelspec": {
   "display_name": "Python 3",
   "language": "python",
   "name": "python3"
  },
  "language_info": {
   "codemirror_mode": {
    "name": "ipython",
    "version": 3
   },
   "file_extension": ".py",
   "mimetype": "text/x-python",
   "name": "python",
   "nbconvert_exporter": "python",
   "pygments_lexer": "ipython3",
   "version": "3.7.3"
  },
  "deepnote_notebook_id": "675e98d4-8b88-4ec0-b0ab-d5c2b61a7784",
  "deepnote": {},
  "deepnote_execution_queue": []
 }
}