{
 "cells": [
  {
   "cell_type": "markdown",
   "metadata": {
    "pycharm": {
     "name": "#%% md\n"
    }
   },
   "source": [
    "## Histograma en Python Puro"
   ]
  },
  {
   "cell_type": "code",
   "execution_count": 2,
   "metadata": {
    "pycharm": {
     "name": "#%%\n"
    }
   },
   "outputs": [
    {
     "data": {
      "text/plain": [
       "(0, 1, 1, 1, 2, 2, 3, 7, 7, 7, 25)"
      ]
     },
     "execution_count": 2,
     "metadata": {},
     "output_type": "execute_result"
    }
   ],
   "source": [
    "x = (0,1,1,1,2,2,3,7,7,7,25)\n",
    "x"
   ]
  },
  {
   "cell_type": "code",
   "execution_count": 7,
   "metadata": {
    "pycharm": {
     "name": "#%%\n"
    }
   },
   "outputs": [],
   "source": [
    "def count_elements(seq) -> dict:\n",
    "    \"\"\"\n",
    "        Funcion que cuenta las frecuencias de aparicion de cada elemento de la secuencia, \n",
    "        crenado un diccionario como si fuese una tabla de frecuencias\n",
    "    \"\"\"\n",
    "    histogram = {}\n",
    "    for i in seq:\n",
    "        # con get si encuentra el dato lo retorna, en caso contrario devuelve el valor por default\n",
    "        # Cuando encuentra el indice, lo que hace es sumarle  + 1\n",
    "        histogram[i] = histogram.get(i, 0) + 1\n",
    "    return histogram\n",
    "\n",
    "    "
   ]
  },
  {
   "cell_type": "code",
   "execution_count": 8,
   "metadata": {
    "pycharm": {
     "name": "#%%\n"
    }
   },
   "outputs": [
    {
     "data": {
      "text/plain": [
       "{0: 1, 1: 3, 2: 2, 3: 1, 7: 3, 25: 1}"
      ]
     },
     "execution_count": 8,
     "metadata": {},
     "output_type": "execute_result"
    }
   ],
   "source": [
    "# Frecuencia absoluta\n",
    "count_elements(x)"
   ]
  },
  {
   "cell_type": "code",
   "execution_count": 10,
   "metadata": {
    "pycharm": {
     "name": "#%%\n"
    }
   },
   "outputs": [],
   "source": [
    "# Libreria de collections\n",
    "from collections import Counter"
   ]
  },
  {
   "cell_type": "code",
   "execution_count": 11,
   "metadata": {
    "pycharm": {
     "name": "#%%\n"
    }
   },
   "outputs": [
    {
     "data": {
      "text/plain": [
       "Counter({0: 1, 1: 3, 2: 2, 3: 1, 7: 3, 25: 1})"
      ]
     },
     "execution_count": 11,
     "metadata": {},
     "output_type": "execute_result"
    }
   ],
   "source": [
    "valor_absoluto_con_libreria = Counter(x)\n",
    "valor_absoluto_con_libreria"
   ]
  },
  {
   "cell_type": "code",
   "execution_count": 14,
   "metadata": {
    "pycharm": {
     "name": "#%%\n"
    }
   },
   "outputs": [],
   "source": [
    "def ascii_histogram(seq) -> None:\n",
    "    \"\"\"\n",
    "    Un histograma de frecuencias absolutas\n",
    "    colocado en horizontal y con caracteres ASCII\n",
    "    \"\"\"\n",
    "    frecuencias_absolutas = count_elements(seq=seq)\n",
    "    # sorted ordenara la coleccion, en este caso el diccionario \n",
    "    for k in sorted(frecuencias_absolutas):\n",
    "        # imprime el primero paramtro, seguido 5 espacios a la derecha\n",
    "        # el segundo parametro sera la multiplicacion del sigo + por el numero obtenido en la llave valor\n",
    "        print('{0:5d} {1}'.format(k, '+' * frecuencias_absolutas[k]))\n",
    "    "
   ]
  },
  {
   "cell_type": "code",
   "execution_count": 13,
   "metadata": {
    "pycharm": {
     "name": "#%%\n"
    }
   },
   "outputs": [
    {
     "name": "stdout",
     "output_type": "stream",
     "text": [
      "    0 +\n",
      "    1 +++\n",
      "    2 ++\n",
      "    3 +\n",
      "    7 +++\n",
      "   25 +\n"
     ]
    }
   ],
   "source": [
    "ascii_histogram(x)"
   ]
  },
  {
   "cell_type": "code",
   "execution_count": 15,
   "metadata": {
    "pycharm": {
     "name": "#%%\n"
    }
   },
   "outputs": [],
   "source": [
    "import random\n",
    "random.seed(2019)"
   ]
  },
  {
   "cell_type": "code",
   "execution_count": null,
   "metadata": {
    "pycharm": {
     "name": "#%%\n"
    }
   },
   "outputs": [],
   "source": [
    "# Otra generacion de datos aletaroia"
   ]
  },
  {
   "cell_type": "code",
   "execution_count": 23,
   "metadata": {
    "pycharm": {
     "name": "#%%\n"
    }
   },
   "outputs": [
    {
     "data": {
      "text/plain": [
       "[18, 12, 18, 19, 7, 15, 6, 16]"
      ]
     },
     "execution_count": 23,
     "metadata": {},
     "output_type": "execute_result"
    }
   ],
   "source": [
    "values = [1,2,3,5,7,8,9,10]\n",
    "frecuencias = (random.randint(5,20) for _ in values)\n",
    "list(frecuencias)"
   ]
  },
  {
   "cell_type": "code",
   "execution_count": 19,
   "metadata": {
    "pycharm": {
     "name": "#%%\n"
    }
   },
   "outputs": [
    {
     "data": {
      "text/plain": [
       "[1,\n",
       " 1,\n",
       " 1,\n",
       " 1,\n",
       " 1,\n",
       " 1,\n",
       " 1,\n",
       " 1,\n",
       " 1,\n",
       " 2,\n",
       " 2,\n",
       " 2,\n",
       " 2,\n",
       " 2,\n",
       " 2,\n",
       " 2,\n",
       " 2,\n",
       " 2,\n",
       " 2,\n",
       " 2,\n",
       " 2,\n",
       " 3,\n",
       " 3,\n",
       " 3,\n",
       " 3,\n",
       " 3,\n",
       " 3,\n",
       " 3,\n",
       " 3,\n",
       " 3,\n",
       " 3,\n",
       " 3,\n",
       " 3,\n",
       " 3,\n",
       " 3,\n",
       " 3,\n",
       " 3,\n",
       " 3,\n",
       " 3,\n",
       " 3,\n",
       " 3,\n",
       " 5,\n",
       " 5,\n",
       " 5,\n",
       " 5,\n",
       " 5,\n",
       " 5,\n",
       " 5,\n",
       " 5,\n",
       " 5,\n",
       " 5,\n",
       " 7,\n",
       " 7,\n",
       " 7,\n",
       " 7,\n",
       " 7,\n",
       " 7,\n",
       " 7,\n",
       " 7,\n",
       " 7,\n",
       " 7,\n",
       " 7,\n",
       " 7,\n",
       " 8,\n",
       " 8,\n",
       " 8,\n",
       " 8,\n",
       " 8,\n",
       " 8,\n",
       " 8,\n",
       " 8,\n",
       " 8,\n",
       " 8,\n",
       " 8,\n",
       " 8,\n",
       " 9,\n",
       " 9,\n",
       " 9,\n",
       " 9,\n",
       " 9,\n",
       " 9,\n",
       " 9,\n",
       " 9,\n",
       " 9,\n",
       " 9,\n",
       " 9,\n",
       " 9,\n",
       " 9,\n",
       " 9,\n",
       " 9,\n",
       " 10,\n",
       " 10,\n",
       " 10,\n",
       " 10,\n",
       " 10,\n",
       " 10,\n",
       " 10,\n",
       " 10,\n",
       " 10,\n",
       " 10,\n",
       " 10,\n",
       " 10,\n",
       " 10,\n",
       " 10]"
      ]
     },
     "execution_count": 19,
     "metadata": {},
     "output_type": "execute_result"
    }
   ],
   "source": [
    "data = []\n",
    "for key , value in zip(values, frecuencias):\n",
    "    # Pusheando a la lista \n",
    "    # el arreglo en la posicion, generara ese valor tantas veces al multiplicarlo por el value\n",
    "    data.extend([key]*value)\n",
    "data"
   ]
  },
  {
   "cell_type": "code",
   "execution_count": 20,
   "metadata": {
    "pycharm": {
     "name": "#%%\n"
    }
   },
   "outputs": [
    {
     "name": "stdout",
     "output_type": "stream",
     "text": [
      "    1 +++++++++\n",
      "    2 ++++++++++++\n",
      "    3 ++++++++++++++++++++\n",
      "    5 ++++++++++\n",
      "    7 ++++++++++++\n",
      "    8 ++++++++++++\n",
      "    9 +++++++++++++++\n",
      "   10 ++++++++++++++\n"
     ]
    }
   ],
   "source": [
    "ascii_histogram(data)"
   ]
  },
  {
   "cell_type": "markdown",
   "metadata": {
    "pycharm": {
     "name": "#%% md\n"
    }
   },
   "source": [
    "## Histograma con Numpy"
   ]
  },
  {
   "cell_type": "code",
   "execution_count": 4,
   "metadata": {
    "pycharm": {
     "name": "#%%\n"
    }
   },
   "outputs": [],
   "source": [
    "import numpy as np"
   ]
  },
  {
   "cell_type": "code",
   "execution_count": 26,
   "metadata": {
    "pycharm": {
     "name": "#%%\n"
    }
   },
   "outputs": [],
   "source": [
    "# Seteando la semilla de los random\n",
    "np.random.seed(2019)"
   ]
  },
  {
   "cell_type": "code",
   "execution_count": 27,
   "metadata": {
    "pycharm": {
     "name": "#%%\n"
    }
   },
   "outputs": [],
   "source": [
    "# Definiendo a la libreria, algunos ajustes globales\n",
    "# precision=3 // mostrara como maximo 3 decimales\n",
    "np.set_printoptions(precision=3)"
   ]
  },
  {
   "cell_type": "code",
   "execution_count": 28,
   "metadata": {
    "pycharm": {
     "name": "#%%\n"
    }
   },
   "outputs": [
    {
     "data": {
      "text/plain": [
       "array([14.935,  9.278, 10.855, 10.968, 14.294,  8.459, 11.555, 14.926,\n",
       "       14.316,  9.373])"
      ]
     },
     "execution_count": 28,
     "metadata": {},
     "output_type": "execute_result"
    }
   ],
   "source": [
    "# usando laplace para generar numeros aletorios\n",
    "x = np.random.laplace(loc=10, scale=3, size=1000)\n",
    "x[:10]"
   ]
  },
  {
   "cell_type": "code",
   "execution_count": 37,
   "metadata": {
    "pycharm": {
     "name": "#%%\n"
    }
   },
   "outputs": [
    {
     "data": {
      "text/plain": [
       "(array([  1,   0,   0,   8,  48, 194, 542, 167,  31,   9], dtype=int64),\n",
       " array([-19.167, -14.642, -10.118,  -5.593,  -1.069,   3.455,   7.98 ,\n",
       "         12.504,  17.029,  21.553,  26.077]))"
      ]
     },
     "execution_count": 37,
     "metadata": {},
     "output_type": "execute_result"
    }
   ],
   "source": [
    "# np.histogram(x)\n",
    "# np.histogram(coleccion de datos)\n",
    "# devuelve 2 tuplas, el primer valor es el histograma (frecuencia de las divisiones) \n",
    "# y el segundo los extremos de las divisiones o intervalos\n",
    "hist, bin_edges = np.histogram(x)\n",
    "np.histogram(x)"
   ]
  },
  {
   "cell_type": "code",
   "execution_count": 32,
   "metadata": {
    "pycharm": {
     "name": "#%%\n"
    }
   },
   "outputs": [
    {
     "data": {
      "text/plain": [
       "(10, 11)"
      ]
     },
     "execution_count": 32,
     "metadata": {},
     "output_type": "execute_result"
    }
   ],
   "source": [
    "hist.size, bin_edges.size"
   ]
  },
  {
   "cell_type": "code",
   "execution_count": 38,
   "metadata": {
    "pycharm": {
     "name": "#%%\n"
    }
   },
   "outputs": [
    {
     "data": {
      "text/plain": [
       "array([-19.167, -14.642, -10.118,  -5.593,  -1.069,   3.455,   7.98 ,\n",
       "        12.504,  17.029,  21.553,  26.077])"
      ]
     },
     "execution_count": 38,
     "metadata": {},
     "output_type": "execute_result"
    }
   ],
   "source": [
    "# Emulando la distribucion que realiza automaticamente Numpy con la funcion histogram\n",
    "# Obteniendo el minimo y el maximo\n",
    "min_edge = x.min()\n",
    "max_edge = x.max()\n",
    "min_edge, max_edge\n",
    "\n",
    "# Define la cantidad de divisiones\n",
    "n_bins = 11\n",
    "\n",
    "# Definiendo las divisiones con espaciados fijos\n",
    "bin_edges_manual = np.linspace(start=min_edge, stop=max_edge, num=n_bins, endpoint=True)\n",
    "bin_edges_manual\n"
   ]
  },
  {
   "cell_type": "code",
   "execution_count": 39,
   "metadata": {
    "pycharm": {
     "name": "#%%\n"
    }
   },
   "outputs": [
    {
     "data": {
      "text/plain": [
       "True"
      ]
     },
     "execution_count": 39,
     "metadata": {},
     "output_type": "execute_result"
    }
   ],
   "source": [
    "# Comparando la el valor de la tupla generada por histogram vs la manual con numpy\n",
    "# .array_equal(coleccion1, collecion2)\n",
    "# Permite comparar si a nivel de data son lo mismo las coecciones\n",
    "np.array_equal(bin_edges, bin_edges_manual)"
   ]
  },
  {
   "cell_type": "markdown",
   "metadata": {
    "pycharm": {
     "name": "#%% md\n"
    }
   },
   "source": [
    "## Visualizacion de Histogramas con Matplotlib y Pandas"
   ]
  },
  {
   "cell_type": "code",
   "execution_count": 40,
   "metadata": {
    "pycharm": {
     "name": "#%%\n"
    }
   },
   "outputs": [],
   "source": [
    "import matplotlib.pyplot as plt"
   ]
  },
  {
   "cell_type": "code",
   "execution_count": 41,
   "metadata": {
    "pycharm": {
     "name": "#%%\n"
    }
   },
   "outputs": [
    {
     "data": {
      "text/plain": [
       "array([ 6.845,  9.362,  9.985, 18.31 , 15.288, 11.093, 11.06 , 10.41 ,\n",
       "       13.157, 10.088])"
      ]
     },
     "execution_count": 41,
     "metadata": {},
     "output_type": "execute_result"
    }
   ],
   "source": [
    "# usando laplace para generar numeros aletorios\n",
    "x = np.random.laplace(loc=10, scale=3, size=1000)\n",
    "x[:10]"
   ]
  },
  {
   "cell_type": "code",
   "execution_count": 53,
   "metadata": {
    "pycharm": {
     "name": "#%%\n"
    }
   },
   "outputs": [
    {
     "data": {
      "text/plain": [
       "(array([  2.,   2.,   1.,   2.,   2.,   4.,   1.,   3.,   3.,  10.,   6.,\n",
       "         11.,  20.,  28.,  44.,  58.,  74.,  71., 101., 150., 102.,  72.,\n",
       "         50.,  51.,  38.,  25.,  13.,  24.,   6.,   5.,   6.,   2.,   3.,\n",
       "          3.,   2.,   1.,   0.,   2.,   0.,   1.,   0.,   0.,   0.,   0.,\n",
       "          0.,   1.]),\n",
       " array([-7.648, -6.733, -5.817, -4.901, -3.985, -3.069, -2.153, -1.237,\n",
       "        -0.321,  0.595,  1.511,  2.427,  3.343,  4.259,  5.175,  6.091,\n",
       "         7.007,  7.923,  8.839,  9.755, 10.671, 11.587, 12.503, 13.419,\n",
       "        14.335, 15.25 , 16.166, 17.082, 17.998, 18.914, 19.83 , 20.746,\n",
       "        21.662, 22.578, 23.494, 24.41 , 25.326, 26.242, 27.158, 28.074,\n",
       "        28.99 , 29.906, 30.822, 31.738, 32.654, 33.57 , 34.486]),\n",
       " <a list of 46 Patch objects>)"
      ]
     },
     "execution_count": 53,
     "metadata": {},
     "output_type": "execute_result"
    },
    {
     "data": {
      "image/png": "[encoded data removed]",
      "text/plain": [
       "<Figure size 432x288 with 1 Axes>"
      ]
     },
     "metadata": {
      "needs_background": "light"
     },
     "output_type": "display_data"
    }
   ],
   "source": [
    "# plt.hist(x)\n",
    "# plt.hist(Arreglo)\n",
    "# devuelve 3 tuplas, 1 con cantidad de elementos o frecuencias de los elementos, 2 divisiones o extremos del intervalo, 3 patches\n",
    "# .hist(x=data arregkim bins=tipo de divisiones, color=\"color en haxedecimal\", alpha=\"tranparecia 0 a 1\", rwidht=\"ancho de cada columna\")\n",
    "frecuencias, bins, patches = plt.hist(x=x, bins='auto', color='#333333', alpha= 0.75, rwidth=0.85)\n",
    "# añadiendo rayas horizonales en el eje de las y\n",
    "plt.grid(axis='y', alpha = 0.5)\n",
    "# Etiquetas en los ejes\n",
    "plt.xlabel('Valor')\n",
    "plt.ylabel('Frecuencia')\n",
    "# Titulo y texto\n",
    "plt.title('Un histograma de frecuencias')\n",
    "plt.text(0,80, r'$\\mu = 10, b = 3$') # .text(psicionx, pisiciony, 'texto')\n",
    "\n",
    "frecuencias, bins, patches"
   ]
  },
  {
   "cell_type": "code",
   "execution_count": null,
   "metadata": {
    "pycharm": {
     "name": "#%%\n"
    }
   },
   "outputs": [],
   "source": [
    "import pandas as pd"
   ]
  },
  {
   "cell_type": "code",
   "execution_count": 63,
   "metadata": {
    "pycharm": {
     "name": "#%%\n"
    }
   },
   "outputs": [
    {
     "data": {
      "text/plain": [
       "0      12.542890\n",
       "1       6.374123\n",
       "2       6.062628\n",
       "3      11.281843\n",
       "4       9.333709\n",
       "5       9.345968\n",
       "6      10.476106\n",
       "7      10.274608\n",
       "8      10.589216\n",
       "9       9.233375\n",
       "10      8.153356\n",
       "11     10.511433\n",
       "12      7.127043\n",
       "13      8.869547\n",
       "14     13.422941\n",
       "15      7.527213\n",
       "16     10.433524\n",
       "17     13.187047\n",
       "18     10.040690\n",
       "19     11.072461\n",
       "20     10.372819\n",
       "21     10.157363\n",
       "22      8.233672\n",
       "23     10.734760\n",
       "24      9.593208\n",
       "25     13.077856\n",
       "26      8.141933\n",
       "27      5.720931\n",
       "28      9.568567\n",
       "29     10.194593\n",
       "         ...    \n",
       "970     4.851830\n",
       "971     7.562783\n",
       "972     8.901284\n",
       "973     6.682742\n",
       "974     5.519744\n",
       "975     9.063104\n",
       "976    15.057978\n",
       "977     7.750156\n",
       "978     9.830913\n",
       "979     8.552812\n",
       "980    14.617241\n",
       "981     8.403454\n",
       "982     9.246176\n",
       "983    13.653791\n",
       "984    11.559880\n",
       "985    12.553035\n",
       "986    12.462773\n",
       "987    11.072319\n",
       "988     9.888904\n",
       "989    13.968327\n",
       "990     8.241070\n",
       "991     8.397470\n",
       "992    16.326565\n",
       "993    14.728616\n",
       "994    11.582069\n",
       "995    13.184896\n",
       "996    12.308561\n",
       "997    16.473131\n",
       "998    11.803804\n",
       "999    13.136608\n",
       "Length: 1000, dtype: float64"
      ]
     },
     "execution_count": 63,
     "metadata": {},
     "output_type": "execute_result"
    }
   ],
   "source": [
    "size , scale = 1000 , 10\n",
    "# Generando una serie, de datos random con Numpy\n",
    "data = pd.Series(np.random.gamma(scale, size=size))\n",
    "data"
   ]
  },
  {
   "cell_type": "code",
   "execution_count": 64,
   "metadata": {
    "pycharm": {
     "name": "#%%\n"
    }
   },
   "outputs": [
    {
     "data": {
      "text/plain": [
       "<matplotlib.axes._subplots.AxesSubplot at 0x39f53ed160>"
      ]
     },
     "execution_count": 64,
     "metadata": {},
     "output_type": "execute_result"
    },
    {
     "data": {
      "image/png": "[encoded data removed]",
      "text/plain": [
       "<Figure size 432x288 with 1 Axes>"
      ]
     },
     "metadata": {
      "needs_background": "light"
     },
     "output_type": "display_data"
    }
   ],
   "source": [
    "# Generando un histograma vacico con la data random, a partir de unsa serie de Pandas\n",
    "data.plot.hist()"
   ]
  },
  {
   "cell_type": "code",
   "execution_count": 65,
   "metadata": {
    "pycharm": {
     "name": "#%%\n"
    }
   },
   "outputs": [
    {
     "data": {
      "image/png": "[encoded data removed]",
      "text/plain": [
       "<Figure size 432x288 with 1 Axes>"
      ]
     },
     "metadata": {
      "needs_background": "light"
     },
     "output_type": "display_data"
    }
   ],
   "source": [
    "data.plot.hist(grid=True, bins=20, rwidth=0.9, color= \"#d52675\")\n",
    "plt.title('Distribucion Gamma')\n",
    "plt.xlabel('Valores')\n",
    "plt.ylabel('Frecuencias')\n",
    "plt.grid(axis='y', alpha=0.75)"
   ]
  },
  {
   "cell_type": "markdown",
   "metadata": {
    "pycharm": {
     "name": "#%% md\n"
    }
   },
   "source": [
    "## Funciones de densidad y de probabilidad"
   ]
  },
  {
   "cell_type": "code",
   "execution_count": 75,
   "metadata": {
    "pycharm": {
     "name": "#%%\n"
    }
   },
   "outputs": [
    {
     "data": {
      "text/html": [
       "<div>\n",
       "<style scoped>\n",
       "    .dataframe tbody tr th:only-of-type {\n",
       "        vertical-align: middle;\n",
       "    }\n",
       "\n",
       "    .dataframe tbody tr th {\n",
       "        vertical-align: top;\n",
       "    }\n",
       "\n",
       "    .dataframe thead th {\n",
       "        text-align: right;\n",
       "    }\n",
       "</style>\n",
       "<table border=\"1\" class=\"dataframe\">\n",
       "  <thead>\n",
       "    <tr style=\"text-align: right;\">\n",
       "      <th></th>\n",
       "      <th>x1</th>\n",
       "      <th>x2</th>\n",
       "    </tr>\n",
       "  </thead>\n",
       "  <tbody>\n",
       "    <tr>\n",
       "      <th>0</th>\n",
       "      <td>8.040956</td>\n",
       "      <td>18.323730</td>\n",
       "    </tr>\n",
       "    <tr>\n",
       "      <th>1</th>\n",
       "      <td>9.407498</td>\n",
       "      <td>21.117696</td>\n",
       "    </tr>\n",
       "    <tr>\n",
       "      <th>2</th>\n",
       "      <td>9.919120</td>\n",
       "      <td>20.510100</td>\n",
       "    </tr>\n",
       "    <tr>\n",
       "      <th>3</th>\n",
       "      <td>9.382617</td>\n",
       "      <td>20.003313</td>\n",
       "    </tr>\n",
       "    <tr>\n",
       "      <th>4</th>\n",
       "      <td>3.225706</td>\n",
       "      <td>22.353778</td>\n",
       "    </tr>\n",
       "  </tbody>\n",
       "</table>\n",
       "</div>"
      ],
      "text/plain": [
       "         x1         x2\n",
       "0  8.040956  18.323730\n",
       "1  9.407498  21.117696\n",
       "2  9.919120  20.510100\n",
       "3  9.382617  20.003313\n",
       "4  3.225706  22.353778"
      ]
     },
     "execution_count": 75,
     "metadata": {},
     "output_type": "execute_result"
    }
   ],
   "source": [
    "mu = 10, 20\n",
    "sigma = 5, 2\n",
    "dist = pd.DataFrame(np.random.normal(loc= mu, scale=sigma, size = (1000, 2)), columns =['x1', 'x2'])\n",
    "dist.head()"
   ]
  },
  {
   "cell_type": "code",
   "execution_count": 71,
   "metadata": {
    "pycharm": {
     "name": "#%%\n"
    }
   },
   "outputs": [
    {
     "data": {
      "text/html": [
       "<div>\n",
       "<style scoped>\n",
       "    .dataframe tbody tr th:only-of-type {\n",
       "        vertical-align: middle;\n",
       "    }\n",
       "\n",
       "    .dataframe tbody tr th {\n",
       "        vertical-align: top;\n",
       "    }\n",
       "\n",
       "    .dataframe thead th {\n",
       "        text-align: right;\n",
       "    }\n",
       "</style>\n",
       "<table border=\"1\" class=\"dataframe\">\n",
       "  <thead>\n",
       "    <tr style=\"text-align: right;\">\n",
       "      <th></th>\n",
       "      <th>x1</th>\n",
       "      <th>x2</th>\n",
       "    </tr>\n",
       "  </thead>\n",
       "  <tbody>\n",
       "    <tr>\n",
       "      <th>count</th>\n",
       "      <td>1000.00</td>\n",
       "      <td>1000.00</td>\n",
       "    </tr>\n",
       "    <tr>\n",
       "      <th>mean</th>\n",
       "      <td>10.00</td>\n",
       "      <td>20.12</td>\n",
       "    </tr>\n",
       "    <tr>\n",
       "      <th>std</th>\n",
       "      <td>4.88</td>\n",
       "      <td>2.07</td>\n",
       "    </tr>\n",
       "    <tr>\n",
       "      <th>min</th>\n",
       "      <td>-8.68</td>\n",
       "      <td>12.22</td>\n",
       "    </tr>\n",
       "    <tr>\n",
       "      <th>25%</th>\n",
       "      <td>6.89</td>\n",
       "      <td>18.82</td>\n",
       "    </tr>\n",
       "    <tr>\n",
       "      <th>50%</th>\n",
       "      <td>9.87</td>\n",
       "      <td>20.15</td>\n",
       "    </tr>\n",
       "    <tr>\n",
       "      <th>75%</th>\n",
       "      <td>13.36</td>\n",
       "      <td>21.59</td>\n",
       "    </tr>\n",
       "    <tr>\n",
       "      <th>max</th>\n",
       "      <td>23.53</td>\n",
       "      <td>26.47</td>\n",
       "    </tr>\n",
       "  </tbody>\n",
       "</table>\n",
       "</div>"
      ],
      "text/plain": [
       "            x1       x2\n",
       "count  1000.00  1000.00\n",
       "mean     10.00    20.12\n",
       "std       4.88     2.07\n",
       "min      -8.68    12.22\n",
       "25%       6.89    18.82\n",
       "50%       9.87    20.15\n",
       "75%      13.36    21.59\n",
       "max      23.53    26.47"
      ]
     },
     "execution_count": 71,
     "metadata": {},
     "output_type": "execute_result"
    }
   ],
   "source": [
    "# mostrando el Df generando con describe, y redondeando sus resultado a 2 decimales\n",
    "dist.describe().round(decimals=2)"
   ]
  },
  {
   "cell_type": "code",
   "execution_count": 72,
   "metadata": {
    "pycharm": {
     "name": "#%%\n"
    }
   },
   "outputs": [
    {
     "data": {
      "text/html": [
       "<div>\n",
       "<style scoped>\n",
       "    .dataframe tbody tr th:only-of-type {\n",
       "        vertical-align: middle;\n",
       "    }\n",
       "\n",
       "    .dataframe tbody tr th {\n",
       "        vertical-align: top;\n",
       "    }\n",
       "\n",
       "    .dataframe thead th {\n",
       "        text-align: right;\n",
       "    }\n",
       "</style>\n",
       "<table border=\"1\" class=\"dataframe\">\n",
       "  <thead>\n",
       "    <tr style=\"text-align: right;\">\n",
       "      <th></th>\n",
       "      <th>x1</th>\n",
       "      <th>x2</th>\n",
       "    </tr>\n",
       "  </thead>\n",
       "  <tbody>\n",
       "    <tr>\n",
       "      <th>min</th>\n",
       "      <td>-8.68</td>\n",
       "      <td>12.22</td>\n",
       "    </tr>\n",
       "    <tr>\n",
       "      <th>max</th>\n",
       "      <td>23.53</td>\n",
       "      <td>26.47</td>\n",
       "    </tr>\n",
       "    <tr>\n",
       "      <th>mean</th>\n",
       "      <td>10.00</td>\n",
       "      <td>20.12</td>\n",
       "    </tr>\n",
       "    <tr>\n",
       "      <th>std</th>\n",
       "      <td>4.88</td>\n",
       "      <td>2.07</td>\n",
       "    </tr>\n",
       "  </tbody>\n",
       "</table>\n",
       "</div>"
      ],
      "text/plain": [
       "         x1     x2\n",
       "min   -8.68  12.22\n",
       "max   23.53  26.47\n",
       "mean  10.00  20.12\n",
       "std    4.88   2.07"
      ]
     },
     "execution_count": 72,
     "metadata": {},
     "output_type": "execute_result"
    }
   ],
   "source": [
    "# Agregando operaciones al dataframe de datos, manualmente emulando un describe\n",
    "dist.aggregate(['min', 'max', 'mean', 'std']).round(decimals=2)"
   ]
  },
  {
   "cell_type": "code",
   "execution_count": 77,
   "metadata": {
    "pycharm": {
     "name": "#%%\n"
    }
   },
   "outputs": [
    {
     "data": {
      "text/plain": [
       "<matplotlib.axes._subplots.AxesSubplot at 0x39f7ccdc18>"
      ]
     },
     "execution_count": 77,
     "metadata": {},
     "output_type": "execute_result"
    },
    {
     "data": {
      "image/png": "[encoded data removed]",
      "text/plain": [
       "<Figure size 432x288 with 1 Axes>"
      ]
     },
     "metadata": {
      "needs_background": "light"
     },
     "output_type": "display_data"
    }
   ],
   "source": [
    "fig , ax = plt.subplots()\n",
    "# kde => kernel density\n",
    "# Permite generar una aproximacion de la distribucion\n",
    "dist.plot.kde(ax=ax, legend=False, title='Histograma de dos normales')\n",
    "dist.plot.hist(density=True, ax = ax)"
   ]
  },
  {
   "cell_type": "markdown",
   "metadata": {
    "pycharm": {
     "name": "#%% md\n"
    }
   },
   "source": [
    "## Histogramas con Seaborn"
   ]
  },
  {
   "cell_type": "code",
   "execution_count": 13,
   "metadata": {
    "pycharm": {
     "name": "#%%\n"
    }
   },
   "outputs": [],
   "source": [
    "import seaborn as sb\n",
    "import pandas as pd\n",
    "import numpy as np\n"
   ]
  },
  {
   "cell_type": "code",
   "execution_count": 14,
   "metadata": {
    "pycharm": {
     "name": "#%%\n"
    }
   },
   "outputs": [
    {
     "data": {
      "text/plain": [
       "0       9.622467\n",
       "1      11.612568\n",
       "2       8.086265\n",
       "3       8.519376\n",
       "4      16.176017\n",
       "5       9.761637\n",
       "6      11.000858\n",
       "7      12.380536\n",
       "8       5.658376\n",
       "9      12.203156\n",
       "10     13.337756\n",
       "11      9.397348\n",
       "12      3.450282\n",
       "13      5.512784\n",
       "14      9.061922\n",
       "15      9.725927\n",
       "16      4.615915\n",
       "17      9.884216\n",
       "18     11.781881\n",
       "19     11.410799\n",
       "20      5.089963\n",
       "21     13.772962\n",
       "22     13.054842\n",
       "23     10.418797\n",
       "24     16.728151\n",
       "25     12.739045\n",
       "26     15.074033\n",
       "27     14.811818\n",
       "28     12.627764\n",
       "29     12.332276\n",
       "         ...    \n",
       "970    16.007199\n",
       "971     6.269834\n",
       "972     8.610609\n",
       "973     7.129069\n",
       "974    18.226160\n",
       "975     9.758874\n",
       "976     5.119244\n",
       "977    16.240397\n",
       "978     5.710786\n",
       "979    17.921386\n",
       "980     6.658157\n",
       "981    10.482258\n",
       "982    13.616609\n",
       "983    12.505043\n",
       "984     9.476721\n",
       "985     4.907223\n",
       "986    13.667626\n",
       "987     6.247064\n",
       "988    10.718135\n",
       "989     9.019065\n",
       "990     4.886705\n",
       "991    11.112735\n",
       "992     7.609382\n",
       "993    10.312673\n",
       "994    12.594204\n",
       "995     8.288443\n",
       "996     7.158022\n",
       "997    10.020930\n",
       "998     8.215170\n",
       "999     5.087660\n",
       "Length: 1000, dtype: float64"
      ]
     },
     "execution_count": 14,
     "metadata": {},
     "output_type": "execute_result"
    }
   ],
   "source": [
    "size , scale = 1000 , 10\n",
    "# Generando una serie, de datos random con Numpy\n",
    "data = pd.Series(np.random.gamma(scale, size=size))\n",
    "data"
   ]
  },
  {
   "cell_type": "code",
   "execution_count": 11,
   "metadata": {
    "pycharm": {
     "name": "#%%\n"
    }
   },
   "outputs": [
    {
     "data": {
      "text/plain": [
       "<matplotlib.axes._subplots.AxesSubplot at 0x3d90b5898>"
      ]
     },
     "execution_count": 11,
     "metadata": {},
     "output_type": "execute_result"
    },
    {
     "data": {
      "image/png": "[encoded data removed]",
      "text/plain": [
       "<Figure size 432x288 with 1 Axes>"
      ]
     },
     "metadata": {},
     "output_type": "display_data"
    }
   ],
   "source": [
    "sb.set_style('darkgrid') # coloca un grid con background\n",
    "sb.distplot(data)"
   ]
  },
  {
   "cell_type": "markdown",
   "metadata": {
    "pycharm": {
     "name": "#%% md\n"
    }
   },
   "source": [
    "## Otras formas"
   ]
  },
  {
   "cell_type": "code",
   "execution_count": 18,
   "metadata": {
    "pycharm": {
     "name": "#%%\n"
    }
   },
   "outputs": [
    {
     "data": {
      "text/plain": [
       "array([7, 2, 3, 7, 7, 4, 4, 8, 5, 4, 5, 6, 7, 9, 5, 1, 8, 7, 9, 9, 9, 2,\n",
       "       3, 9, 8, 2, 7, 2, 4, 5, 4, 8, 8, 7, 8, 7, 8, 8, 4, 6, 5, 9, 9, 8,\n",
       "       9, 6, 9, 6, 4, 9, 4, 6, 8, 2, 9, 3, 4, 3, 7, 3, 1, 3, 9, 8, 5, 4,\n",
       "       4, 8, 9, 5, 2, 7, 9, 7, 8, 9, 9, 0, 3, 5, 9, 7, 4, 7, 6, 6, 3, 5,\n",
       "       2, 7, 9, 9, 6, 6, 7, 9, 1, 7, 8, 3, 9, 9, 4, 4, 5, 4, 8, 3, 5, 4,\n",
       "       9, 0, 7, 7, 7, 9, 7, 7, 9, 8, 4, 3, 9, 7, 8, 5, 8, 5, 7, 5, 6, 9,\n",
       "       6, 6, 4, 5, 4, 2, 3, 7, 5, 9, 8, 6, 9, 2, 7, 7, 9, 9, 9, 6, 6, 7,\n",
       "       5, 5, 5, 7, 9, 5, 6, 7, 8, 9, 4, 5, 9, 8, 5, 5, 8, 7, 6, 5, 2, 6,\n",
       "       7, 8, 2, 7, 6, 6, 7, 8, 6, 5, 1, 2, 8, 6, 8, 7, 8, 9, 9, 5, 9, 6,\n",
       "       2, 7, 1, 5, 7, 3, 9, 5, 5, 7, 3, 7, 7, 9, 5, 9, 6, 7, 6, 9, 4, 7,\n",
       "       9, 9, 6, 4, 4, 6, 4, 6, 5, 9, 7, 6, 8, 4, 8, 8, 8, 6, 8, 2, 1, 5,\n",
       "       3, 9, 3, 8, 5, 5, 8, 8, 9, 7, 9, 9, 4, 2, 9, 5, 3, 5, 8, 8, 3, 9,\n",
       "       8, 6, 6, 3, 6, 2, 9, 8, 4, 6, 7, 6, 6, 8, 9, 9, 9, 9, 8, 2, 6, 7,\n",
       "       2, 2, 8, 7, 1, 8, 5, 4, 8, 9, 1, 6, 4, 0, 2, 7, 6, 7, 5, 7, 4, 9,\n",
       "       3, 5, 6, 7, 7, 3, 3, 5, 7, 3, 9, 6, 6, 7, 3, 9, 7, 8, 1, 3, 9, 9,\n",
       "       8, 4, 8, 7, 8, 2, 5, 6, 6, 7, 5, 6, 0, 6, 7, 6, 5, 9, 7, 5, 6, 7,\n",
       "       6, 2, 3, 6, 9, 7, 4, 9, 2, 4, 5, 8, 3, 7, 9, 9, 5, 3, 7, 3, 8, 9,\n",
       "       8, 4, 9, 7, 9, 9, 9, 9, 5, 5, 2, 3, 8, 0, 5, 5, 5, 3, 8, 4, 6, 9,\n",
       "       7, 5, 8, 7, 9, 5, 7, 8, 1, 7, 7, 6, 9, 8, 8, 8, 8, 8, 0, 8, 7, 8,\n",
       "       5, 3, 7, 8, 6, 7, 7, 9, 5, 9, 8, 7, 6, 3, 3, 9, 5, 6, 5, 9, 7, 8,\n",
       "       5, 8, 4, 3, 9, 8, 8, 9, 7, 6, 9, 8, 6, 8, 9, 3, 8, 6, 7, 6, 3, 3,\n",
       "       3, 0, 3, 5, 3, 5, 5, 8, 7, 8, 8, 6, 4, 8, 4, 3, 8, 9, 7, 2, 2, 5,\n",
       "       8, 7, 7, 7, 8, 5, 8, 3, 2, 8, 7, 1, 2, 7, 7, 5, 8, 8, 9, 8, 8, 1,\n",
       "       2, 8, 7, 1, 9, 6, 7, 3, 7, 4, 9, 8, 8, 6, 3, 5, 6, 4, 6, 8, 7, 6,\n",
       "       2, 6, 7, 5, 8, 9, 9, 4, 9, 9, 6, 2, 4, 7, 5, 7, 6, 2, 5, 7, 3, 4,\n",
       "       3, 9, 7, 7, 4, 7, 6, 9, 2, 6, 6, 7, 2, 6, 9, 2, 5, 5, 9, 4, 5, 5,\n",
       "       3, 6, 0, 4, 7, 6, 7, 9, 9, 9, 7, 8, 7, 3, 5, 8, 8, 7, 2, 5, 4, 7,\n",
       "       7, 9, 3, 9, 7, 6, 4, 2, 3, 4, 4, 9, 1, 8, 8, 8, 6, 6, 7, 6, 9, 9,\n",
       "       9, 9, 0, 3, 9, 9, 2, 3, 7, 9, 6, 6, 7, 8, 9, 6, 7, 5, 1, 7, 6, 6,\n",
       "       7, 9, 8, 3, 7, 5, 3, 9, 7, 7, 9, 0, 9, 8, 8, 5, 7, 3, 9, 6, 4, 7,\n",
       "       6, 9, 7, 5, 5, 1, 7, 3, 7, 3, 9, 5, 6, 1, 9, 5, 2, 9, 5, 7, 9, 2,\n",
       "       6, 9, 1, 0, 8, 6, 6, 7, 2, 6, 9, 8, 2, 6, 8, 7, 6, 6, 9, 7, 1, 6,\n",
       "       0, 1, 7, 7, 9, 6, 9, 6, 7, 5, 9, 9, 6, 6, 8, 9, 4, 8, 7, 4, 9, 2,\n",
       "       3, 2, 8, 6, 3, 1, 8, 2, 7, 7, 8, 0, 8, 4, 8, 8, 9, 7, 9, 9, 8, 4,\n",
       "       4, 9, 5, 4, 2, 8, 9, 5, 8, 5, 8, 7, 8, 2, 5, 7, 6, 0, 6, 4, 3, 7,\n",
       "       9, 9, 5, 9, 5, 8, 3, 7, 4, 5, 7, 8, 4, 9, 4, 7, 9, 5, 9, 7, 9, 3,\n",
       "       5, 4, 9, 1, 4, 9, 5, 8, 6, 8, 8, 5, 5, 7, 4, 5, 9, 5, 4, 1, 3, 4,\n",
       "       6, 8, 6, 1, 3, 7, 5, 8, 7, 8, 9, 7, 4, 2, 5, 4, 4, 5, 6, 4, 4, 9,\n",
       "       9, 1, 4, 9, 5, 3, 9, 7, 3, 0, 8, 6, 7, 9, 8, 9, 6, 4, 5, 8, 6, 5,\n",
       "       9, 8, 8, 8, 6, 3, 5, 6, 4, 5, 7, 8, 7, 5, 8, 7, 4, 4, 1, 2, 8, 4,\n",
       "       6, 9, 8, 4, 8, 3, 5, 6, 7, 8, 9, 6, 7, 9, 7, 5, 2, 8, 9, 9, 5, 5,\n",
       "       8, 0, 0, 3, 6, 7, 9, 3, 6, 6, 9, 9, 7, 6, 9, 4, 7, 8, 9, 5, 2, 3,\n",
       "       9, 7, 9, 3, 9, 9, 6, 8, 5, 9, 7, 6, 8, 5, 5, 1, 9, 6, 2, 2, 2, 1,\n",
       "       8, 8, 4, 6, 7, 8, 9, 8, 3, 9, 9, 8, 5, 5, 5, 9, 5, 8, 7, 6, 9, 6,\n",
       "       0, 9, 8, 4, 3, 5, 9, 0, 2, 9, 6, 6, 1, 9, 2, 7, 8, 7, 5, 6, 9, 6,\n",
       "       7, 4, 8, 8, 6, 9, 7, 4, 5, 5])"
      ]
     },
     "execution_count": 18,
     "metadata": {},
     "output_type": "execute_result"
    }
   ],
   "source": [
    "# .random.choice(arreglo posibles valores, cantidad, arreglo de probabilidades para cada uno de los posibles valores)\n",
    "data2 = np.random.choice(np.arange(10), size = 1000, p = np.linspace(1,11,10) / 60)\n",
    "data2\n"
   ]
  },
  {
   "cell_type": "code",
   "execution_count": 19,
   "metadata": {
    "pycharm": {
     "name": "#%%\n"
    }
   },
   "outputs": [
    {
     "data": {
      "text/plain": [
       "0      7\n",
       "1      2\n",
       "2      3\n",
       "3      7\n",
       "4      7\n",
       "5      4\n",
       "6      4\n",
       "7      8\n",
       "8      5\n",
       "9      4\n",
       "10     5\n",
       "11     6\n",
       "12     7\n",
       "13     9\n",
       "14     5\n",
       "15     1\n",
       "16     8\n",
       "17     7\n",
       "18     9\n",
       "19     9\n",
       "20     9\n",
       "21     2\n",
       "22     3\n",
       "23     9\n",
       "24     8\n",
       "25     2\n",
       "26     7\n",
       "27     2\n",
       "28     4\n",
       "29     5\n",
       "      ..\n",
       "970    8\n",
       "971    4\n",
       "972    3\n",
       "973    5\n",
       "974    9\n",
       "975    0\n",
       "976    2\n",
       "977    9\n",
       "978    6\n",
       "979    6\n",
       "980    1\n",
       "981    9\n",
       "982    2\n",
       "983    7\n",
       "984    8\n",
       "985    7\n",
       "986    5\n",
       "987    6\n",
       "988    9\n",
       "989    6\n",
       "990    7\n",
       "991    4\n",
       "992    8\n",
       "993    8\n",
       "994    6\n",
       "995    9\n",
       "996    7\n",
       "997    4\n",
       "998    5\n",
       "999    5\n",
       "Length: 1000, dtype: int32"
      ]
     },
     "execution_count": 19,
     "metadata": {},
     "output_type": "execute_result"
    }
   ],
   "source": [
    "serie1 = pd.Series(data2)\n",
    "serie1"
   ]
  },
  {
   "cell_type": "code",
   "execution_count": 20,
   "metadata": {
    "pycharm": {
     "name": "#%%\n"
    }
   },
   "outputs": [
    {
     "data": {
      "text/plain": [
       "9    179\n",
       "7    159\n",
       "8    150\n",
       "6    128\n",
       "5    122\n",
       "4     83\n",
       "3     75\n",
       "2     56\n",
       "1     29\n",
       "0     19\n",
       "dtype: int64"
      ]
     },
     "execution_count": 20,
     "metadata": {},
     "output_type": "execute_result"
    }
   ],
   "source": [
    "# Otra forma de obtener la frecuencia absoluta\n",
    "serie1.value_counts()"
   ]
  },
  {
   "cell_type": "code",
   "execution_count": 21,
   "metadata": {
    "pycharm": {
     "name": "#%%\n"
    }
   },
   "outputs": [
    {
     "data": {
      "text/plain": [
       "9    0.179\n",
       "7    0.159\n",
       "8    0.150\n",
       "6    0.128\n",
       "5    0.122\n",
       "4    0.083\n",
       "3    0.075\n",
       "2    0.056\n",
       "1    0.029\n",
       "0    0.019\n",
       "dtype: float64"
      ]
     },
     "execution_count": 21,
     "metadata": {},
     "output_type": "execute_result"
    }
   ],
   "source": [
    "# Otra forma de obtener la frencuencia relativa\n",
    "serie1.value_counts(normalize=True)"
   ]
  },
  {
   "cell_type": "code",
   "execution_count": null,
   "metadata": {
    "pycharm": {
     "name": "#%%\n"
    }
   },
   "outputs": [],
   "source": []
  },
  {
   "cell_type": "code",
   "execution_count": null,
   "metadata": {
    "pycharm": {
     "name": "#%%\n"
    }
   },
   "outputs": [],
   "source": []
  },
  {
   "cell_type": "code",
   "execution_count": null,
   "metadata": {
    "pycharm": {
     "name": "#%%\n"
    }
   },
   "outputs": [],
   "source": []
  },
  {
   "cell_type": "code",
   "execution_count": null,
   "metadata": {
    "pycharm": {
     "name": "#%%\n"
    }
   },
   "outputs": [],
   "source": []
  },
  {
   "cell_type": "code",
   "execution_count": null,
   "metadata": {
    "pycharm": {
     "name": "#%%\n"
    }
   },
   "outputs": [],
   "source": []
  },
  {
   "cell_type": "code",
   "execution_count": null,
   "metadata": {
    "pycharm": {
     "name": "#%%\n"
    }
   },
   "outputs": [],
   "source": []
  },
  {
   "cell_type": "code",
   "execution_count": null,
   "metadata": {
    "pycharm": {
     "name": "#%%\n"
    }
   },
   "outputs": [],
   "source": []
  },
  {
   "cell_type": "code",
   "execution_count": null,
   "metadata": {
    "pycharm": {
     "name": "#%%\n"
    }
   },
   "outputs": [],
   "source": []
  },
  {
   "cell_type": "code",
   "execution_count": null,
   "metadata": {
    "pycharm": {
     "name": "#%%\n"
    }
   },
   "outputs": [],
   "source": []
  },
  {
   "cell_type": "code",
   "execution_count": null,
   "metadata": {
    "pycharm": {
     "name": "#%%\n"
    }
   },
   "outputs": [],
   "source": []
  },
  {
   "cell_type": "code",
   "execution_count": null,
   "metadata": {
    "pycharm": {
     "name": "#%%\n"
    }
   },
   "outputs": [],
   "source": []
  },
  {
   "cell_type": "code",
   "execution_count": null,
   "metadata": {
    "pycharm": {
     "name": "#%%\n"
    }
   },
   "outputs": [],
   "source": []
  },
  {
   "cell_type": "code",
   "execution_count": null,
   "metadata": {
    "pycharm": {
     "name": "#%%\n"
    }
   },
   "outputs": [],
   "source": []
  },
  {
   "cell_type": "code",
   "execution_count": null,
   "metadata": {
    "pycharm": {
     "name": "#%%\n"
    }
   },
   "outputs": [],
   "source": []
  },
  {
   "cell_type": "code",
   "execution_count": null,
   "metadata": {
    "pycharm": {
     "name": "#%%\n"
    }
   },
   "outputs": [],
   "source": []
  },
  {
   "cell_type": "code",
   "execution_count": null,
   "metadata": {
    "pycharm": {
     "name": "#%%\n"
    }
   },
   "outputs": [],
   "source": []
  },
  {
   "cell_type": "code",
   "execution_count": null,
   "metadata": {
    "pycharm": {
     "name": "#%%\n"
    }
   },
   "outputs": [],
   "source": []
  },
  {
   "cell_type": "code",
   "execution_count": null,
   "metadata": {
    "pycharm": {
     "name": "#%%\n"
    }
   },
   "outputs": [],
   "source": []
  },
  {
   "cell_type": "code",
   "execution_count": null,
   "metadata": {
    "pycharm": {
     "name": "#%%\n"
    }
   },
   "outputs": [],
   "source": []
  },
  {
   "cell_type": "code",
   "execution_count": null,
   "metadata": {
    "pycharm": {
     "name": "#%%\n"
    }
   },
   "outputs": [],
   "source": []
  },
  {
   "cell_type": "code",
   "execution_count": null,
   "metadata": {
    "pycharm": {
     "name": "#%%\n"
    }
   },
   "outputs": [],
   "source": []
  },
  {
   "cell_type": "code",
   "execution_count": null,
   "metadata": {
    "pycharm": {
     "name": "#%%\n"
    }
   },
   "outputs": [],
   "source": []
  },
  {
   "cell_type": "code",
   "execution_count": null,
   "metadata": {
    "pycharm": {
     "name": "#%%\n"
    }
   },
   "outputs": [],
   "source": []
  },
  {
   "cell_type": "code",
   "execution_count": null,
   "metadata": {
    "pycharm": {
     "name": "#%%\n"
    }
   },
   "outputs": [],
   "source": []
  },
  {
   "cell_type": "code",
   "execution_count": null,
   "metadata": {
    "pycharm": {
     "name": "#%%\n"
    }
   },
   "outputs": [],
   "source": []
  },
  {
   "cell_type": "code",
   "execution_count": null,
   "metadata": {
    "pycharm": {
     "name": "#%%\n"
    }
   },
   "outputs": [],
   "source": []
  },
  {
   "cell_type": "code",
   "execution_count": null,
   "metadata": {
    "pycharm": {
     "name": "#%%\n"
    }
   },
   "outputs": [],
   "source": []
  },
  {
   "cell_type": "code",
   "execution_count": null,
   "metadata": {
    "pycharm": {
     "name": "#%%\n"
    }
   },
   "outputs": [],
   "source": []
  },
  {
   "cell_type": "code",
   "execution_count": null,
   "metadata": {
    "pycharm": {
     "name": "#%%\n"
    }
   },
   "outputs": [],
   "source": []
  },
  {
   "cell_type": "code",
   "execution_count": null,
   "metadata": {
    "pycharm": {
     "name": "#%%\n"
    }
   },
   "outputs": [],
   "source": []
  },
  {
   "cell_type": "code",
   "execution_count": null,
   "metadata": {
    "pycharm": {
     "name": "#%%\n"
    }
   },
   "outputs": [],
   "source": []
  },
  {
   "cell_type": "code",
   "execution_count": null,
   "metadata": {
    "pycharm": {
     "name": "#%%\n"
    }
   },
   "outputs": [],
   "source": []
  },
  {
   "cell_type": "code",
   "execution_count": null,
   "metadata": {
    "pycharm": {
     "name": "#%%\n"
    }
   },
   "outputs": [],
   "source": []
  },
  {
   "cell_type": "code",
   "execution_count": null,
   "metadata": {
    "pycharm": {
     "name": "#%%\n"
    }
   },
   "outputs": [],
   "source": []
  },
  {
   "cell_type": "code",
   "execution_count": null,
   "metadata": {
    "pycharm": {
     "name": "#%%\n"
    }
   },
   "outputs": [],
   "source": []
  },
  {
   "cell_type": "code",
   "execution_count": null,
   "metadata": {
    "pycharm": {
     "name": "#%%\n"
    }
   },
   "outputs": [],
   "source": []
  },
  {
   "cell_type": "code",
   "execution_count": null,
   "metadata": {
    "pycharm": {
     "name": "#%%\n"
    }
   },
   "outputs": [],
   "source": []
  },
  {
   "cell_type": "code",
   "execution_count": null,
   "metadata": {
    "pycharm": {
     "name": "#%%\n"
    }
   },
   "outputs": [],
   "source": []
  },
  {
   "cell_type": "code",
   "execution_count": null,
   "metadata": {
    "pycharm": {
     "name": "#%%\n"
    }
   },
   "outputs": [],
   "source": []
  },
  {
   "cell_type": "code",
   "execution_count": null,
   "metadata": {
    "pycharm": {
     "name": "#%%\n"
    }
   },
   "outputs": [],
   "source": []
  },
  {
   "cell_type": "code",
   "execution_count": null,
   "metadata": {
    "pycharm": {
     "name": "#%%\n"
    }
   },
   "outputs": [],
   "source": []
  },
  {
   "cell_type": "code",
   "execution_count": null,
   "metadata": {
    "pycharm": {
     "name": "#%%\n"
    }
   },
   "outputs": [],
   "source": []
  },
  {
   "cell_type": "code",
   "execution_count": 1,
   "metadata": {
    "pycharm": {
     "name": "#%%\n"
    }
   },
   "outputs": [],
   "source": [
    "\n"
   ]
  },
  {
   "cell_type": "code",
   "execution_count": null,
   "metadata": {
    "pycharm": {
     "name": "#%%\n"
    }
   },
   "outputs": [],
   "source": []
  }
 ],
 "metadata": {
  "kernelspec": {
   "display_name": "Python 3",
   "language": "python",
   "name": "python3"
  },
  "language_info": {
   "codemirror_mode": {
    "name": "ipython",
    "version": 3
   },
   "file_extension": ".py",
   "mimetype": "text/x-python",
   "name": "python",
   "nbconvert_exporter": "python",
   "pygments_lexer": "ipython3",
   "version": "3.7.3"
  }
 },
 "nbformat": 4,
 "nbformat_minor": 2
}