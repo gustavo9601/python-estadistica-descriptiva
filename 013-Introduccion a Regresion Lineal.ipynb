{
 "cells": [
  {
   "cell_type": "markdown",
   "source": [
    "## Regresion lineal de la Diabetes"
   ],
   "metadata": {
    "cell_id": "00000-0ade672e-3aae-4279-ac49-0b89ce66113b",
    "deepnote_cell_type": "markdown"
   }
  },
  {
   "cell_type": "code",
   "metadata": {
    "cell_id": "00001-45bb6b62-603c-4629-93e3-19dbb01e39ac",
    "deepnote_cell_type": "code"
   },
   "source": [
    "import matplotlib.pyplot as plt\n",
    "import numpy as np\n",
    "from sklearn import datasets, linear_model\n",
    "# mean_squared_error => Mide como se aleja la recta de los datos proporcionados en funcion de la variable independiente\n",
    "from sklearn.metrics import mean_squared_error, r2_score"
   ],
   "execution_count": 4,
   "outputs": []
  },
  {
   "cell_type": "code",
   "metadata": {
    "cell_id": "00002-ae77cfc5-e1e9-422a-aa7e-328fe1ddfa20",
    "deepnote_cell_type": "code"
   },
   "source": [
    "# cargango el dataset de sklearn de diabetes\n",
    "diabetes_dataset = datasets.load_diabetes()"
   ],
   "execution_count": 6,
   "outputs": []
  },
  {
   "cell_type": "code",
   "metadata": {
    "cell_id": "00003-6ea97706-d431-48cd-b76a-76f5f0243136",
    "deepnote_cell_type": "code"
   },
   "source": [
    "type(diabetes_dataset)"
   ],
   "execution_count": 7,
   "outputs": [
    {
     "data": {
      "text/plain": "sklearn.utils.Bunch"
     },
     "execution_count": 7,
     "metadata": {},
     "output_type": "execute_result"
    }
   ]
  },
  {
   "cell_type": "code",
   "metadata": {
    "cell_id": "00004-5018818d-00f1-4357-bc10-ef7c452511cc",
    "deepnote_cell_type": "code"
   },
   "source": [
    "type(diabetes_dataset.data)"
   ],
   "execution_count": 9,
   "outputs": [
    {
     "data": {
      "text/plain": "numpy.ndarray"
     },
     "execution_count": 9,
     "metadata": {},
     "output_type": "execute_result"
    }
   ]
  },
  {
   "cell_type": "code",
   "metadata": {
    "cell_id": "00005-3cd391d0-167c-498c-9be4-3632c8fe2df3",
    "deepnote_cell_type": "code"
   },
   "source": [
    "diabetes_dataset.data.shape"
   ],
   "execution_count": 10,
   "outputs": [
    {
     "data": {
      "text/plain": "(442, 10)"
     },
     "execution_count": 10,
     "metadata": {},
     "output_type": "execute_result"
    }
   ]
  },
  {
   "cell_type": "code",
   "metadata": {
    "cell_id": "00006-2d4e023e-c49b-41c1-b434-ac2b6d13f9f1",
    "deepnote_cell_type": "code"
   },
   "source": [
    "# cortando el toda la data de la filas para la columna 2, y con np.newaxis, convierte cada valor en un arreglo indivdual\n",
    "x = diabetes_dataset.data[:, np.newaxis, 2]\n",
    "x"
   ],
   "execution_count": 26,
   "outputs": [
    {
     "data": {
      "text/plain": "array([[ 0.06169621],\n       [-0.05147406],\n       [ 0.04445121],\n       [-0.01159501],\n       [-0.03638469],\n       [-0.04069594],\n       [-0.04716281],\n       [-0.00189471],\n       [ 0.06169621],\n       [ 0.03906215],\n       [-0.08380842],\n       [ 0.01750591],\n       [-0.02884001],\n       [-0.00189471],\n       [-0.02560657],\n       [-0.01806189],\n       [ 0.04229559],\n       [ 0.01211685],\n       [-0.0105172 ],\n       [-0.01806189],\n       [-0.05686312],\n       [-0.02237314],\n       [-0.00405033],\n       [ 0.06061839],\n       [ 0.03582872],\n       [-0.01267283],\n       [-0.07734155],\n       [ 0.05954058],\n       [-0.02129532],\n       [-0.00620595],\n       [ 0.04445121],\n       [-0.06548562],\n       [ 0.12528712],\n       [-0.05039625],\n       [-0.06332999],\n       [-0.03099563],\n       [ 0.02289497],\n       [ 0.01103904],\n       [ 0.07139652],\n       [ 0.01427248],\n       [-0.00836158],\n       [-0.06764124],\n       [-0.0105172 ],\n       [-0.02345095],\n       [ 0.06816308],\n       [-0.03530688],\n       [-0.01159501],\n       [-0.0730303 ],\n       [-0.04177375],\n       [ 0.01427248],\n       [-0.00728377],\n       [ 0.0164281 ],\n       [-0.00943939],\n       [-0.01590626],\n       [ 0.0250506 ],\n       [-0.04931844],\n       [ 0.04121778],\n       [-0.06332999],\n       [-0.06440781],\n       [-0.02560657],\n       [-0.00405033],\n       [ 0.00457217],\n       [-0.00728377],\n       [-0.0374625 ],\n       [-0.02560657],\n       [-0.02452876],\n       [-0.01806189],\n       [-0.01482845],\n       [-0.02991782],\n       [-0.046085  ],\n       [-0.06979687],\n       [ 0.03367309],\n       [-0.00405033],\n       [-0.02021751],\n       [ 0.00241654],\n       [-0.03099563],\n       [ 0.02828403],\n       [-0.03638469],\n       [-0.05794093],\n       [-0.0374625 ],\n       [ 0.01211685],\n       [-0.02237314],\n       [-0.03530688],\n       [ 0.00996123],\n       [-0.03961813],\n       [ 0.07139652],\n       [-0.07518593],\n       [-0.00620595],\n       [-0.04069594],\n       [-0.04824063],\n       [-0.02560657],\n       [ 0.0519959 ],\n       [ 0.00457217],\n       [-0.06440781],\n       [-0.01698407],\n       [-0.05794093],\n       [ 0.00996123],\n       [ 0.08864151],\n       [-0.00512814],\n       [-0.06440781],\n       [ 0.01750591],\n       [-0.04500719],\n       [ 0.02828403],\n       [ 0.04121778],\n       [ 0.06492964],\n       [-0.03207344],\n       [-0.07626374],\n       [ 0.04984027],\n       [ 0.04552903],\n       [-0.00943939],\n       [-0.03207344],\n       [ 0.00457217],\n       [ 0.02073935],\n       [ 0.01427248],\n       [ 0.11019775],\n       [ 0.00133873],\n       [ 0.05846277],\n       [-0.02129532],\n       [-0.0105172 ],\n       [-0.04716281],\n       [ 0.00457217],\n       [ 0.01750591],\n       [ 0.08109682],\n       [ 0.0347509 ],\n       [ 0.02397278],\n       [-0.00836158],\n       [-0.06117437],\n       [-0.00189471],\n       [-0.06225218],\n       [ 0.0164281 ],\n       [ 0.09618619],\n       [-0.06979687],\n       [-0.02129532],\n       [-0.05362969],\n       [ 0.0433734 ],\n       [ 0.05630715],\n       [-0.0816528 ],\n       [ 0.04984027],\n       [ 0.11127556],\n       [ 0.06169621],\n       [ 0.01427248],\n       [ 0.04768465],\n       [ 0.01211685],\n       [ 0.00564998],\n       [ 0.04660684],\n       [ 0.12852056],\n       [ 0.05954058],\n       [ 0.09295276],\n       [ 0.01535029],\n       [-0.00512814],\n       [ 0.0703187 ],\n       [-0.00405033],\n       [-0.00081689],\n       [-0.04392938],\n       [ 0.02073935],\n       [ 0.06061839],\n       [-0.0105172 ],\n       [-0.03315126],\n       [-0.06548562],\n       [ 0.0433734 ],\n       [-0.06225218],\n       [ 0.06385183],\n       [ 0.03043966],\n       [ 0.07247433],\n       [-0.0191397 ],\n       [-0.06656343],\n       [-0.06009656],\n       [ 0.06924089],\n       [ 0.05954058],\n       [-0.02668438],\n       [-0.02021751],\n       [-0.046085  ],\n       [ 0.07139652],\n       [-0.07949718],\n       [ 0.00996123],\n       [-0.03854032],\n       [ 0.01966154],\n       [ 0.02720622],\n       [-0.00836158],\n       [-0.01590626],\n       [ 0.00457217],\n       [-0.04285156],\n       [ 0.00564998],\n       [-0.03530688],\n       [ 0.02397278],\n       [-0.01806189],\n       [ 0.04229559],\n       [-0.0547075 ],\n       [-0.00297252],\n       [-0.06656343],\n       [-0.01267283],\n       [-0.04177375],\n       [-0.03099563],\n       [-0.00512814],\n       [-0.05901875],\n       [ 0.0250506 ],\n       [-0.046085  ],\n       [ 0.00349435],\n       [ 0.05415152],\n       [-0.04500719],\n       [-0.05794093],\n       [-0.05578531],\n       [ 0.00133873],\n       [ 0.03043966],\n       [ 0.00672779],\n       [ 0.04660684],\n       [ 0.02612841],\n       [ 0.04552903],\n       [ 0.04013997],\n       [-0.01806189],\n       [ 0.01427248],\n       [ 0.03690653],\n       [ 0.00349435],\n       [-0.07087468],\n       [-0.03315126],\n       [ 0.09403057],\n       [ 0.03582872],\n       [ 0.03151747],\n       [-0.06548562],\n       [-0.04177375],\n       [-0.03961813],\n       [-0.03854032],\n       [-0.02560657],\n       [-0.02345095],\n       [-0.06656343],\n       [ 0.03259528],\n       [-0.046085  ],\n       [-0.02991782],\n       [-0.01267283],\n       [-0.01590626],\n       [ 0.07139652],\n       [-0.03099563],\n       [ 0.00026092],\n       [ 0.03690653],\n       [ 0.03906215],\n       [-0.01482845],\n       [ 0.00672779],\n       [-0.06871905],\n       [-0.00943939],\n       [ 0.01966154],\n       [ 0.07462995],\n       [-0.00836158],\n       [-0.02345095],\n       [-0.046085  ],\n       [ 0.05415152],\n       [-0.03530688],\n       [-0.03207344],\n       [-0.0816528 ],\n       [ 0.04768465],\n       [ 0.06061839],\n       [ 0.05630715],\n       [ 0.09834182],\n       [ 0.05954058],\n       [ 0.03367309],\n       [ 0.05630715],\n       [-0.06548562],\n       [ 0.16085492],\n       [-0.05578531],\n       [-0.02452876],\n       [-0.03638469],\n       [-0.00836158],\n       [-0.04177375],\n       [ 0.12744274],\n       [-0.07734155],\n       [ 0.02828403],\n       [-0.02560657],\n       [-0.06225218],\n       [-0.00081689],\n       [ 0.08864151],\n       [-0.03207344],\n       [ 0.03043966],\n       [ 0.00888341],\n       [ 0.00672779],\n       [-0.02021751],\n       [-0.02452876],\n       [-0.01159501],\n       [ 0.02612841],\n       [-0.05901875],\n       [-0.03638469],\n       [-0.02452876],\n       [ 0.01858372],\n       [-0.0902753 ],\n       [-0.00512814],\n       [-0.05255187],\n       [-0.02237314],\n       [-0.02021751],\n       [-0.0547075 ],\n       [-0.00620595],\n       [-0.01698407],\n       [ 0.05522933],\n       [ 0.07678558],\n       [ 0.01858372],\n       [-0.02237314],\n       [ 0.09295276],\n       [-0.03099563],\n       [ 0.03906215],\n       [-0.06117437],\n       [-0.00836158],\n       [-0.0374625 ],\n       [-0.01375064],\n       [ 0.07355214],\n       [-0.02452876],\n       [ 0.03367309],\n       [ 0.0347509 ],\n       [-0.03854032],\n       [-0.03961813],\n       [-0.00189471],\n       [-0.03099563],\n       [-0.046085  ],\n       [ 0.00133873],\n       [ 0.06492964],\n       [ 0.04013997],\n       [-0.02345095],\n       [ 0.05307371],\n       [ 0.04013997],\n       [-0.02021751],\n       [ 0.01427248],\n       [-0.03422907],\n       [ 0.00672779],\n       [ 0.00457217],\n       [ 0.03043966],\n       [ 0.0519959 ],\n       [ 0.06169621],\n       [-0.00728377],\n       [ 0.00564998],\n       [ 0.05415152],\n       [-0.00836158],\n       [ 0.114509  ],\n       [ 0.06708527],\n       [-0.05578531],\n       [ 0.03043966],\n       [-0.02560657],\n       [ 0.10480869],\n       [-0.00620595],\n       [-0.04716281],\n       [-0.04824063],\n       [ 0.08540807],\n       [-0.01267283],\n       [-0.03315126],\n       [-0.00728377],\n       [-0.01375064],\n       [ 0.05954058],\n       [ 0.02181716],\n       [ 0.01858372],\n       [-0.01159501],\n       [-0.00297252],\n       [ 0.01750591],\n       [-0.02991782],\n       [-0.02021751],\n       [-0.05794093],\n       [ 0.06061839],\n       [-0.04069594],\n       [-0.07195249],\n       [-0.05578531],\n       [ 0.04552903],\n       [-0.00943939],\n       [-0.03315126],\n       [ 0.04984027],\n       [-0.08488624],\n       [ 0.00564998],\n       [ 0.02073935],\n       [-0.00728377],\n       [ 0.10480869],\n       [-0.02452876],\n       [-0.00620595],\n       [-0.03854032],\n       [ 0.13714305],\n       [ 0.17055523],\n       [ 0.00241654],\n       [ 0.03798434],\n       [-0.05794093],\n       [-0.00943939],\n       [-0.02345095],\n       [-0.0105172 ],\n       [-0.03422907],\n       [-0.00297252],\n       [ 0.06816308],\n       [ 0.00996123],\n       [ 0.00241654],\n       [-0.03854032],\n       [ 0.02612841],\n       [-0.08919748],\n       [ 0.06061839],\n       [-0.02884001],\n       [-0.02991782],\n       [-0.0191397 ],\n       [-0.04069594],\n       [ 0.01535029],\n       [-0.02452876],\n       [ 0.00133873],\n       [ 0.06924089],\n       [-0.06979687],\n       [-0.02991782],\n       [-0.046085  ],\n       [ 0.01858372],\n       [ 0.00133873],\n       [-0.03099563],\n       [-0.00405033],\n       [ 0.01535029],\n       [ 0.02289497],\n       [ 0.04552903],\n       [-0.04500719],\n       [-0.03315126],\n       [ 0.097264  ],\n       [ 0.05415152],\n       [ 0.12313149],\n       [-0.08057499],\n       [ 0.09295276],\n       [-0.05039625],\n       [-0.01159501],\n       [-0.0277622 ],\n       [ 0.05846277],\n       [ 0.08540807],\n       [-0.00081689],\n       [ 0.00672779],\n       [ 0.00888341],\n       [ 0.08001901],\n       [ 0.07139652],\n       [-0.02452876],\n       [-0.0547075 ],\n       [-0.03638469],\n       [ 0.0164281 ],\n       [ 0.07786339],\n       [-0.03961813],\n       [ 0.01103904],\n       [-0.04069594],\n       [-0.03422907],\n       [ 0.00564998],\n       [ 0.08864151],\n       [-0.03315126],\n       [-0.05686312],\n       [-0.03099563],\n       [ 0.05522933],\n       [-0.06009656],\n       [ 0.00133873],\n       [-0.02345095],\n       [-0.07410811],\n       [ 0.01966154],\n       [-0.01590626],\n       [-0.01590626],\n       [ 0.03906215],\n       [-0.0730303 ]])"
     },
     "execution_count": 26,
     "metadata": {},
     "output_type": "execute_result"
    }
   ]
  },
  {
   "cell_type": "code",
   "metadata": {
    "cell_id": "00007-c758cfe8-7b2f-4b20-95a0-df36ff957db9",
    "deepnote_cell_type": "code"
   },
   "source": [],
   "execution_count": null,
   "outputs": []
  },
  {
   "cell_type": "code",
   "metadata": {
    "cell_id": "00008-6c1ba56e-d7e2-496d-a053-d5490f67ee07",
    "deepnote_cell_type": "code"
   },
   "source": [
    "y = diabetes_dataset.target\n",
    "y"
   ],
   "execution_count": 16,
   "outputs": [
    {
     "data": {
      "text/plain": "array([151.,  75., 141., 206., 135.,  97., 138.,  63., 110., 310., 101.,\n        69., 179., 185., 118., 171., 166., 144.,  97., 168.,  68.,  49.,\n        68., 245., 184., 202., 137.,  85., 131., 283., 129.,  59., 341.,\n        87.,  65., 102., 265., 276., 252.,  90., 100.,  55.,  61.,  92.,\n       259.,  53., 190., 142.,  75., 142., 155., 225.,  59., 104., 182.,\n       128.,  52.,  37., 170., 170.,  61., 144.,  52., 128.,  71., 163.,\n       150.,  97., 160., 178.,  48., 270., 202., 111.,  85.,  42., 170.,\n       200., 252., 113., 143.,  51.,  52., 210.,  65., 141.,  55., 134.,\n        42., 111.,  98., 164.,  48.,  96.,  90., 162., 150., 279.,  92.,\n        83., 128., 102., 302., 198.,  95.,  53., 134., 144., 232.,  81.,\n       104.,  59., 246., 297., 258., 229., 275., 281., 179., 200., 200.,\n       173., 180.,  84., 121., 161.,  99., 109., 115., 268., 274., 158.,\n       107.,  83., 103., 272.,  85., 280., 336., 281., 118., 317., 235.,\n        60., 174., 259., 178., 128.,  96., 126., 288.,  88., 292.,  71.,\n       197., 186.,  25.,  84.,  96., 195.,  53., 217., 172., 131., 214.,\n        59.,  70., 220., 268., 152.,  47.,  74., 295., 101., 151., 127.,\n       237., 225.,  81., 151., 107.,  64., 138., 185., 265., 101., 137.,\n       143., 141.,  79., 292., 178.,  91., 116.,  86., 122.,  72., 129.,\n       142.,  90., 158.,  39., 196., 222., 277.,  99., 196., 202., 155.,\n        77., 191.,  70.,  73.,  49.,  65., 263., 248., 296., 214., 185.,\n        78.,  93., 252., 150.,  77., 208.,  77., 108., 160.,  53., 220.,\n       154., 259.,  90., 246., 124.,  67.,  72., 257., 262., 275., 177.,\n        71.,  47., 187., 125.,  78.,  51., 258., 215., 303., 243.,  91.,\n       150., 310., 153., 346.,  63.,  89.,  50.,  39., 103., 308., 116.,\n       145.,  74.,  45., 115., 264.,  87., 202., 127., 182., 241.,  66.,\n        94., 283.,  64., 102., 200., 265.,  94., 230., 181., 156., 233.,\n        60., 219.,  80.,  68., 332., 248.,  84., 200.,  55.,  85.,  89.,\n        31., 129.,  83., 275.,  65., 198., 236., 253., 124.,  44., 172.,\n       114., 142., 109., 180., 144., 163., 147.,  97., 220., 190., 109.,\n       191., 122., 230., 242., 248., 249., 192., 131., 237.,  78., 135.,\n       244., 199., 270., 164.,  72.,  96., 306.,  91., 214.,  95., 216.,\n       263., 178., 113., 200., 139., 139.,  88., 148.,  88., 243.,  71.,\n        77., 109., 272.,  60.,  54., 221.,  90., 311., 281., 182., 321.,\n        58., 262., 206., 233., 242., 123., 167.,  63., 197.,  71., 168.,\n       140., 217., 121., 235., 245.,  40.,  52., 104., 132.,  88.,  69.,\n       219.,  72., 201., 110.,  51., 277.,  63., 118.,  69., 273., 258.,\n        43., 198., 242., 232., 175.,  93., 168., 275., 293., 281.,  72.,\n       140., 189., 181., 209., 136., 261., 113., 131., 174., 257.,  55.,\n        84.,  42., 146., 212., 233.,  91., 111., 152., 120.,  67., 310.,\n        94., 183.,  66., 173.,  72.,  49.,  64.,  48., 178., 104., 132.,\n       220.,  57.])"
     },
     "execution_count": 16,
     "metadata": {},
     "output_type": "execute_result"
    }
   ]
  },
  {
   "cell_type": "code",
   "metadata": {
    "cell_id": "00009-e65cb73c-5b20-4ab2-8cd0-1ffe1d9b8e7a",
    "deepnote_cell_type": "code"
   },
   "source": [
    "# Creando el modelo de regresion lineal\n",
    "modelo = linear_model.LinearRegression()\n",
    "type(modelo)"
   ],
   "execution_count": 18,
   "outputs": [
    {
     "data": {
      "text/plain": "sklearn.linear_model.base.LinearRegression"
     },
     "execution_count": 18,
     "metadata": {},
     "output_type": "execute_result"
    }
   ]
  },
  {
   "cell_type": "code",
   "metadata": {
    "cell_id": "00010-22365a8d-66ea-4c6b-a50f-47f97c19c942",
    "deepnote_cell_type": "code"
   },
   "source": [
    "# .fit(x, y)\n",
    "# Permite calcular los coeficientes de la regresion\n",
    "modelo.fit(x, y)"
   ],
   "execution_count": 29,
   "outputs": [
    {
     "data": {
      "text/plain": "LinearRegression(copy_X=True, fit_intercept=True, n_jobs=None, normalize=False)"
     },
     "execution_count": 29,
     "metadata": {},
     "output_type": "execute_result"
    }
   ]
  },
  {
   "cell_type": "code",
   "metadata": {
    "cell_id": "00011-b83efdae-2743-4156-b121-878c9e937a96",
    "deepnote_cell_type": "code"
   },
   "source": [
    "# .coef_ => coeficiente de las x\n",
    "modelo.coef_"
   ],
   "execution_count": 31,
   "outputs": [
    {
     "data": {
      "text/plain": "array([949.43526038])"
     },
     "execution_count": 31,
     "metadata": {},
     "output_type": "execute_result"
    }
   ]
  },
  {
   "cell_type": "code",
   "metadata": {
    "cell_id": "00012-14a7fecd-e7a5-4fd5-8219-b590745cb086",
    "deepnote_cell_type": "code"
   },
   "source": [
    "# .intercept_ => ordenada en el origen\n",
    "modelo.intercept_"
   ],
   "execution_count": 32,
   "outputs": [
    {
     "data": {
      "text/plain": "152.1334841628967"
     },
     "execution_count": 32,
     "metadata": {},
     "output_type": "execute_result"
    }
   ]
  },
  {
   "cell_type": "markdown",
   "source": [
    "$$\\tilde{y} = 949.43526038\\cdot x + 152.13348416289594 $$"
   ],
   "metadata": {
    "cell_id": "00013-e6670676-1d59-41db-8964-257bfcbfd9bf",
    "deepnote_cell_type": "markdown"
   }
  },
  {
   "cell_type": "code",
   "metadata": {
    "cell_id": "00014-bb6dbf1d-7494-4950-86c0-82db7f00d561",
    "deepnote_cell_type": "code"
   },
   "source": [
    "# dibujando en un diagrama de puntos los ejes x y 7\n",
    "plt.scatter(x, y , color = 'black')\n",
    "# superponemos la linea para ver la recta de regreseion\n",
    "# le pasamos x, y con predict retornara el valor que debera pertenecer a y cuando sea en x\n",
    "plt.plot(x, modelo.predict(x), color = 'red', linewidth=3)"
   ],
   "execution_count": 36,
   "outputs": [
    {
     "data": {
      "text/plain": "[<matplotlib.lines.Line2D at 0xb3df7c05f8>]"
     },
     "execution_count": 36,
     "metadata": {},
     "output_type": "execute_result"
    },
    {
     "data": {
      "image/png": "[encoded data removed]",
      "text/plain": "<Figure size 432x288 with 1 Axes>"
     },
     "metadata": {
      "needs_background": "light",
      "image/png": {
       "width": 375,
       "height": 248
      }
     },
     "output_type": "display_data"
    }
   ]
  },
  {
   "cell_type": "code",
   "metadata": {
    "scrolled": true,
    "cell_id": "00015-5f483ed3-09c0-4ea4-b392-d13e6ae2254e",
    "deepnote_cell_type": "code"
   },
   "source": [
    "# calculando si la recta es apropieda esta bine o mal\n",
    "# mean_squared_error(datos reales de y, datos de la prediccion en x))\n",
    "mean_squared_error(y, modelo.predict(x))\n",
    "\n",
    "# el error es 3890.4565854612724\n",
    "# es bastante alto el margen de error de los puntos"
   ],
   "execution_count": 33,
   "outputs": [
    {
     "data": {
      "text/plain": "3890.4565854612724"
     },
     "execution_count": 33,
     "metadata": {},
     "output_type": "execute_result"
    }
   ]
  },
  {
   "cell_type": "code",
   "metadata": {
    "cell_id": "00016-70a9952d-dd84-4b6a-8f68-fc31210e743e",
    "deepnote_cell_type": "code"
   },
   "source": [
    "# r2 => r cuadrado tiene valores entre 0 y 1\n",
    "# el modelo es aceptable cuando el r2 sobrepasa al 0.9\n",
    "# se puede concluir que los datos son demsiado disperson para el modelo de regresion\n",
    "r2_score(y, modelo.predict(x))"
   ],
   "execution_count": 38,
   "outputs": [
    {
     "data": {
      "text/plain": "0.3439237602253803"
     },
     "execution_count": 38,
     "metadata": {},
     "output_type": "execute_result"
    }
   ]
  },
  {
   "cell_type": "markdown",
   "source": [
    "# Ejemplo 2"
   ],
   "metadata": {
    "tags": [],
    "cell_id": "00017-17811442-457f-48e9-bee6-0019fc5f79a5",
    "deepnote_cell_type": "markdown"
   }
  },
  {
   "cell_type": "code",
   "metadata": {
    "cell_id": "00017-f5280326-e3d9-4184-88f5-39341e645af9",
    "deepnote_to_be_reexecuted": false,
    "source_hash": "6ffc6b57",
    "execution_start": 1628461289959,
    "execution_millis": 700,
    "deepnote_cell_type": "code"
   },
   "source": [
    "import numpy as np\n",
    "import matplotlib.pyplot as plt\n"
   ],
   "execution_count": 1,
   "outputs": []
  },
  {
   "cell_type": "code",
   "metadata": {
    "cell_id": "00018-23afd9c1-1f9d-431a-95f7-a9f717314877",
    "deepnote_to_be_reexecuted": false,
    "source_hash": "90da4736",
    "execution_start": 1628461711860,
    "execution_millis": 3,
    "deepnote_cell_type": "code"
   },
   "source": [
    "def estimate_b0_b1(x, y):\n",
    "    n = np.size(x)\n",
    "    # Medias X y Y\n",
    "    m_x = np.mean(x)\n",
    "    m_y = np.mean(y)\n",
    "\n",
    "    # Calculo dela sumatoria XY y sumatoria X cuadrada\n",
    "    sumatoria_xy = np.sum((x-m_x) * (y-m_y))\n",
    "    sumatoria_x_cuadrada = np.sum(x*(x-m_x))\n",
    "\n",
    "    # Coeficientes de regresion\n",
    "    b_1 = sumatoria_xy / sumatoria_x_cuadrada\n",
    "    b_0 = m_y - b_1 * m_x\n",
    "\n",
    "    return b_0, b_1 \n"
   ],
   "execution_count": 3,
   "outputs": []
  },
  {
   "cell_type": "code",
   "metadata": {
    "cell_id": "00019-f1914154-cc5b-4416-a4b8-53e45b2a3b69",
    "deepnote_to_be_reexecuted": false,
    "source_hash": "60ddf32b",
    "execution_start": 1628462232307,
    "execution_millis": 2,
    "deepnote_cell_type": "code"
   },
   "source": [
    "def plot_regression(x, y, b):\n",
    "    plt.scatter(x, y, color='g', marker='o', s=30)\n",
    "    y_predicciones = b[0] + b[1] * x\n",
    "\n",
    "    plt.plot(x, y_predicciones, color=\"b\")\n",
    "    plt.scatter(x, y_predicciones, color='r', marker='o', s=30)\n",
    "\n",
    "    # Etiquetado\n",
    "    plt.xlabel('X - Independiente')\n",
    "    plt.ylabel('Y - Dependiente')\n",
    "\n",
    "    plt.show()"
   ],
   "execution_count": 10,
   "outputs": []
  },
  {
   "cell_type": "code",
   "metadata": {
    "cell_id": "00020-d681a129-77ec-46d8-afc7-856dcff4ff33",
    "deepnote_to_be_reexecuted": false,
    "source_hash": "a5543f16",
    "execution_start": 1628462233763,
    "execution_millis": 180,
    "deepnote_cell_type": "code"
   },
   "source": [
    "# Data\n",
    "x = np.array([1,2,3,4,5])\n",
    "y = np.array([2,3,5,6,5])\n",
    "\n",
    "# Obtener b1 y b0\n",
    "b = estimate_b0_b1(x, y)\n",
    "print(f\"b_0: {b[0]} | b_1: {b[1]}\")\n",
    "\n",
    "plot_regression(x, y, b)"
   ],
   "execution_count": 11,
   "outputs": [
    {
     "name": "stdout",
     "text": "b_0: 1.5 | b_1: 0.9\n",
     "output_type": "stream"
    },
    {
     "data": {
      "text/plain": "<Figure size 432x288 with 1 Axes>",
      "image/png": "[encoded data removed]"
     },
     "metadata": {
      "needs_background": "light",
      "image/png": {
       "width": 386,
       "height": 262
      }
     },
     "output_type": "display_data"
    }
   ]
  },
  {
   "cell_type": "code",
   "metadata": {
    "cell_id": "00021-61f719d9-c477-4144-b42d-feb106976fbf",
    "deepnote_cell_type": "code"
   },
   "source": [],
   "execution_count": null,
   "outputs": []
  },
  {
   "cell_type": "code",
   "metadata": {
    "cell_id": "00022-39ebcc06-946d-47e8-890c-fa38db7b7009",
    "deepnote_cell_type": "code"
   },
   "source": [],
   "execution_count": null,
   "outputs": []
  },
  {
   "cell_type": "code",
   "metadata": {
    "cell_id": "00023-1b49eb9b-1e4e-4256-872b-e4270b604241",
    "deepnote_cell_type": "code"
   },
   "source": [],
   "execution_count": null,
   "outputs": []
  },
  {
   "cell_type": "code",
   "metadata": {
    "cell_id": "00024-c530d9a0-7814-4ce5-bf5e-cc37b3387736",
    "deepnote_cell_type": "code"
   },
   "source": [],
   "execution_count": null,
   "outputs": []
  },
  {
   "cell_type": "code",
   "metadata": {
    "cell_id": "00025-290ed5af-3bc0-46e1-8035-0d70c3661ab3",
    "deepnote_cell_type": "code"
   },
   "source": [],
   "execution_count": null,
   "outputs": []
  },
  {
   "cell_type": "code",
   "metadata": {
    "cell_id": "00026-aca9c5d4-2072-4042-9a79-fa406e4e6553",
    "deepnote_cell_type": "code"
   },
   "source": [],
   "execution_count": null,
   "outputs": []
  },
  {
   "cell_type": "code",
   "metadata": {
    "cell_id": "00027-ea838ef1-83bd-4b86-bcdb-e13c2a291214",
    "deepnote_cell_type": "code"
   },
   "source": [],
   "execution_count": null,
   "outputs": []
  },
  {
   "cell_type": "code",
   "metadata": {
    "cell_id": "00028-6d65c7ca-fe1d-415b-b504-7d32433500d4",
    "deepnote_cell_type": "code"
   },
   "source": [],
   "execution_count": null,
   "outputs": []
  },
  {
   "cell_type": "code",
   "metadata": {
    "cell_id": "00029-81588005-54f1-4959-9b02-b9b896779014",
    "deepnote_cell_type": "code"
   },
   "source": [],
   "execution_count": null,
   "outputs": []
  },
  {
   "cell_type": "code",
   "metadata": {
    "cell_id": "00030-d748921f-f146-48c5-a4e6-63ef91e8ffd1",
    "deepnote_cell_type": "code"
   },
   "source": [],
   "execution_count": null,
   "outputs": []
  },
  {
   "cell_type": "code",
   "metadata": {
    "cell_id": "00031-e1d39779-0cde-49d4-ac27-7ed649e2aeba",
    "deepnote_cell_type": "code"
   },
   "source": [],
   "execution_count": null,
   "outputs": []
  },
  {
   "cell_type": "code",
   "metadata": {
    "cell_id": "00032-8adff0ea-1d64-4420-acdc-f8ac200a0ace",
    "deepnote_cell_type": "code"
   },
   "source": [],
   "execution_count": null,
   "outputs": []
  },
  {
   "cell_type": "code",
   "metadata": {
    "cell_id": "00033-5552ab6b-aa78-4412-9400-dc7a3fcd4bb2",
    "deepnote_cell_type": "code",
    "pycharm": {
     "name": "#%%\n"
    }
   },
   "source": [],
   "execution_count": null,
   "outputs": []
  }
 ],
 "nbformat": 4,
 "nbformat_minor": 2,
 "metadata": {
  "kernelspec": {
   "display_name": "Python 3",
   "language": "python",
   "name": "python3"
  },
  "language_info": {
   "codemirror_mode": {
    "name": "ipython",
    "version": 3
   },
   "file_extension": ".py",
   "mimetype": "text/x-python",
   "name": "python",
   "nbconvert_exporter": "python",
   "pygments_lexer": "ipython3",
   "version": "3.7.3"
  },
  "deepnote_notebook_id": "09423f9f-5b40-4179-a34b-a4191adf058f",
  "deepnote": {},
  "deepnote_execution_queue": []
 }
}