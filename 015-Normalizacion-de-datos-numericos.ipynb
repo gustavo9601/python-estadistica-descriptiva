{
 "cells": [
  {
   "cell_type": "markdown",
   "source": [
    "## Escalamiento de datos numéricos\n",
    "\n",
    "La normalización es una técnica que a menudo se aplica como parte de la preparación de datos para el aprendizaje automático. El objetivo de la normalización es cambiar los valores de las columnas numéricas en el conjunto de datos para usar una escala común, sin distorsionar las diferencias en los rangos de valores ni perder información. La normalización también es necesaria para que algunos algoritmos modelen los datos correctamente."
   ],
   "metadata": {
    "tags": [],
    "cell_id": "00000-3ae783b8-e68c-4e50-8584-76d9afd6d731",
    "deepnote_cell_type": "markdown",
    "pycharm": {
     "name": "#%% md\n"
    }
   }
  },
  {
   "cell_type": "markdown",
   "source": [
    "### Transformaciones lineales"
   ],
   "metadata": {
    "tags": [],
    "cell_id": "00001-1fa33800-9e78-4de9-9f32-8a55be925f26",
    "deepnote_cell_type": "markdown",
    "pycharm": {
     "name": "#%% md\n"
    }
   }
  },
  {
   "cell_type": "code",
   "metadata": {
    "tags": [],
    "cell_id": "00000-dd8388cc-7c25-45a6-8492-0cb9cad04e24",
    "deepnote_to_be_reexecuted": false,
    "source_hash": "286b4f4c",
    "execution_start": 1627871924694,
    "execution_millis": 28,
    "deepnote_cell_type": "code",
    "pycharm": {
     "name": "#%%\n"
    }
   },
   "source": [
    "import timeit\n",
    "import numpy as np\n",
    "import pandas as pd \n",
    "import matplotlib.pyplot as plt\n",
    "from sklearn import datasets, linear_model\n",
    "\n",
    "X, y = datasets.load_diabetes(return_X_y=True)\n",
    "\n",
    "\"\"\"\n",
    "Note: X tiene un shape de (442, 10) para nuestro estudio solo necesitamos una columna, \n",
    "buscamos tener un raw con shape (442, 1)\n",
    "\n",
    ": toma todas las columnas y filas.\n",
    "None indica la transformación del arreglo (newaxis)\n",
    "2 Selecciona la 3ra columna de X.\n",
    "\n",
    "\"\"\"\n",
    "\n",
    "raw = X[:, None, 2]\n",
    "\n",
    "raw\n"
   ],
   "execution_count": 1,
   "outputs": [
    {
     "data": {
      "text/plain": "array([[ 0.06169621],\n       [-0.05147406],\n       [ 0.04445121],\n       [-0.01159501],\n       [-0.03638469],\n       [-0.04069594],\n       [-0.04716281],\n       [-0.00189471],\n       [ 0.06169621],\n       [ 0.03906215],\n       [-0.08380842],\n       [ 0.01750591],\n       [-0.02884001],\n       [-0.00189471],\n       [-0.02560657],\n       [-0.01806189],\n       [ 0.04229559],\n       [ 0.01211685],\n       [-0.0105172 ],\n       [-0.01806189],\n       [-0.05686312],\n       [-0.02237314],\n       [-0.00405033],\n       [ 0.06061839],\n       [ 0.03582872],\n       [-0.01267283],\n       [-0.07734155],\n       [ 0.05954058],\n       [-0.02129532],\n       [-0.00620595],\n       [ 0.04445121],\n       [-0.06548562],\n       [ 0.12528712],\n       [-0.05039625],\n       [-0.06332999],\n       [-0.03099563],\n       [ 0.02289497],\n       [ 0.01103904],\n       [ 0.07139652],\n       [ 0.01427248],\n       [-0.00836158],\n       [-0.06764124],\n       [-0.0105172 ],\n       [-0.02345095],\n       [ 0.06816308],\n       [-0.03530688],\n       [-0.01159501],\n       [-0.0730303 ],\n       [-0.04177375],\n       [ 0.01427248],\n       [-0.00728377],\n       [ 0.0164281 ],\n       [-0.00943939],\n       [-0.01590626],\n       [ 0.0250506 ],\n       [-0.04931844],\n       [ 0.04121778],\n       [-0.06332999],\n       [-0.06440781],\n       [-0.02560657],\n       [-0.00405033],\n       [ 0.00457217],\n       [-0.00728377],\n       [-0.0374625 ],\n       [-0.02560657],\n       [-0.02452876],\n       [-0.01806189],\n       [-0.01482845],\n       [-0.02991782],\n       [-0.046085  ],\n       [-0.06979687],\n       [ 0.03367309],\n       [-0.00405033],\n       [-0.02021751],\n       [ 0.00241654],\n       [-0.03099563],\n       [ 0.02828403],\n       [-0.03638469],\n       [-0.05794093],\n       [-0.0374625 ],\n       [ 0.01211685],\n       [-0.02237314],\n       [-0.03530688],\n       [ 0.00996123],\n       [-0.03961813],\n       [ 0.07139652],\n       [-0.07518593],\n       [-0.00620595],\n       [-0.04069594],\n       [-0.04824063],\n       [-0.02560657],\n       [ 0.0519959 ],\n       [ 0.00457217],\n       [-0.06440781],\n       [-0.01698407],\n       [-0.05794093],\n       [ 0.00996123],\n       [ 0.08864151],\n       [-0.00512814],\n       [-0.06440781],\n       [ 0.01750591],\n       [-0.04500719],\n       [ 0.02828403],\n       [ 0.04121778],\n       [ 0.06492964],\n       [-0.03207344],\n       [-0.07626374],\n       [ 0.04984027],\n       [ 0.04552903],\n       [-0.00943939],\n       [-0.03207344],\n       [ 0.00457217],\n       [ 0.02073935],\n       [ 0.01427248],\n       [ 0.11019775],\n       [ 0.00133873],\n       [ 0.05846277],\n       [-0.02129532],\n       [-0.0105172 ],\n       [-0.04716281],\n       [ 0.00457217],\n       [ 0.01750591],\n       [ 0.08109682],\n       [ 0.0347509 ],\n       [ 0.02397278],\n       [-0.00836158],\n       [-0.06117437],\n       [-0.00189471],\n       [-0.06225218],\n       [ 0.0164281 ],\n       [ 0.09618619],\n       [-0.06979687],\n       [-0.02129532],\n       [-0.05362969],\n       [ 0.0433734 ],\n       [ 0.05630715],\n       [-0.0816528 ],\n       [ 0.04984027],\n       [ 0.11127556],\n       [ 0.06169621],\n       [ 0.01427248],\n       [ 0.04768465],\n       [ 0.01211685],\n       [ 0.00564998],\n       [ 0.04660684],\n       [ 0.12852056],\n       [ 0.05954058],\n       [ 0.09295276],\n       [ 0.01535029],\n       [-0.00512814],\n       [ 0.0703187 ],\n       [-0.00405033],\n       [-0.00081689],\n       [-0.04392938],\n       [ 0.02073935],\n       [ 0.06061839],\n       [-0.0105172 ],\n       [-0.03315126],\n       [-0.06548562],\n       [ 0.0433734 ],\n       [-0.06225218],\n       [ 0.06385183],\n       [ 0.03043966],\n       [ 0.07247433],\n       [-0.0191397 ],\n       [-0.06656343],\n       [-0.06009656],\n       [ 0.06924089],\n       [ 0.05954058],\n       [-0.02668438],\n       [-0.02021751],\n       [-0.046085  ],\n       [ 0.07139652],\n       [-0.07949718],\n       [ 0.00996123],\n       [-0.03854032],\n       [ 0.01966154],\n       [ 0.02720622],\n       [-0.00836158],\n       [-0.01590626],\n       [ 0.00457217],\n       [-0.04285156],\n       [ 0.00564998],\n       [-0.03530688],\n       [ 0.02397278],\n       [-0.01806189],\n       [ 0.04229559],\n       [-0.0547075 ],\n       [-0.00297252],\n       [-0.06656343],\n       [-0.01267283],\n       [-0.04177375],\n       [-0.03099563],\n       [-0.00512814],\n       [-0.05901875],\n       [ 0.0250506 ],\n       [-0.046085  ],\n       [ 0.00349435],\n       [ 0.05415152],\n       [-0.04500719],\n       [-0.05794093],\n       [-0.05578531],\n       [ 0.00133873],\n       [ 0.03043966],\n       [ 0.00672779],\n       [ 0.04660684],\n       [ 0.02612841],\n       [ 0.04552903],\n       [ 0.04013997],\n       [-0.01806189],\n       [ 0.01427248],\n       [ 0.03690653],\n       [ 0.00349435],\n       [-0.07087468],\n       [-0.03315126],\n       [ 0.09403057],\n       [ 0.03582872],\n       [ 0.03151747],\n       [-0.06548562],\n       [-0.04177375],\n       [-0.03961813],\n       [-0.03854032],\n       [-0.02560657],\n       [-0.02345095],\n       [-0.06656343],\n       [ 0.03259528],\n       [-0.046085  ],\n       [-0.02991782],\n       [-0.01267283],\n       [-0.01590626],\n       [ 0.07139652],\n       [-0.03099563],\n       [ 0.00026092],\n       [ 0.03690653],\n       [ 0.03906215],\n       [-0.01482845],\n       [ 0.00672779],\n       [-0.06871905],\n       [-0.00943939],\n       [ 0.01966154],\n       [ 0.07462995],\n       [-0.00836158],\n       [-0.02345095],\n       [-0.046085  ],\n       [ 0.05415152],\n       [-0.03530688],\n       [-0.03207344],\n       [-0.0816528 ],\n       [ 0.04768465],\n       [ 0.06061839],\n       [ 0.05630715],\n       [ 0.09834182],\n       [ 0.05954058],\n       [ 0.03367309],\n       [ 0.05630715],\n       [-0.06548562],\n       [ 0.16085492],\n       [-0.05578531],\n       [-0.02452876],\n       [-0.03638469],\n       [-0.00836158],\n       [-0.04177375],\n       [ 0.12744274],\n       [-0.07734155],\n       [ 0.02828403],\n       [-0.02560657],\n       [-0.06225218],\n       [-0.00081689],\n       [ 0.08864151],\n       [-0.03207344],\n       [ 0.03043966],\n       [ 0.00888341],\n       [ 0.00672779],\n       [-0.02021751],\n       [-0.02452876],\n       [-0.01159501],\n       [ 0.02612841],\n       [-0.05901875],\n       [-0.03638469],\n       [-0.02452876],\n       [ 0.01858372],\n       [-0.0902753 ],\n       [-0.00512814],\n       [-0.05255187],\n       [-0.02237314],\n       [-0.02021751],\n       [-0.0547075 ],\n       [-0.00620595],\n       [-0.01698407],\n       [ 0.05522933],\n       [ 0.07678558],\n       [ 0.01858372],\n       [-0.02237314],\n       [ 0.09295276],\n       [-0.03099563],\n       [ 0.03906215],\n       [-0.06117437],\n       [-0.00836158],\n       [-0.0374625 ],\n       [-0.01375064],\n       [ 0.07355214],\n       [-0.02452876],\n       [ 0.03367309],\n       [ 0.0347509 ],\n       [-0.03854032],\n       [-0.03961813],\n       [-0.00189471],\n       [-0.03099563],\n       [-0.046085  ],\n       [ 0.00133873],\n       [ 0.06492964],\n       [ 0.04013997],\n       [-0.02345095],\n       [ 0.05307371],\n       [ 0.04013997],\n       [-0.02021751],\n       [ 0.01427248],\n       [-0.03422907],\n       [ 0.00672779],\n       [ 0.00457217],\n       [ 0.03043966],\n       [ 0.0519959 ],\n       [ 0.06169621],\n       [-0.00728377],\n       [ 0.00564998],\n       [ 0.05415152],\n       [-0.00836158],\n       [ 0.114509  ],\n       [ 0.06708527],\n       [-0.05578531],\n       [ 0.03043966],\n       [-0.02560657],\n       [ 0.10480869],\n       [-0.00620595],\n       [-0.04716281],\n       [-0.04824063],\n       [ 0.08540807],\n       [-0.01267283],\n       [-0.03315126],\n       [-0.00728377],\n       [-0.01375064],\n       [ 0.05954058],\n       [ 0.02181716],\n       [ 0.01858372],\n       [-0.01159501],\n       [-0.00297252],\n       [ 0.01750591],\n       [-0.02991782],\n       [-0.02021751],\n       [-0.05794093],\n       [ 0.06061839],\n       [-0.04069594],\n       [-0.07195249],\n       [-0.05578531],\n       [ 0.04552903],\n       [-0.00943939],\n       [-0.03315126],\n       [ 0.04984027],\n       [-0.08488624],\n       [ 0.00564998],\n       [ 0.02073935],\n       [-0.00728377],\n       [ 0.10480869],\n       [-0.02452876],\n       [-0.00620595],\n       [-0.03854032],\n       [ 0.13714305],\n       [ 0.17055523],\n       [ 0.00241654],\n       [ 0.03798434],\n       [-0.05794093],\n       [-0.00943939],\n       [-0.02345095],\n       [-0.0105172 ],\n       [-0.03422907],\n       [-0.00297252],\n       [ 0.06816308],\n       [ 0.00996123],\n       [ 0.00241654],\n       [-0.03854032],\n       [ 0.02612841],\n       [-0.08919748],\n       [ 0.06061839],\n       [-0.02884001],\n       [-0.02991782],\n       [-0.0191397 ],\n       [-0.04069594],\n       [ 0.01535029],\n       [-0.02452876],\n       [ 0.00133873],\n       [ 0.06924089],\n       [-0.06979687],\n       [-0.02991782],\n       [-0.046085  ],\n       [ 0.01858372],\n       [ 0.00133873],\n       [-0.03099563],\n       [-0.00405033],\n       [ 0.01535029],\n       [ 0.02289497],\n       [ 0.04552903],\n       [-0.04500719],\n       [-0.03315126],\n       [ 0.097264  ],\n       [ 0.05415152],\n       [ 0.12313149],\n       [-0.08057499],\n       [ 0.09295276],\n       [-0.05039625],\n       [-0.01159501],\n       [-0.0277622 ],\n       [ 0.05846277],\n       [ 0.08540807],\n       [-0.00081689],\n       [ 0.00672779],\n       [ 0.00888341],\n       [ 0.08001901],\n       [ 0.07139652],\n       [-0.02452876],\n       [-0.0547075 ],\n       [-0.03638469],\n       [ 0.0164281 ],\n       [ 0.07786339],\n       [-0.03961813],\n       [ 0.01103904],\n       [-0.04069594],\n       [-0.03422907],\n       [ 0.00564998],\n       [ 0.08864151],\n       [-0.03315126],\n       [-0.05686312],\n       [-0.03099563],\n       [ 0.05522933],\n       [-0.06009656],\n       [ 0.00133873],\n       [-0.02345095],\n       [-0.07410811],\n       [ 0.01966154],\n       [-0.01590626],\n       [-0.01590626],\n       [ 0.03906215],\n       [-0.0730303 ]])"
     },
     "execution_count": 1,
     "metadata": {},
     "output_type": "execute_result"
    }
   ]
  },
  {
   "cell_type": "markdown",
   "source": [
    "Detalles del dataset: https://scikit-learn.org/stable/modules/generated/sklearn.datasets.load_diabetes.html"
   ],
   "metadata": {
    "tags": [],
    "cell_id": "00001-de96f906-18e2-433d-98c3-2a6675f1ddf9",
    "deepnote_cell_type": "markdown",
    "pycharm": {
     "name": "#%% md\n"
    }
   }
  },
  {
   "cell_type": "markdown",
   "source": [
    "### Escalamientos"
   ],
   "metadata": {
    "collapsed": false,
    "pycharm": {
     "name": "#%% md\n"
    }
   }
  },
  {
   "cell_type": "code",
   "metadata": {
    "tags": [],
    "cell_id": "00001-7b52d2b4-5e9d-4d35-a045-d3697bd31a44",
    "deepnote_to_be_reexecuted": false,
    "source_hash": "b09b9e95",
    "execution_start": 1627872113525,
    "execution_millis": 372,
    "output_cleared": false,
    "deepnote_cell_type": "code",
    "pycharm": {
     "name": "#%%\n"
    }
   },
   "source": [
    "# escalamiento max-min\n",
    "\n",
    "max_raw = max(raw)\n",
    "min_raw = min(raw)\n",
    "scaled_max_min = (2*raw - max_raw -min_raw)/(max_raw - min_raw)\n",
    "\n",
    "# normalización Z-score\n",
    "\n",
    "avg = np.average(raw)\n",
    "std = np.std(raw)\n",
    "z_scaled = (raw - avg)/std\n",
    "\n",
    "# sharex // compartan el eje X\n",
    "fig, axs = plt.subplots(3, 1, sharex=True, tight_layout=True)\n",
    "\n",
    "# Imprimiendo los datos inicialmente, y despues los escalados\n",
    "axs[0].hist(raw)\n",
    "axs[1].hist(scaled_max_min)\n",
    "axs[2].hist(z_scaled)"
   ],
   "execution_count": 3,
   "outputs": [
    {
     "data": {
      "text/plain": "(array([32., 66., 98., 90., 64., 50., 23., 12.,  5.,  2.]),\n array([-1.89792941, -1.34956464, -0.80119987, -0.2528351 ,  0.29552967,\n         0.84389444,  1.39225921,  1.94062398,  2.48898875,  3.03735352,\n         3.58571828]),\n <BarContainer object of 10 artists>)"
     },
     "execution_count": 3,
     "metadata": {},
     "output_type": "execute_result"
    },
    {
     "data": {
      "text/plain": "<Figure size 432x288 with 3 Axes>",
      "image/png": "[encoded data removed]"
     },
     "metadata": {},
     "output_type": "display_data"
    }
   ]
  },
  {
   "cell_type": "code",
   "metadata": {
    "tags": [],
    "cell_id": "00002-a231b2cb-c0fa-43ef-a3e5-283ee2343e48",
    "deepnote_to_be_reexecuted": false,
    "source_hash": "8d13a080",
    "execution_start": 1627872376705,
    "execution_millis": 2,
    "deepnote_cell_type": "code",
    "pycharm": {
     "name": "#%%\n"
    }
   },
   "source": [
    "# modelos para entrenamiento\n",
    "def train_raw():\n",
    "    linear_model.LinearRegression().fit(raw, y)\n",
    "\n",
    "def train_scaled():\n",
    "    linear_model.LinearRegression().fit(scaled, y)\n",
    "\n",
    "def train_z_scaled():\n",
    "    linear_model.LinearRegression().fit(z_scaled, y)"
   ],
   "execution_count": 4,
   "outputs": []
  },
  {
   "cell_type": "code",
   "metadata": {
    "tags": [],
    "cell_id": "00004-95df3b96-b7bf-4957-9030-aee0179e31dd",
    "deepnote_to_be_reexecuted": false,
    "source_hash": "8fb5e562",
    "execution_start": 1627872379912,
    "execution_millis": 103,
    "output_cleared": false,
    "deepnote_cell_type": "code",
    "pycharm": {
     "name": "#%%\n"
    }
   },
   "source": [
    "# Calculando el tiempo a tomar\n",
    "raw_time = timeit.timeit(train_raw, number = 100)\n",
    "\n",
    "scaled_time = timeit.timeit(train_scaled, number = 100)\n",
    "\n",
    "z_scaled_time = timeit.timeit(train_z_scaled, number = 100)\n",
    "\n",
    "print('trainning time for raw data : {} '.format(raw_time))\n",
    "print('trainning time for scaled data : {}'.format(scaled_time))\n",
    "print('trainning time for z_scaled data : {}'.format(z_scaled_time))"
   ],
   "execution_count": 5,
   "outputs": [
    {
     "name": "stdout",
     "output_type": "stream",
     "text": [
      "trainning time for raw data : 0.0782933000000412 \n",
      "trainning time for scaled data : 0.06516429999999218\n",
      "trainning time for z_scaled data : 0.06839069999989533\n"
     ]
    }
   ]
  },
  {
   "cell_type": "markdown",
   "source": [
    "## Notas para escoger el metodo para estandarizar los datos\n",
    "* max-min scaling: mejor para datos uniformemente distribuidos\n",
    "* z-score scaling: mejor para datos distribuidos \"normalmente\" (forma de campana de gauss)"
   ],
   "metadata": {
    "tags": [],
    "cell_id": "00006-39c52400-be54-4471-a6c6-e0bebbd7a48f",
    "deepnote_cell_type": "markdown",
    "pycharm": {
     "name": "#%% md\n"
    }
   }
  },
  {
   "cell_type": "markdown",
   "source": [
    "Utilidades de Scikit Learn : https://scikit-learn.org/stable/modules/preprocessing.html"
   ],
   "metadata": {
    "tags": [],
    "cell_id": "00006-3645f92d-c7c3-4f2c-8ff6-19b158f1e589",
    "deepnote_cell_type": "markdown",
    "pycharm": {
     "name": "#%% md\n"
    }
   }
  },
  {
   "cell_type": "markdown",
   "source": [
    "### Transformaciones no lineales (sobre funciones no lineales)\n",
    "\n",
    "¿Por qué usarlos?\n",
    "En el caso donde haya datos fuertemente sesgados y no simétricos.\n",
    "\n",
    "Logarítmica\n",
    "Sigmoide\n",
    "Polinomial\n",
    "Trigonométrica\n",
    "\n",
    "<img src=\"https://i.imgur.com/9e1gTmA.png\">\n"
   ],
   "metadata": {
    "tags": [],
    "cell_id": "00009-8f892a43-fc2d-4765-9df6-220b21698953",
    "deepnote_cell_type": "markdown",
    "pycharm": {
     "name": "#%% md\n"
    }
   }
  },
  {
   "cell_type": "code",
   "metadata": {
    "tags": [],
    "cell_id": "00010-c3f4aea0-11c5-41b0-9d6d-db691ef3fe1c",
    "deepnote_to_be_reexecuted": false,
    "source_hash": "f2d578bb",
    "execution_start": 1627872457289,
    "execution_millis": 132,
    "deepnote_cell_type": "code",
    "pycharm": {
     "name": "#%%\n"
    }
   },
   "source": [
    "df = pd.read_csv('./data/cars.csv')"
   ],
   "execution_count": 8,
   "outputs": []
  },
  {
   "cell_type": "code",
   "metadata": {
    "tags": [],
    "cell_id": "00011-2eb046f6-9ec1-4791-a79a-c7b651c4d276",
    "deepnote_to_be_reexecuted": false,
    "source_hash": "1d9343bd",
    "execution_start": 1627872464456,
    "execution_millis": 193,
    "output_cleared": false,
    "deepnote_cell_type": "code",
    "pycharm": {
     "name": "#%%\n"
    }
   },
   "source": [
    "df.price_usd.hist()"
   ],
   "execution_count": 9,
   "outputs": [
    {
     "data": {
      "text/plain": "<AxesSubplot:>"
     },
     "execution_count": 9,
     "metadata": {},
     "output_type": "execute_result"
    },
    {
     "data": {
      "text/plain": "<Figure size 432x288 with 1 Axes>",
      "image/png": "[encoded data removed]"
     },
     "metadata": {},
     "output_type": "display_data"
    }
   ]
  },
  {
   "cell_type": "markdown",
   "source": [
    "## Transformacion hiperbolica\n",
    "Transformación con $$tanh(x)$$"
   ],
   "metadata": {
    "tags": [],
    "cell_id": "00012-e7d44a5d-9df4-41fb-a0d9-d1467e02f7c5",
    "deepnote_cell_type": "markdown",
    "pycharm": {
     "name": "#%% md\n"
    }
   }
  },
  {
   "cell_type": "code",
   "metadata": {
    "tags": [],
    "cell_id": "00012-4d7c01b7-67e1-4528-83b8-53f72c22bd71",
    "deepnote_to_be_reexecuted": false,
    "source_hash": "c811319f",
    "execution_start": 1627872547145,
    "execution_millis": 193,
    "output_cleared": false,
    "deepnote_cell_type": "code",
    "pycharm": {
     "name": "#%%\n"
    }
   },
   "source": [
    "# Aplicando a la columna price_usd una transformacion con la funcion hiperbolica\n",
    "p = 10000\n",
    "df.price_usd.apply(lambda x: np.tanh(x/p)).hist()"
   ],
   "execution_count": 15,
   "outputs": [
    {
     "output_type": "execute_result",
     "execution_count": 15,
     "data": {
      "text/plain": "<AxesSubplot:>"
     },
     "metadata": {}
    },
    {
     "data": {
      "text/plain": "<Figure size 432x288 with 1 Axes>",
      "image/png": "[encoded data removed]"
     },
     "metadata": {
      "needs_background": "light",
      "image/png": {
       "width": 381,
       "height": 248
      }
     },
     "output_type": "display_data"
    }
   ]
  },
  {
   "cell_type": "markdown",
   "source": [
    "* mapear datos a una distribucion gaussiana: https://scikit-learn.org/stable/auto_examples/preprocessing/plot_map_data_to_normal.html#sphx-glr-auto-examples-preprocessing-plot-map-data-to-normal-py\n"
   ],
   "metadata": {
    "tags": [],
    "cell_id": "00014-043435bf-21c9-4ffc-9036-2a1dd7b298ee",
    "deepnote_cell_type": "markdown",
    "pycharm": {
     "name": "#%% md\n"
    }
   }
  }
 ],
 "nbformat": 4,
 "nbformat_minor": 2,
 "metadata": {
  "orig_nbformat": 2,
  "deepnote": {
   "is_reactive": false
  },
  "deepnote_notebook_id": "dc0e8e2f-767c-4d0a-bdda-fe85e29fb72b",
  "deepnote_execution_queue": []
 }
}