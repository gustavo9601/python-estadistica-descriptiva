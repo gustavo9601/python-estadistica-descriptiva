{
 "cells": [
  {
   "cell_type": "code",
   "metadata": {
    "tags": [],
    "cell_id": "00000-4d5699f2-4c6d-425c-9ea2-639ccc422819",
    "deepnote_to_be_reexecuted": false,
    "source_hash": "97181945",
    "execution_start": 1627873959291,
    "execution_millis": 140,
    "deepnote_cell_type": "code"
   },
   "source": "import pandas as pd \n\ndf = pd.read_csv('cars.csv')",
   "execution_count": 2,
   "outputs": []
  },
  {
   "cell_type": "code",
   "source": "df.head()",
   "metadata": {
    "tags": [],
    "cell_id": "00001-db4a58d3-e7cd-41e1-b428-2a9ad8dd1b08",
    "deepnote_to_be_reexecuted": false,
    "source_hash": "c085b6ba",
    "execution_start": 1627873986484,
    "execution_millis": 84,
    "deepnote_cell_type": "code"
   },
   "outputs": [
    {
     "output_type": "execute_result",
     "execution_count": 5,
     "data": {
      "application/vnd.deepnote.dataframe.v2+json": {
       "row_count": 5,
       "column_count": 30,
       "columns": [
        {
         "name": "manufacturer_name",
         "dtype": "object",
         "stats": {
          "unique_count": 1,
          "nan_count": 0,
          "categories": [
           {
            "name": "Subaru",
            "count": 5
           }
          ]
         }
        },
        {
         "name": "model_name",
         "dtype": "object",
         "stats": {
          "unique_count": 4,
          "nan_count": 0,
          "categories": [
           {
            "name": "Outback",
            "count": 2
           },
           {
            "name": "Forester",
            "count": 1
           },
           {
            "name": "2 others",
            "count": 2
           }
          ]
         }
        },
        {
         "name": "transmission",
         "dtype": "object",
         "stats": {
          "unique_count": 2,
          "nan_count": 0,
          "categories": [
           {
            "name": "automatic",
            "count": 4
           },
           {
            "name": "mechanical",
            "count": 1
           }
          ]
         }
        },
        {
         "name": "color",
         "dtype": "object",
         "stats": {
          "unique_count": 4,
          "nan_count": 0,
          "categories": [
           {
            "name": "blue",
            "count": 2
           },
           {
            "name": "silver",
            "count": 1
           },
           {
            "name": "2 others",
            "count": 2
           }
          ]
         }
        },
        {
         "name": "odometer_value",
         "dtype": "int64",
         "stats": {
          "unique_count": 5,
          "nan_count": 0,
          "min": "10000",
          "max": "402000",
          "histogram": [
           {
            "bin_start": 10000,
            "bin_end": 49200,
            "count": 1
           },
           {
            "bin_start": 49200,
            "bin_end": 88400,
            "count": 0
           },
           {
            "bin_start": 88400,
            "bin_end": 127600,
            "count": 0
           },
           {
            "bin_start": 127600,
            "bin_end": 166800,
            "count": 0
           },
           {
            "bin_start": 166800,
            "bin_end": 206000,
            "count": 1
           },
           {
            "bin_start": 206000,
            "bin_end": 245200,
            "count": 0
           },
           {
            "bin_start": 245200,
            "bin_end": 284400,
            "count": 1
           },
           {
            "bin_start": 284400,
            "bin_end": 323600,
            "count": 1
           },
           {
            "bin_start": 323600,
            "bin_end": 362800,
            "count": 0
           },
           {
            "bin_start": 362800,
            "bin_end": 402000,
            "count": 1
           }
          ]
         }
        },
        {
         "name": "year_produced",
         "dtype": "int64",
         "stats": {
          "unique_count": 4,
          "nan_count": 0,
          "min": "1999",
          "max": "2010",
          "histogram": [
           {
            "bin_start": 1999,
            "bin_end": 2000.1,
            "count": 1
           },
           {
            "bin_start": 2000.1,
            "bin_end": 2001.2,
            "count": 2
           },
           {
            "bin_start": 2001.2,
            "bin_end": 2002.3,
            "count": 1
           },
           {
            "bin_start": 2002.3,
            "bin_end": 2003.4,
            "count": 0
           },
           {
            "bin_start": 2003.4,
            "bin_end": 2004.5,
            "count": 0
           },
           {
            "bin_start": 2004.5,
            "bin_end": 2005.6,
            "count": 0
           },
           {
            "bin_start": 2005.6,
            "bin_end": 2006.7,
            "count": 0
           },
           {
            "bin_start": 2006.7,
            "bin_end": 2007.8,
            "count": 0
           },
           {
            "bin_start": 2007.8,
            "bin_end": 2008.9,
            "count": 0
           },
           {
            "bin_start": 2008.9,
            "bin_end": 2010,
            "count": 1
           }
          ]
         }
        },
        {
         "name": "engine_fuel",
         "dtype": "object",
         "stats": {
          "unique_count": 1,
          "nan_count": 0,
          "categories": [
           {
            "name": "gasoline",
            "count": 5
           }
          ]
         }
        },
        {
         "name": "engine_has_gas",
         "dtype": "bool",
         "stats": {
          "unique_count": 1,
          "nan_count": 0,
          "categories": [
           {
            "name": "False",
            "count": 5
           }
          ]
         }
        },
        {
         "name": "engine_type",
         "dtype": "object",
         "stats": {
          "unique_count": 1,
          "nan_count": 0,
          "categories": [
           {
            "name": "gasoline",
            "count": 5
           }
          ]
         }
        },
        {
         "name": "engine_capacity",
         "dtype": "float64",
         "stats": {
          "unique_count": 2,
          "nan_count": 0,
          "min": "2.5",
          "max": "3.0",
          "histogram": [
           {
            "bin_start": 2.5,
            "bin_end": 2.55,
            "count": 3
           },
           {
            "bin_start": 2.55,
            "bin_end": 2.6,
            "count": 0
           },
           {
            "bin_start": 2.6,
            "bin_end": 2.65,
            "count": 0
           },
           {
            "bin_start": 2.65,
            "bin_end": 2.7,
            "count": 0
           },
           {
            "bin_start": 2.7,
            "bin_end": 2.75,
            "count": 0
           },
           {
            "bin_start": 2.75,
            "bin_end": 2.8,
            "count": 0
           },
           {
            "bin_start": 2.8,
            "bin_end": 2.85,
            "count": 0
           },
           {
            "bin_start": 2.85,
            "bin_end": 2.9,
            "count": 0
           },
           {
            "bin_start": 2.9,
            "bin_end": 2.95,
            "count": 0
           },
           {
            "bin_start": 2.95,
            "bin_end": 3,
            "count": 2
           }
          ]
         }
        },
        {
         "name": "body_type",
         "dtype": "object",
         "stats": {
          "unique_count": 3,
          "nan_count": 0,
          "categories": [
           {
            "name": "universal",
            "count": 3
           },
           {
            "name": "suv",
            "count": 1
           },
           {
            "name": "sedan",
            "count": 1
           }
          ]
         }
        },
        {
         "name": "has_warranty",
         "dtype": "bool",
         "stats": {
          "unique_count": 1,
          "nan_count": 0,
          "categories": [
           {
            "name": "False",
            "count": 5
           }
          ]
         }
        },
        {
         "name": "state",
         "dtype": "object",
         "stats": {
          "unique_count": 1,
          "nan_count": 0,
          "categories": [
           {
            "name": "owned",
            "count": 5
           }
          ]
         }
        },
        {
         "name": "drivetrain",
         "dtype": "object",
         "stats": {
          "unique_count": 1,
          "nan_count": 0,
          "categories": [
           {
            "name": "all",
            "count": 5
           }
          ]
         }
        },
        {
         "name": "price_usd",
         "dtype": "float64",
         "stats": {
          "unique_count": 5,
          "nan_count": 0,
          "min": "2134.11",
          "max": "10900.0",
          "histogram": [
           {
            "bin_start": 2134.11,
            "bin_end": 3010.699,
            "count": 2
           },
           {
            "bin_start": 3010.699,
            "bin_end": 3887.288,
            "count": 0
           },
           {
            "bin_start": 3887.288,
            "bin_end": 4763.877,
            "count": 0
           },
           {
            "bin_start": 4763.877,
            "bin_end": 5640.466,
            "count": 1
           },
           {
            "bin_start": 5640.466,
            "bin_end": 6517.055,
            "count": 0
           },
           {
            "bin_start": 6517.055,
            "bin_end": 7393.644,
            "count": 0
           },
           {
            "bin_start": 7393.644,
            "bin_end": 8270.233,
            "count": 0
           },
           {
            "bin_start": 8270.233,
            "bin_end": 9146.822,
            "count": 0
           },
           {
            "bin_start": 9146.822,
            "bin_end": 10023.411,
            "count": 1
           },
           {
            "bin_start": 10023.411,
            "bin_end": 10900,
            "count": 1
           }
          ]
         }
        },
        {
         "name": "is_exchangeable",
         "dtype": "bool",
         "stats": {
          "unique_count": 2,
          "nan_count": 0,
          "categories": [
           {
            "name": "True",
            "count": 4
           },
           {
            "name": "False",
            "count": 1
           }
          ]
         }
        },
        {
         "name": "location_region",
         "dtype": "object",
         "stats": {
          "unique_count": 2,
          "nan_count": 0,
          "categories": [
           {
            "name": "Минская обл.",
            "count": 4
           },
           {
            "name": "Гомельская обл.",
            "count": 1
           }
          ]
         }
        },
        {
         "name": "number_of_photos",
         "dtype": "int64",
         "stats": {
          "unique_count": 4,
          "nan_count": 0,
          "min": "4",
          "max": "14",
          "histogram": [
           {
            "bin_start": 4,
            "bin_end": 5,
            "count": 1
           },
           {
            "bin_start": 5,
            "bin_end": 6,
            "count": 0
           },
           {
            "bin_start": 6,
            "bin_end": 7,
            "count": 0
           },
           {
            "bin_start": 7,
            "bin_end": 8,
            "count": 0
           },
           {
            "bin_start": 8,
            "bin_end": 9,
            "count": 0
           },
           {
            "bin_start": 9,
            "bin_end": 10,
            "count": 2
           },
           {
            "bin_start": 10,
            "bin_end": 11,
            "count": 0
           },
           {
            "bin_start": 11,
            "bin_end": 12,
            "count": 0
           },
           {
            "bin_start": 12,
            "bin_end": 13,
            "count": 1
           },
           {
            "bin_start": 13,
            "bin_end": 14,
            "count": 1
           }
          ]
         }
        },
        {
         "name": "up_counter",
         "dtype": "int64",
         "stats": {
          "unique_count": 5,
          "nan_count": 0,
          "min": "7",
          "max": "72",
          "histogram": [
           {
            "bin_start": 7,
            "bin_end": 13.5,
            "count": 2
           },
           {
            "bin_start": 13.5,
            "bin_end": 20,
            "count": 0
           },
           {
            "bin_start": 20,
            "bin_end": 26.5,
            "count": 0
           },
           {
            "bin_start": 26.5,
            "bin_end": 33,
            "count": 0
           },
           {
            "bin_start": 33,
            "bin_end": 39.5,
            "count": 0
           },
           {
            "bin_start": 39.5,
            "bin_end": 46,
            "count": 1
           },
           {
            "bin_start": 46,
            "bin_end": 52.5,
            "count": 0
           },
           {
            "bin_start": 52.5,
            "bin_end": 59,
            "count": 1
           },
           {
            "bin_start": 59,
            "bin_end": 65.5,
            "count": 0
           },
           {
            "bin_start": 65.5,
            "bin_end": 72,
            "count": 1
           }
          ]
         }
        },
        {
         "name": "feature_0",
         "dtype": "bool",
         "stats": {
          "unique_count": 2,
          "nan_count": 0,
          "categories": [
           {
            "name": "False",
            "count": 4
           },
           {
            "name": "True",
            "count": 1
           }
          ]
         }
        },
        {
         "name": "feature_1",
         "dtype": "bool",
         "stats": {
          "unique_count": 2,
          "nan_count": 0,
          "categories": [
           {
            "name": "True",
            "count": 4
           },
           {
            "name": "False",
            "count": 1
           }
          ]
         }
        },
        {
         "name": "feature_2",
         "dtype": "bool",
         "stats": {
          "unique_count": 2,
          "nan_count": 0,
          "categories": [
           {
            "name": "False",
            "count": 4
           },
           {
            "name": "True",
            "count": 1
           }
          ]
         }
        },
        {
         "name": "feature_3",
         "dtype": "bool",
         "stats": {
          "unique_count": 2,
          "nan_count": 0,
          "categories": [
           {
            "name": "False",
            "count": 3
           },
           {
            "name": "True",
            "count": 2
           }
          ]
         }
        },
        {
         "name": "feature_4",
         "dtype": "bool",
         "stats": {
          "unique_count": 2,
          "nan_count": 0,
          "categories": [
           {
            "name": "False",
            "count": 3
           },
           {
            "name": "True",
            "count": 2
           }
          ]
         }
        },
        {
         "name": "feature_5",
         "dtype": "bool",
         "stats": {
          "unique_count": 2,
          "nan_count": 0,
          "categories": [
           {
            "name": "False",
            "count": 3
           },
           {
            "name": "True",
            "count": 2
           }
          ]
         }
        },
        {
         "name": "feature_6",
         "dtype": "bool",
         "stats": {
          "unique_count": 1,
          "nan_count": 0,
          "categories": [
           {
            "name": "False",
            "count": 5
           }
          ]
         }
        },
        {
         "name": "feature_7",
         "dtype": "bool",
         "stats": {
          "unique_count": 2,
          "nan_count": 0,
          "categories": [
           {
            "name": "False",
            "count": 4
           },
           {
            "name": "True",
            "count": 1
           }
          ]
         }
        },
        {
         "name": "feature_8",
         "dtype": "bool",
         "stats": {
          "unique_count": 2,
          "nan_count": 0,
          "categories": [
           {
            "name": "False",
            "count": 3
           },
           {
            "name": "True",
            "count": 2
           }
          ]
         }
        },
        {
         "name": "feature_9",
         "dtype": "bool",
         "stats": {
          "unique_count": 2,
          "nan_count": 0,
          "categories": [
           {
            "name": "True",
            "count": 4
           },
           {
            "name": "False",
            "count": 1
           }
          ]
         }
        },
        {
         "name": "duration_listed",
         "dtype": "int64",
         "stats": {
          "unique_count": 5,
          "nan_count": 0,
          "min": "7",
          "max": "151",
          "histogram": [
           {
            "bin_start": 7,
            "bin_end": 21.4,
            "count": 2
           },
           {
            "bin_start": 21.4,
            "bin_end": 35.8,
            "count": 0
           },
           {
            "bin_start": 35.8,
            "bin_end": 50.2,
            "count": 0
           },
           {
            "bin_start": 50.2,
            "bin_end": 64.6,
            "count": 0
           },
           {
            "bin_start": 64.6,
            "bin_end": 79,
            "count": 0
           },
           {
            "bin_start": 79,
            "bin_end": 93.4,
            "count": 2
           },
           {
            "bin_start": 93.4,
            "bin_end": 107.8,
            "count": 0
           },
           {
            "bin_start": 107.8,
            "bin_end": 122.2,
            "count": 0
           },
           {
            "bin_start": 122.2,
            "bin_end": 136.6,
            "count": 0
           },
           {
            "bin_start": 136.6,
            "bin_end": 151,
            "count": 1
           }
          ]
         }
        },
        {
         "name": "_deepnote_index_column",
         "dtype": "int64"
        }
       ],
       "rows_top": [
        {
         "manufacturer_name": "Subaru",
         "model_name": "Outback",
         "transmission": "automatic",
         "color": "silver",
         "odometer_value": 190000,
         "year_produced": 2010,
         "engine_fuel": "gasoline",
         "engine_has_gas": "False",
         "engine_type": "gasoline",
         "engine_capacity": 2.5,
         "body_type": "universal",
         "has_warranty": "False",
         "state": "owned",
         "drivetrain": "all",
         "price_usd": 10900,
         "is_exchangeable": "False",
         "location_region": "Минская обл.",
         "number_of_photos": 9,
         "up_counter": 13,
         "feature_0": "False",
         "feature_1": "True",
         "feature_2": "True",
         "feature_3": "True",
         "feature_4": "False",
         "feature_5": "True",
         "feature_6": "False",
         "feature_7": "True",
         "feature_8": "True",
         "feature_9": "True",
         "duration_listed": 16,
         "_deepnote_index_column": 0
        },
        {
         "manufacturer_name": "Subaru",
         "model_name": "Outback",
         "transmission": "automatic",
         "color": "blue",
         "odometer_value": 290000,
         "year_produced": 2002,
         "engine_fuel": "gasoline",
         "engine_has_gas": "False",
         "engine_type": "gasoline",
         "engine_capacity": 3,
         "body_type": "universal",
         "has_warranty": "False",
         "state": "owned",
         "drivetrain": "all",
         "price_usd": 5000,
         "is_exchangeable": "True",
         "location_region": "Минская обл.",
         "number_of_photos": 12,
         "up_counter": 54,
         "feature_0": "False",
         "feature_1": "True",
         "feature_2": "False",
         "feature_3": "False",
         "feature_4": "True",
         "feature_5": "True",
         "feature_6": "False",
         "feature_7": "False",
         "feature_8": "False",
         "feature_9": "True",
         "duration_listed": 83,
         "_deepnote_index_column": 1
        },
        {
         "manufacturer_name": "Subaru",
         "model_name": "Forester",
         "transmission": "automatic",
         "color": "red",
         "odometer_value": 402000,
         "year_produced": 2001,
         "engine_fuel": "gasoline",
         "engine_has_gas": "False",
         "engine_type": "gasoline",
         "engine_capacity": 2.5,
         "body_type": "suv",
         "has_warranty": "False",
         "state": "owned",
         "drivetrain": "all",
         "price_usd": 2800,
         "is_exchangeable": "True",
         "location_region": "Минская обл.",
         "number_of_photos": 4,
         "up_counter": 72,
         "feature_0": "False",
         "feature_1": "True",
         "feature_2": "False",
         "feature_3": "False",
         "feature_4": "False",
         "feature_5": "False",
         "feature_6": "False",
         "feature_7": "False",
         "feature_8": "True",
         "feature_9": "True",
         "duration_listed": 151,
         "_deepnote_index_column": 2
        },
        {
         "manufacturer_name": "Subaru",
         "model_name": "Impreza",
         "transmission": "mechanical",
         "color": "blue",
         "odometer_value": 10000,
         "year_produced": 1999,
         "engine_fuel": "gasoline",
         "engine_has_gas": "False",
         "engine_type": "gasoline",
         "engine_capacity": 3,
         "body_type": "sedan",
         "has_warranty": "False",
         "state": "owned",
         "drivetrain": "all",
         "price_usd": 9999,
         "is_exchangeable": "True",
         "location_region": "Минская обл.",
         "number_of_photos": 9,
         "up_counter": 42,
         "feature_0": "True",
         "feature_1": "False",
         "feature_2": "False",
         "feature_3": "False",
         "feature_4": "False",
         "feature_5": "False",
         "feature_6": "False",
         "feature_7": "False",
         "feature_8": "False",
         "feature_9": "False",
         "duration_listed": 86,
         "_deepnote_index_column": 3
        },
        {
         "manufacturer_name": "Subaru",
         "model_name": "Legacy",
         "transmission": "automatic",
         "color": "black",
         "odometer_value": 280000,
         "year_produced": 2001,
         "engine_fuel": "gasoline",
         "engine_has_gas": "False",
         "engine_type": "gasoline",
         "engine_capacity": 2.5,
         "body_type": "universal",
         "has_warranty": "False",
         "state": "owned",
         "drivetrain": "all",
         "price_usd": 2134.11,
         "is_exchangeable": "True",
         "location_region": "Гомельская обл.",
         "number_of_photos": 14,
         "up_counter": 7,
         "feature_0": "False",
         "feature_1": "True",
         "feature_2": "False",
         "feature_3": "True",
         "feature_4": "True",
         "feature_5": "False",
         "feature_6": "False",
         "feature_7": "False",
         "feature_8": "False",
         "feature_9": "True",
         "duration_listed": 7,
         "_deepnote_index_column": 4
        }
       ],
       "rows_bottom": null
      },
      "text/plain": "  manufacturer_name model_name transmission   color  odometer_value  \\\n0            Subaru    Outback    automatic  silver          190000   \n1            Subaru    Outback    automatic    blue          290000   \n2            Subaru   Forester    automatic     red          402000   \n3            Subaru    Impreza   mechanical    blue           10000   \n4            Subaru     Legacy    automatic   black          280000   \n\n   year_produced engine_fuel  engine_has_gas engine_type  engine_capacity  \\\n0           2010    gasoline           False    gasoline              2.5   \n1           2002    gasoline           False    gasoline              3.0   \n2           2001    gasoline           False    gasoline              2.5   \n3           1999    gasoline           False    gasoline              3.0   \n4           2001    gasoline           False    gasoline              2.5   \n\n   ... feature_1  feature_2 feature_3 feature_4  feature_5  feature_6  \\\n0  ...      True       True      True     False       True      False   \n1  ...      True      False     False      True       True      False   \n2  ...      True      False     False     False      False      False   \n3  ...     False      False     False     False      False      False   \n4  ...      True      False      True      True      False      False   \n\n  feature_7  feature_8  feature_9  duration_listed  \n0      True       True       True               16  \n1     False      False       True               83  \n2     False       True       True              151  \n3     False      False      False               86  \n4     False      False       True                7  \n\n[5 rows x 30 columns]",
      "text/html": "<div>\n<style scoped>\n    .dataframe tbody tr th:only-of-type {\n        vertical-align: middle;\n    }\n\n    .dataframe tbody tr th {\n        vertical-align: top;\n    }\n\n    .dataframe thead th {\n        text-align: right;\n    }\n</style>\n<table border=\"1\" class=\"dataframe\">\n  <thead>\n    <tr style=\"text-align: right;\">\n      <th></th>\n      <th>manufacturer_name</th>\n      <th>model_name</th>\n      <th>transmission</th>\n      <th>color</th>\n      <th>odometer_value</th>\n      <th>year_produced</th>\n      <th>engine_fuel</th>\n      <th>engine_has_gas</th>\n      <th>engine_type</th>\n      <th>engine_capacity</th>\n      <th>...</th>\n      <th>feature_1</th>\n      <th>feature_2</th>\n      <th>feature_3</th>\n      <th>feature_4</th>\n      <th>feature_5</th>\n      <th>feature_6</th>\n      <th>feature_7</th>\n      <th>feature_8</th>\n      <th>feature_9</th>\n      <th>duration_listed</th>\n    </tr>\n  </thead>\n  <tbody>\n    <tr>\n      <th>0</th>\n      <td>Subaru</td>\n      <td>Outback</td>\n      <td>automatic</td>\n      <td>silver</td>\n      <td>190000</td>\n      <td>2010</td>\n      <td>gasoline</td>\n      <td>False</td>\n      <td>gasoline</td>\n      <td>2.5</td>\n      <td>...</td>\n      <td>True</td>\n      <td>True</td>\n      <td>True</td>\n      <td>False</td>\n      <td>True</td>\n      <td>False</td>\n      <td>True</td>\n      <td>True</td>\n      <td>True</td>\n      <td>16</td>\n    </tr>\n    <tr>\n      <th>1</th>\n      <td>Subaru</td>\n      <td>Outback</td>\n      <td>automatic</td>\n      <td>blue</td>\n      <td>290000</td>\n      <td>2002</td>\n      <td>gasoline</td>\n      <td>False</td>\n      <td>gasoline</td>\n      <td>3.0</td>\n      <td>...</td>\n      <td>True</td>\n      <td>False</td>\n      <td>False</td>\n      <td>True</td>\n      <td>True</td>\n      <td>False</td>\n      <td>False</td>\n      <td>False</td>\n      <td>True</td>\n      <td>83</td>\n    </tr>\n    <tr>\n      <th>2</th>\n      <td>Subaru</td>\n      <td>Forester</td>\n      <td>automatic</td>\n      <td>red</td>\n      <td>402000</td>\n      <td>2001</td>\n      <td>gasoline</td>\n      <td>False</td>\n      <td>gasoline</td>\n      <td>2.5</td>\n      <td>...</td>\n      <td>True</td>\n      <td>False</td>\n      <td>False</td>\n      <td>False</td>\n      <td>False</td>\n      <td>False</td>\n      <td>False</td>\n      <td>True</td>\n      <td>True</td>\n      <td>151</td>\n    </tr>\n    <tr>\n      <th>3</th>\n      <td>Subaru</td>\n      <td>Impreza</td>\n      <td>mechanical</td>\n      <td>blue</td>\n      <td>10000</td>\n      <td>1999</td>\n      <td>gasoline</td>\n      <td>False</td>\n      <td>gasoline</td>\n      <td>3.0</td>\n      <td>...</td>\n      <td>False</td>\n      <td>False</td>\n      <td>False</td>\n      <td>False</td>\n      <td>False</td>\n      <td>False</td>\n      <td>False</td>\n      <td>False</td>\n      <td>False</td>\n      <td>86</td>\n    </tr>\n    <tr>\n      <th>4</th>\n      <td>Subaru</td>\n      <td>Legacy</td>\n      <td>automatic</td>\n      <td>black</td>\n      <td>280000</td>\n      <td>2001</td>\n      <td>gasoline</td>\n      <td>False</td>\n      <td>gasoline</td>\n      <td>2.5</td>\n      <td>...</td>\n      <td>True</td>\n      <td>False</td>\n      <td>True</td>\n      <td>True</td>\n      <td>False</td>\n      <td>False</td>\n      <td>False</td>\n      <td>False</td>\n      <td>True</td>\n      <td>7</td>\n    </tr>\n  </tbody>\n</table>\n<p>5 rows × 30 columns</p>\n</div>"
     },
     "metadata": {}
    }
   ],
   "execution_count": 5
  },
  {
   "cell_type": "markdown",
   "source": "Pandas dummies: https://pandas.pydata.org/docs/reference/api/pandas.get_dummies.html",
   "metadata": {
    "tags": [],
    "cell_id": "00001-96af3ef4-965c-415e-87f6-c479bcbab7d0",
    "deepnote_cell_type": "markdown"
   }
  },
  {
   "cell_type": "code",
   "metadata": {
    "tags": [],
    "cell_id": "00001-87f4c1e7-2fec-4826-afe2-4f05ba58bb70",
    "deepnote_to_be_reexecuted": false,
    "source_hash": "aa3d8a45",
    "execution_start": 1627874088982,
    "execution_millis": 50,
    "output_cleared": false,
    "deepnote_cell_type": "code"
   },
   "source": "\n# get_dummies\n# En realidad hace un transformacion On Hot, para valores categoricos\n\npd.get_dummies(df['engine_type'])",
   "execution_count": 7,
   "outputs": [
    {
     "output_type": "execute_result",
     "execution_count": 7,
     "data": {
      "application/vnd.deepnote.dataframe.v2+json": {
       "row_count": 38531,
       "column_count": 3,
       "columns": [
        {
         "name": "diesel",
         "dtype": "uint8",
         "stats": {
          "unique_count": 2,
          "nan_count": 0,
          "min": "0",
          "max": "1",
          "histogram": [
           {
            "bin_start": 0,
            "bin_end": 0.1,
            "count": 25657
           },
           {
            "bin_start": 0.1,
            "bin_end": 0.2,
            "count": 0
           },
           {
            "bin_start": 0.2,
            "bin_end": 0.30000000000000004,
            "count": 0
           },
           {
            "bin_start": 0.30000000000000004,
            "bin_end": 0.4,
            "count": 0
           },
           {
            "bin_start": 0.4,
            "bin_end": 0.5,
            "count": 0
           },
           {
            "bin_start": 0.5,
            "bin_end": 0.6000000000000001,
            "count": 0
           },
           {
            "bin_start": 0.6000000000000001,
            "bin_end": 0.7000000000000001,
            "count": 0
           },
           {
            "bin_start": 0.7000000000000001,
            "bin_end": 0.8,
            "count": 0
           },
           {
            "bin_start": 0.8,
            "bin_end": 0.9,
            "count": 0
           },
           {
            "bin_start": 0.9,
            "bin_end": 1,
            "count": 12874
           }
          ]
         }
        },
        {
         "name": "electric",
         "dtype": "uint8",
         "stats": {
          "unique_count": 2,
          "nan_count": 0,
          "min": "0",
          "max": "1",
          "histogram": [
           {
            "bin_start": 0,
            "bin_end": 0.1,
            "count": 38521
           },
           {
            "bin_start": 0.1,
            "bin_end": 0.2,
            "count": 0
           },
           {
            "bin_start": 0.2,
            "bin_end": 0.30000000000000004,
            "count": 0
           },
           {
            "bin_start": 0.30000000000000004,
            "bin_end": 0.4,
            "count": 0
           },
           {
            "bin_start": 0.4,
            "bin_end": 0.5,
            "count": 0
           },
           {
            "bin_start": 0.5,
            "bin_end": 0.6000000000000001,
            "count": 0
           },
           {
            "bin_start": 0.6000000000000001,
            "bin_end": 0.7000000000000001,
            "count": 0
           },
           {
            "bin_start": 0.7000000000000001,
            "bin_end": 0.8,
            "count": 0
           },
           {
            "bin_start": 0.8,
            "bin_end": 0.9,
            "count": 0
           },
           {
            "bin_start": 0.9,
            "bin_end": 1,
            "count": 10
           }
          ]
         }
        },
        {
         "name": "gasoline",
         "dtype": "uint8"
        },
        {
         "name": "_deepnote_index_column",
         "dtype": "int64"
        }
       ],
       "rows_top": [
        {
         "diesel": 0,
         "electric": 0,
         "gasoline": 1,
         "_deepnote_index_column": 0
        },
        {
         "diesel": 0,
         "electric": 0,
         "gasoline": 1,
         "_deepnote_index_column": 1
        },
        {
         "diesel": 0,
         "electric": 0,
         "gasoline": 1,
         "_deepnote_index_column": 2
        },
        {
         "diesel": 0,
         "electric": 0,
         "gasoline": 1,
         "_deepnote_index_column": 3
        },
        {
         "diesel": 0,
         "electric": 0,
         "gasoline": 1,
         "_deepnote_index_column": 4
        },
        {
         "diesel": 0,
         "electric": 0,
         "gasoline": 1,
         "_deepnote_index_column": 5
        },
        {
         "diesel": 0,
         "electric": 0,
         "gasoline": 1,
         "_deepnote_index_column": 6
        },
        {
         "diesel": 0,
         "electric": 0,
         "gasoline": 1,
         "_deepnote_index_column": 7
        },
        {
         "diesel": 0,
         "electric": 0,
         "gasoline": 1,
         "_deepnote_index_column": 8
        },
        {
         "diesel": 0,
         "electric": 0,
         "gasoline": 1,
         "_deepnote_index_column": 9
        },
        {
         "diesel": 0,
         "electric": 0,
         "gasoline": 1,
         "_deepnote_index_column": 10
        },
        {
         "diesel": 0,
         "electric": 0,
         "gasoline": 1,
         "_deepnote_index_column": 11
        },
        {
         "diesel": 0,
         "electric": 0,
         "gasoline": 1,
         "_deepnote_index_column": 12
        },
        {
         "diesel": 0,
         "electric": 0,
         "gasoline": 1,
         "_deepnote_index_column": 13
        },
        {
         "diesel": 0,
         "electric": 0,
         "gasoline": 1,
         "_deepnote_index_column": 14
        },
        {
         "diesel": 0,
         "electric": 0,
         "gasoline": 1,
         "_deepnote_index_column": 15
        },
        {
         "diesel": 0,
         "electric": 0,
         "gasoline": 1,
         "_deepnote_index_column": 16
        },
        {
         "diesel": 0,
         "electric": 0,
         "gasoline": 1,
         "_deepnote_index_column": 17
        },
        {
         "diesel": 0,
         "electric": 0,
         "gasoline": 1,
         "_deepnote_index_column": 18
        },
        {
         "diesel": 0,
         "electric": 0,
         "gasoline": 1,
         "_deepnote_index_column": 19
        },
        {
         "diesel": 0,
         "electric": 0,
         "gasoline": 1,
         "_deepnote_index_column": 20
        },
        {
         "diesel": 0,
         "electric": 0,
         "gasoline": 1,
         "_deepnote_index_column": 21
        },
        {
         "diesel": 0,
         "electric": 0,
         "gasoline": 1,
         "_deepnote_index_column": 22
        },
        {
         "diesel": 0,
         "electric": 0,
         "gasoline": 1,
         "_deepnote_index_column": 23
        },
        {
         "diesel": 0,
         "electric": 0,
         "gasoline": 1,
         "_deepnote_index_column": 24
        },
        {
         "diesel": 0,
         "electric": 0,
         "gasoline": 1,
         "_deepnote_index_column": 25
        },
        {
         "diesel": 0,
         "electric": 0,
         "gasoline": 1,
         "_deepnote_index_column": 26
        },
        {
         "diesel": 0,
         "electric": 0,
         "gasoline": 1,
         "_deepnote_index_column": 27
        },
        {
         "diesel": 0,
         "electric": 0,
         "gasoline": 1,
         "_deepnote_index_column": 28
        },
        {
         "diesel": 0,
         "electric": 0,
         "gasoline": 1,
         "_deepnote_index_column": 29
        },
        {
         "diesel": 0,
         "electric": 0,
         "gasoline": 1,
         "_deepnote_index_column": 30
        },
        {
         "diesel": 0,
         "electric": 0,
         "gasoline": 1,
         "_deepnote_index_column": 31
        },
        {
         "diesel": 0,
         "electric": 0,
         "gasoline": 1,
         "_deepnote_index_column": 32
        },
        {
         "diesel": 0,
         "electric": 0,
         "gasoline": 1,
         "_deepnote_index_column": 33
        },
        {
         "diesel": 0,
         "electric": 0,
         "gasoline": 1,
         "_deepnote_index_column": 34
        },
        {
         "diesel": 0,
         "electric": 0,
         "gasoline": 1,
         "_deepnote_index_column": 35
        },
        {
         "diesel": 0,
         "electric": 0,
         "gasoline": 1,
         "_deepnote_index_column": 36
        },
        {
         "diesel": 0,
         "electric": 0,
         "gasoline": 1,
         "_deepnote_index_column": 37
        },
        {
         "diesel": 0,
         "electric": 0,
         "gasoline": 1,
         "_deepnote_index_column": 38
        },
        {
         "diesel": 0,
         "electric": 0,
         "gasoline": 1,
         "_deepnote_index_column": 39
        },
        {
         "diesel": 0,
         "electric": 0,
         "gasoline": 1,
         "_deepnote_index_column": 40
        },
        {
         "diesel": 0,
         "electric": 0,
         "gasoline": 1,
         "_deepnote_index_column": 41
        },
        {
         "diesel": 0,
         "electric": 0,
         "gasoline": 1,
         "_deepnote_index_column": 42
        },
        {
         "diesel": 0,
         "electric": 0,
         "gasoline": 1,
         "_deepnote_index_column": 43
        },
        {
         "diesel": 0,
         "electric": 0,
         "gasoline": 1,
         "_deepnote_index_column": 44
        },
        {
         "diesel": 0,
         "electric": 0,
         "gasoline": 1,
         "_deepnote_index_column": 45
        },
        {
         "diesel": 0,
         "electric": 0,
         "gasoline": 1,
         "_deepnote_index_column": 46
        },
        {
         "diesel": 0,
         "electric": 0,
         "gasoline": 1,
         "_deepnote_index_column": 47
        },
        {
         "diesel": 0,
         "electric": 0,
         "gasoline": 1,
         "_deepnote_index_column": 48
        },
        {
         "diesel": 0,
         "electric": 0,
         "gasoline": 1,
         "_deepnote_index_column": 49
        },
        {
         "diesel": 0,
         "electric": 0,
         "gasoline": 1,
         "_deepnote_index_column": 50
        },
        {
         "diesel": 0,
         "electric": 0,
         "gasoline": 1,
         "_deepnote_index_column": 51
        },
        {
         "diesel": 0,
         "electric": 0,
         "gasoline": 1,
         "_deepnote_index_column": 52
        },
        {
         "diesel": 0,
         "electric": 0,
         "gasoline": 1,
         "_deepnote_index_column": 53
        },
        {
         "diesel": 0,
         "electric": 0,
         "gasoline": 1,
         "_deepnote_index_column": 54
        },
        {
         "diesel": 0,
         "electric": 0,
         "gasoline": 1,
         "_deepnote_index_column": 55
        },
        {
         "diesel": 0,
         "electric": 0,
         "gasoline": 1,
         "_deepnote_index_column": 56
        },
        {
         "diesel": 0,
         "electric": 0,
         "gasoline": 1,
         "_deepnote_index_column": 57
        },
        {
         "diesel": 0,
         "electric": 0,
         "gasoline": 1,
         "_deepnote_index_column": 58
        },
        {
         "diesel": 0,
         "electric": 0,
         "gasoline": 1,
         "_deepnote_index_column": 59
        },
        {
         "diesel": 0,
         "electric": 0,
         "gasoline": 1,
         "_deepnote_index_column": 60
        },
        {
         "diesel": 0,
         "electric": 0,
         "gasoline": 1,
         "_deepnote_index_column": 61
        },
        {
         "diesel": 0,
         "electric": 0,
         "gasoline": 1,
         "_deepnote_index_column": 62
        },
        {
         "diesel": 0,
         "electric": 0,
         "gasoline": 1,
         "_deepnote_index_column": 63
        },
        {
         "diesel": 0,
         "electric": 0,
         "gasoline": 1,
         "_deepnote_index_column": 64
        },
        {
         "diesel": 0,
         "electric": 0,
         "gasoline": 1,
         "_deepnote_index_column": 65
        },
        {
         "diesel": 0,
         "electric": 0,
         "gasoline": 1,
         "_deepnote_index_column": 66
        },
        {
         "diesel": 0,
         "electric": 0,
         "gasoline": 1,
         "_deepnote_index_column": 67
        },
        {
         "diesel": 0,
         "electric": 0,
         "gasoline": 1,
         "_deepnote_index_column": 68
        },
        {
         "diesel": 0,
         "electric": 0,
         "gasoline": 1,
         "_deepnote_index_column": 69
        },
        {
         "diesel": 0,
         "electric": 0,
         "gasoline": 1,
         "_deepnote_index_column": 70
        },
        {
         "diesel": 0,
         "electric": 0,
         "gasoline": 1,
         "_deepnote_index_column": 71
        },
        {
         "diesel": 0,
         "electric": 0,
         "gasoline": 1,
         "_deepnote_index_column": 72
        },
        {
         "diesel": 0,
         "electric": 0,
         "gasoline": 1,
         "_deepnote_index_column": 73
        },
        {
         "diesel": 0,
         "electric": 0,
         "gasoline": 1,
         "_deepnote_index_column": 74
        },
        {
         "diesel": 0,
         "electric": 0,
         "gasoline": 1,
         "_deepnote_index_column": 75
        },
        {
         "diesel": 0,
         "electric": 0,
         "gasoline": 1,
         "_deepnote_index_column": 76
        },
        {
         "diesel": 0,
         "electric": 0,
         "gasoline": 1,
         "_deepnote_index_column": 77
        },
        {
         "diesel": 0,
         "electric": 0,
         "gasoline": 1,
         "_deepnote_index_column": 78
        },
        {
         "diesel": 0,
         "electric": 0,
         "gasoline": 1,
         "_deepnote_index_column": 79
        },
        {
         "diesel": 0,
         "electric": 0,
         "gasoline": 1,
         "_deepnote_index_column": 80
        },
        {
         "diesel": 0,
         "electric": 0,
         "gasoline": 1,
         "_deepnote_index_column": 81
        },
        {
         "diesel": 0,
         "electric": 0,
         "gasoline": 1,
         "_deepnote_index_column": 82
        },
        {
         "diesel": 0,
         "electric": 0,
         "gasoline": 1,
         "_deepnote_index_column": 83
        },
        {
         "diesel": 0,
         "electric": 0,
         "gasoline": 1,
         "_deepnote_index_column": 84
        },
        {
         "diesel": 0,
         "electric": 0,
         "gasoline": 1,
         "_deepnote_index_column": 85
        },
        {
         "diesel": 0,
         "electric": 0,
         "gasoline": 1,
         "_deepnote_index_column": 86
        },
        {
         "diesel": 0,
         "electric": 0,
         "gasoline": 1,
         "_deepnote_index_column": 87
        },
        {
         "diesel": 0,
         "electric": 0,
         "gasoline": 1,
         "_deepnote_index_column": 88
        },
        {
         "diesel": 0,
         "electric": 0,
         "gasoline": 1,
         "_deepnote_index_column": 89
        },
        {
         "diesel": 0,
         "electric": 0,
         "gasoline": 1,
         "_deepnote_index_column": 90
        },
        {
         "diesel": 0,
         "electric": 0,
         "gasoline": 1,
         "_deepnote_index_column": 91
        },
        {
         "diesel": 0,
         "electric": 0,
         "gasoline": 1,
         "_deepnote_index_column": 92
        },
        {
         "diesel": 0,
         "electric": 0,
         "gasoline": 1,
         "_deepnote_index_column": 93
        },
        {
         "diesel": 0,
         "electric": 0,
         "gasoline": 1,
         "_deepnote_index_column": 94
        },
        {
         "diesel": 0,
         "electric": 0,
         "gasoline": 1,
         "_deepnote_index_column": 95
        },
        {
         "diesel": 0,
         "electric": 0,
         "gasoline": 1,
         "_deepnote_index_column": 96
        },
        {
         "diesel": 0,
         "electric": 0,
         "gasoline": 1,
         "_deepnote_index_column": 97
        },
        {
         "diesel": 0,
         "electric": 0,
         "gasoline": 1,
         "_deepnote_index_column": 98
        },
        {
         "diesel": 0,
         "electric": 0,
         "gasoline": 1,
         "_deepnote_index_column": 99
        },
        {
         "diesel": 0,
         "electric": 0,
         "gasoline": 1,
         "_deepnote_index_column": 100
        },
        {
         "diesel": 0,
         "electric": 0,
         "gasoline": 1,
         "_deepnote_index_column": 101
        },
        {
         "diesel": 0,
         "electric": 0,
         "gasoline": 1,
         "_deepnote_index_column": 102
        },
        {
         "diesel": 0,
         "electric": 0,
         "gasoline": 1,
         "_deepnote_index_column": 103
        },
        {
         "diesel": 0,
         "electric": 0,
         "gasoline": 1,
         "_deepnote_index_column": 104
        },
        {
         "diesel": 0,
         "electric": 0,
         "gasoline": 1,
         "_deepnote_index_column": 105
        },
        {
         "diesel": 0,
         "electric": 0,
         "gasoline": 1,
         "_deepnote_index_column": 106
        },
        {
         "diesel": 0,
         "electric": 0,
         "gasoline": 1,
         "_deepnote_index_column": 107
        },
        {
         "diesel": 0,
         "electric": 0,
         "gasoline": 1,
         "_deepnote_index_column": 108
        },
        {
         "diesel": 0,
         "electric": 0,
         "gasoline": 1,
         "_deepnote_index_column": 109
        },
        {
         "diesel": 0,
         "electric": 0,
         "gasoline": 1,
         "_deepnote_index_column": 110
        },
        {
         "diesel": 0,
         "electric": 0,
         "gasoline": 1,
         "_deepnote_index_column": 111
        },
        {
         "diesel": 0,
         "electric": 0,
         "gasoline": 1,
         "_deepnote_index_column": 112
        },
        {
         "diesel": 0,
         "electric": 0,
         "gasoline": 1,
         "_deepnote_index_column": 113
        },
        {
         "diesel": 0,
         "electric": 0,
         "gasoline": 1,
         "_deepnote_index_column": 114
        },
        {
         "diesel": 0,
         "electric": 0,
         "gasoline": 1,
         "_deepnote_index_column": 115
        },
        {
         "diesel": 0,
         "electric": 0,
         "gasoline": 1,
         "_deepnote_index_column": 116
        },
        {
         "diesel": 0,
         "electric": 0,
         "gasoline": 1,
         "_deepnote_index_column": 117
        },
        {
         "diesel": 0,
         "electric": 0,
         "gasoline": 1,
         "_deepnote_index_column": 118
        },
        {
         "diesel": 0,
         "electric": 0,
         "gasoline": 1,
         "_deepnote_index_column": 119
        },
        {
         "diesel": 0,
         "electric": 0,
         "gasoline": 1,
         "_deepnote_index_column": 120
        },
        {
         "diesel": 0,
         "electric": 0,
         "gasoline": 1,
         "_deepnote_index_column": 121
        },
        {
         "diesel": 0,
         "electric": 0,
         "gasoline": 1,
         "_deepnote_index_column": 122
        },
        {
         "diesel": 0,
         "electric": 0,
         "gasoline": 1,
         "_deepnote_index_column": 123
        },
        {
         "diesel": 0,
         "electric": 0,
         "gasoline": 1,
         "_deepnote_index_column": 124
        },
        {
         "diesel": 0,
         "electric": 0,
         "gasoline": 1,
         "_deepnote_index_column": 125
        },
        {
         "diesel": 0,
         "electric": 0,
         "gasoline": 1,
         "_deepnote_index_column": 126
        },
        {
         "diesel": 0,
         "electric": 0,
         "gasoline": 1,
         "_deepnote_index_column": 127
        },
        {
         "diesel": 0,
         "electric": 0,
         "gasoline": 1,
         "_deepnote_index_column": 128
        },
        {
         "diesel": 0,
         "electric": 0,
         "gasoline": 1,
         "_deepnote_index_column": 129
        },
        {
         "diesel": 0,
         "electric": 0,
         "gasoline": 1,
         "_deepnote_index_column": 130
        },
        {
         "diesel": 0,
         "electric": 0,
         "gasoline": 1,
         "_deepnote_index_column": 131
        },
        {
         "diesel": 0,
         "electric": 0,
         "gasoline": 1,
         "_deepnote_index_column": 132
        },
        {
         "diesel": 0,
         "electric": 0,
         "gasoline": 1,
         "_deepnote_index_column": 133
        },
        {
         "diesel": 0,
         "electric": 0,
         "gasoline": 1,
         "_deepnote_index_column": 134
        },
        {
         "diesel": 0,
         "electric": 0,
         "gasoline": 1,
         "_deepnote_index_column": 135
        },
        {
         "diesel": 1,
         "electric": 0,
         "gasoline": 0,
         "_deepnote_index_column": 136
        },
        {
         "diesel": 0,
         "electric": 0,
         "gasoline": 1,
         "_deepnote_index_column": 137
        },
        {
         "diesel": 0,
         "electric": 0,
         "gasoline": 1,
         "_deepnote_index_column": 138
        },
        {
         "diesel": 0,
         "electric": 0,
         "gasoline": 1,
         "_deepnote_index_column": 139
        },
        {
         "diesel": 0,
         "electric": 0,
         "gasoline": 1,
         "_deepnote_index_column": 140
        },
        {
         "diesel": 0,
         "electric": 0,
         "gasoline": 1,
         "_deepnote_index_column": 141
        },
        {
         "diesel": 0,
         "electric": 0,
         "gasoline": 1,
         "_deepnote_index_column": 142
        },
        {
         "diesel": 0,
         "electric": 0,
         "gasoline": 1,
         "_deepnote_index_column": 143
        },
        {
         "diesel": 0,
         "electric": 0,
         "gasoline": 1,
         "_deepnote_index_column": 144
        },
        {
         "diesel": 0,
         "electric": 0,
         "gasoline": 1,
         "_deepnote_index_column": 145
        },
        {
         "diesel": 0,
         "electric": 0,
         "gasoline": 1,
         "_deepnote_index_column": 146
        },
        {
         "diesel": 0,
         "electric": 0,
         "gasoline": 1,
         "_deepnote_index_column": 147
        },
        {
         "diesel": 0,
         "electric": 0,
         "gasoline": 1,
         "_deepnote_index_column": 148
        },
        {
         "diesel": 0,
         "electric": 0,
         "gasoline": 1,
         "_deepnote_index_column": 149
        },
        {
         "diesel": 0,
         "electric": 0,
         "gasoline": 1,
         "_deepnote_index_column": 150
        },
        {
         "diesel": 0,
         "electric": 0,
         "gasoline": 1,
         "_deepnote_index_column": 151
        },
        {
         "diesel": 0,
         "electric": 0,
         "gasoline": 1,
         "_deepnote_index_column": 152
        },
        {
         "diesel": 0,
         "electric": 0,
         "gasoline": 1,
         "_deepnote_index_column": 153
        },
        {
         "diesel": 0,
         "electric": 0,
         "gasoline": 1,
         "_deepnote_index_column": 154
        },
        {
         "diesel": 0,
         "electric": 0,
         "gasoline": 1,
         "_deepnote_index_column": 155
        },
        {
         "diesel": 0,
         "electric": 0,
         "gasoline": 1,
         "_deepnote_index_column": 156
        },
        {
         "diesel": 0,
         "electric": 0,
         "gasoline": 1,
         "_deepnote_index_column": 157
        },
        {
         "diesel": 0,
         "electric": 0,
         "gasoline": 1,
         "_deepnote_index_column": 158
        },
        {
         "diesel": 0,
         "electric": 0,
         "gasoline": 1,
         "_deepnote_index_column": 159
        },
        {
         "diesel": 0,
         "electric": 0,
         "gasoline": 1,
         "_deepnote_index_column": 160
        },
        {
         "diesel": 1,
         "electric": 0,
         "gasoline": 0,
         "_deepnote_index_column": 161
        },
        {
         "diesel": 0,
         "electric": 0,
         "gasoline": 1,
         "_deepnote_index_column": 162
        },
        {
         "diesel": 0,
         "electric": 0,
         "gasoline": 1,
         "_deepnote_index_column": 163
        },
        {
         "diesel": 0,
         "electric": 0,
         "gasoline": 1,
         "_deepnote_index_column": 164
        },
        {
         "diesel": 0,
         "electric": 0,
         "gasoline": 1,
         "_deepnote_index_column": 165
        }
       ],
       "rows_bottom": [
        {
         "diesel": 0,
         "electric": 0,
         "gasoline": 1,
         "_deepnote_index_column": 38364
        },
        {
         "diesel": 0,
         "electric": 0,
         "gasoline": 1,
         "_deepnote_index_column": 38365
        },
        {
         "diesel": 0,
         "electric": 0,
         "gasoline": 1,
         "_deepnote_index_column": 38366
        },
        {
         "diesel": 0,
         "electric": 0,
         "gasoline": 1,
         "_deepnote_index_column": 38367
        },
        {
         "diesel": 0,
         "electric": 0,
         "gasoline": 1,
         "_deepnote_index_column": 38368
        },
        {
         "diesel": 0,
         "electric": 0,
         "gasoline": 1,
         "_deepnote_index_column": 38369
        },
        {
         "diesel": 0,
         "electric": 0,
         "gasoline": 1,
         "_deepnote_index_column": 38370
        },
        {
         "diesel": 1,
         "electric": 0,
         "gasoline": 0,
         "_deepnote_index_column": 38371
        },
        {
         "diesel": 0,
         "electric": 0,
         "gasoline": 1,
         "_deepnote_index_column": 38372
        },
        {
         "diesel": 0,
         "electric": 0,
         "gasoline": 1,
         "_deepnote_index_column": 38373
        },
        {
         "diesel": 0,
         "electric": 0,
         "gasoline": 1,
         "_deepnote_index_column": 38374
        },
        {
         "diesel": 0,
         "electric": 0,
         "gasoline": 1,
         "_deepnote_index_column": 38375
        },
        {
         "diesel": 0,
         "electric": 0,
         "gasoline": 1,
         "_deepnote_index_column": 38376
        },
        {
         "diesel": 0,
         "electric": 0,
         "gasoline": 1,
         "_deepnote_index_column": 38377
        },
        {
         "diesel": 0,
         "electric": 0,
         "gasoline": 1,
         "_deepnote_index_column": 38378
        },
        {
         "diesel": 0,
         "electric": 0,
         "gasoline": 1,
         "_deepnote_index_column": 38379
        },
        {
         "diesel": 0,
         "electric": 0,
         "gasoline": 1,
         "_deepnote_index_column": 38380
        },
        {
         "diesel": 1,
         "electric": 0,
         "gasoline": 0,
         "_deepnote_index_column": 38381
        },
        {
         "diesel": 0,
         "electric": 0,
         "gasoline": 1,
         "_deepnote_index_column": 38382
        },
        {
         "diesel": 0,
         "electric": 0,
         "gasoline": 1,
         "_deepnote_index_column": 38383
        },
        {
         "diesel": 1,
         "electric": 0,
         "gasoline": 0,
         "_deepnote_index_column": 38384
        },
        {
         "diesel": 0,
         "electric": 0,
         "gasoline": 1,
         "_deepnote_index_column": 38385
        },
        {
         "diesel": 1,
         "electric": 0,
         "gasoline": 0,
         "_deepnote_index_column": 38386
        },
        {
         "diesel": 0,
         "electric": 0,
         "gasoline": 1,
         "_deepnote_index_column": 38387
        },
        {
         "diesel": 1,
         "electric": 0,
         "gasoline": 0,
         "_deepnote_index_column": 38388
        },
        {
         "diesel": 0,
         "electric": 0,
         "gasoline": 1,
         "_deepnote_index_column": 38389
        },
        {
         "diesel": 0,
         "electric": 0,
         "gasoline": 1,
         "_deepnote_index_column": 38390
        },
        {
         "diesel": 0,
         "electric": 0,
         "gasoline": 1,
         "_deepnote_index_column": 38391
        },
        {
         "diesel": 1,
         "electric": 0,
         "gasoline": 0,
         "_deepnote_index_column": 38392
        },
        {
         "diesel": 0,
         "electric": 0,
         "gasoline": 1,
         "_deepnote_index_column": 38393
        },
        {
         "diesel": 1,
         "electric": 0,
         "gasoline": 0,
         "_deepnote_index_column": 38394
        },
        {
         "diesel": 1,
         "electric": 0,
         "gasoline": 0,
         "_deepnote_index_column": 38395
        },
        {
         "diesel": 0,
         "electric": 0,
         "gasoline": 1,
         "_deepnote_index_column": 38396
        },
        {
         "diesel": 0,
         "electric": 0,
         "gasoline": 1,
         "_deepnote_index_column": 38397
        },
        {
         "diesel": 1,
         "electric": 0,
         "gasoline": 0,
         "_deepnote_index_column": 38398
        },
        {
         "diesel": 0,
         "electric": 0,
         "gasoline": 1,
         "_deepnote_index_column": 38399
        },
        {
         "diesel": 0,
         "electric": 0,
         "gasoline": 1,
         "_deepnote_index_column": 38400
        },
        {
         "diesel": 0,
         "electric": 0,
         "gasoline": 1,
         "_deepnote_index_column": 38401
        },
        {
         "diesel": 0,
         "electric": 0,
         "gasoline": 1,
         "_deepnote_index_column": 38402
        },
        {
         "diesel": 0,
         "electric": 0,
         "gasoline": 1,
         "_deepnote_index_column": 38403
        },
        {
         "diesel": 0,
         "electric": 0,
         "gasoline": 1,
         "_deepnote_index_column": 38404
        },
        {
         "diesel": 0,
         "electric": 0,
         "gasoline": 1,
         "_deepnote_index_column": 38405
        },
        {
         "diesel": 0,
         "electric": 0,
         "gasoline": 1,
         "_deepnote_index_column": 38406
        },
        {
         "diesel": 0,
         "electric": 0,
         "gasoline": 1,
         "_deepnote_index_column": 38407
        },
        {
         "diesel": 0,
         "electric": 0,
         "gasoline": 1,
         "_deepnote_index_column": 38408
        },
        {
         "diesel": 0,
         "electric": 0,
         "gasoline": 1,
         "_deepnote_index_column": 38409
        },
        {
         "diesel": 0,
         "electric": 0,
         "gasoline": 1,
         "_deepnote_index_column": 38410
        },
        {
         "diesel": 0,
         "electric": 0,
         "gasoline": 1,
         "_deepnote_index_column": 38411
        },
        {
         "diesel": 0,
         "electric": 0,
         "gasoline": 1,
         "_deepnote_index_column": 38412
        },
        {
         "diesel": 0,
         "electric": 0,
         "gasoline": 1,
         "_deepnote_index_column": 38413
        },
        {
         "diesel": 0,
         "electric": 0,
         "gasoline": 1,
         "_deepnote_index_column": 38414
        },
        {
         "diesel": 1,
         "electric": 0,
         "gasoline": 0,
         "_deepnote_index_column": 38415
        },
        {
         "diesel": 0,
         "electric": 0,
         "gasoline": 1,
         "_deepnote_index_column": 38416
        },
        {
         "diesel": 0,
         "electric": 0,
         "gasoline": 1,
         "_deepnote_index_column": 38417
        },
        {
         "diesel": 1,
         "electric": 0,
         "gasoline": 0,
         "_deepnote_index_column": 38418
        },
        {
         "diesel": 0,
         "electric": 0,
         "gasoline": 1,
         "_deepnote_index_column": 38419
        },
        {
         "diesel": 0,
         "electric": 0,
         "gasoline": 1,
         "_deepnote_index_column": 38420
        },
        {
         "diesel": 1,
         "electric": 0,
         "gasoline": 0,
         "_deepnote_index_column": 38421
        },
        {
         "diesel": 1,
         "electric": 0,
         "gasoline": 0,
         "_deepnote_index_column": 38422
        },
        {
         "diesel": 0,
         "electric": 0,
         "gasoline": 1,
         "_deepnote_index_column": 38423
        },
        {
         "diesel": 1,
         "electric": 0,
         "gasoline": 0,
         "_deepnote_index_column": 38424
        },
        {
         "diesel": 0,
         "electric": 0,
         "gasoline": 1,
         "_deepnote_index_column": 38425
        },
        {
         "diesel": 0,
         "electric": 0,
         "gasoline": 1,
         "_deepnote_index_column": 38426
        },
        {
         "diesel": 1,
         "electric": 0,
         "gasoline": 0,
         "_deepnote_index_column": 38427
        },
        {
         "diesel": 0,
         "electric": 0,
         "gasoline": 1,
         "_deepnote_index_column": 38428
        },
        {
         "diesel": 0,
         "electric": 0,
         "gasoline": 1,
         "_deepnote_index_column": 38429
        },
        {
         "diesel": 0,
         "electric": 0,
         "gasoline": 1,
         "_deepnote_index_column": 38430
        },
        {
         "diesel": 0,
         "electric": 0,
         "gasoline": 1,
         "_deepnote_index_column": 38431
        },
        {
         "diesel": 1,
         "electric": 0,
         "gasoline": 0,
         "_deepnote_index_column": 38432
        },
        {
         "diesel": 0,
         "electric": 0,
         "gasoline": 1,
         "_deepnote_index_column": 38433
        },
        {
         "diesel": 0,
         "electric": 0,
         "gasoline": 1,
         "_deepnote_index_column": 38434
        },
        {
         "diesel": 0,
         "electric": 0,
         "gasoline": 1,
         "_deepnote_index_column": 38435
        },
        {
         "diesel": 0,
         "electric": 0,
         "gasoline": 1,
         "_deepnote_index_column": 38436
        },
        {
         "diesel": 0,
         "electric": 0,
         "gasoline": 1,
         "_deepnote_index_column": 38437
        },
        {
         "diesel": 1,
         "electric": 0,
         "gasoline": 0,
         "_deepnote_index_column": 38438
        },
        {
         "diesel": 0,
         "electric": 0,
         "gasoline": 1,
         "_deepnote_index_column": 38439
        },
        {
         "diesel": 0,
         "electric": 0,
         "gasoline": 1,
         "_deepnote_index_column": 38440
        },
        {
         "diesel": 1,
         "electric": 0,
         "gasoline": 0,
         "_deepnote_index_column": 38441
        },
        {
         "diesel": 0,
         "electric": 0,
         "gasoline": 1,
         "_deepnote_index_column": 38442
        },
        {
         "diesel": 0,
         "electric": 0,
         "gasoline": 1,
         "_deepnote_index_column": 38443
        },
        {
         "diesel": 1,
         "electric": 0,
         "gasoline": 0,
         "_deepnote_index_column": 38444
        },
        {
         "diesel": 0,
         "electric": 0,
         "gasoline": 1,
         "_deepnote_index_column": 38445
        },
        {
         "diesel": 0,
         "electric": 0,
         "gasoline": 1,
         "_deepnote_index_column": 38446
        },
        {
         "diesel": 0,
         "electric": 0,
         "gasoline": 1,
         "_deepnote_index_column": 38447
        },
        {
         "diesel": 0,
         "electric": 0,
         "gasoline": 1,
         "_deepnote_index_column": 38448
        },
        {
         "diesel": 0,
         "electric": 0,
         "gasoline": 1,
         "_deepnote_index_column": 38449
        },
        {
         "diesel": 0,
         "electric": 0,
         "gasoline": 1,
         "_deepnote_index_column": 38450
        },
        {
         "diesel": 1,
         "electric": 0,
         "gasoline": 0,
         "_deepnote_index_column": 38451
        },
        {
         "diesel": 0,
         "electric": 0,
         "gasoline": 1,
         "_deepnote_index_column": 38452
        },
        {
         "diesel": 0,
         "electric": 0,
         "gasoline": 1,
         "_deepnote_index_column": 38453
        },
        {
         "diesel": 0,
         "electric": 0,
         "gasoline": 1,
         "_deepnote_index_column": 38454
        },
        {
         "diesel": 0,
         "electric": 0,
         "gasoline": 1,
         "_deepnote_index_column": 38455
        },
        {
         "diesel": 0,
         "electric": 0,
         "gasoline": 1,
         "_deepnote_index_column": 38456
        },
        {
         "diesel": 0,
         "electric": 0,
         "gasoline": 1,
         "_deepnote_index_column": 38457
        },
        {
         "diesel": 0,
         "electric": 0,
         "gasoline": 1,
         "_deepnote_index_column": 38458
        },
        {
         "diesel": 0,
         "electric": 0,
         "gasoline": 1,
         "_deepnote_index_column": 38459
        },
        {
         "diesel": 0,
         "electric": 0,
         "gasoline": 1,
         "_deepnote_index_column": 38460
        },
        {
         "diesel": 0,
         "electric": 0,
         "gasoline": 1,
         "_deepnote_index_column": 38461
        },
        {
         "diesel": 0,
         "electric": 0,
         "gasoline": 1,
         "_deepnote_index_column": 38462
        },
        {
         "diesel": 0,
         "electric": 0,
         "gasoline": 1,
         "_deepnote_index_column": 38463
        },
        {
         "diesel": 0,
         "electric": 0,
         "gasoline": 1,
         "_deepnote_index_column": 38464
        },
        {
         "diesel": 0,
         "electric": 0,
         "gasoline": 1,
         "_deepnote_index_column": 38465
        },
        {
         "diesel": 0,
         "electric": 0,
         "gasoline": 1,
         "_deepnote_index_column": 38466
        },
        {
         "diesel": 0,
         "electric": 0,
         "gasoline": 1,
         "_deepnote_index_column": 38467
        },
        {
         "diesel": 0,
         "electric": 0,
         "gasoline": 1,
         "_deepnote_index_column": 38468
        },
        {
         "diesel": 0,
         "electric": 0,
         "gasoline": 1,
         "_deepnote_index_column": 38469
        },
        {
         "diesel": 0,
         "electric": 0,
         "gasoline": 1,
         "_deepnote_index_column": 38470
        },
        {
         "diesel": 1,
         "electric": 0,
         "gasoline": 0,
         "_deepnote_index_column": 38471
        },
        {
         "diesel": 0,
         "electric": 0,
         "gasoline": 1,
         "_deepnote_index_column": 38472
        },
        {
         "diesel": 1,
         "electric": 0,
         "gasoline": 0,
         "_deepnote_index_column": 38473
        },
        {
         "diesel": 0,
         "electric": 0,
         "gasoline": 1,
         "_deepnote_index_column": 38474
        },
        {
         "diesel": 0,
         "electric": 0,
         "gasoline": 1,
         "_deepnote_index_column": 38475
        },
        {
         "diesel": 1,
         "electric": 0,
         "gasoline": 0,
         "_deepnote_index_column": 38476
        },
        {
         "diesel": 0,
         "electric": 0,
         "gasoline": 1,
         "_deepnote_index_column": 38477
        },
        {
         "diesel": 0,
         "electric": 0,
         "gasoline": 1,
         "_deepnote_index_column": 38478
        },
        {
         "diesel": 0,
         "electric": 0,
         "gasoline": 1,
         "_deepnote_index_column": 38479
        },
        {
         "diesel": 0,
         "electric": 0,
         "gasoline": 1,
         "_deepnote_index_column": 38480
        },
        {
         "diesel": 0,
         "electric": 0,
         "gasoline": 1,
         "_deepnote_index_column": 38481
        },
        {
         "diesel": 0,
         "electric": 0,
         "gasoline": 1,
         "_deepnote_index_column": 38482
        },
        {
         "diesel": 0,
         "electric": 0,
         "gasoline": 1,
         "_deepnote_index_column": 38483
        },
        {
         "diesel": 1,
         "electric": 0,
         "gasoline": 0,
         "_deepnote_index_column": 38484
        },
        {
         "diesel": 0,
         "electric": 0,
         "gasoline": 1,
         "_deepnote_index_column": 38485
        },
        {
         "diesel": 0,
         "electric": 0,
         "gasoline": 1,
         "_deepnote_index_column": 38486
        },
        {
         "diesel": 0,
         "electric": 0,
         "gasoline": 1,
         "_deepnote_index_column": 38487
        },
        {
         "diesel": 1,
         "electric": 0,
         "gasoline": 0,
         "_deepnote_index_column": 38488
        },
        {
         "diesel": 0,
         "electric": 0,
         "gasoline": 1,
         "_deepnote_index_column": 38489
        },
        {
         "diesel": 0,
         "electric": 0,
         "gasoline": 1,
         "_deepnote_index_column": 38490
        },
        {
         "diesel": 0,
         "electric": 0,
         "gasoline": 1,
         "_deepnote_index_column": 38491
        },
        {
         "diesel": 1,
         "electric": 0,
         "gasoline": 0,
         "_deepnote_index_column": 38492
        },
        {
         "diesel": 0,
         "electric": 0,
         "gasoline": 1,
         "_deepnote_index_column": 38493
        },
        {
         "diesel": 1,
         "electric": 0,
         "gasoline": 0,
         "_deepnote_index_column": 38494
        },
        {
         "diesel": 0,
         "electric": 0,
         "gasoline": 1,
         "_deepnote_index_column": 38495
        },
        {
         "diesel": 0,
         "electric": 0,
         "gasoline": 1,
         "_deepnote_index_column": 38496
        },
        {
         "diesel": 0,
         "electric": 0,
         "gasoline": 1,
         "_deepnote_index_column": 38497
        },
        {
         "diesel": 0,
         "electric": 0,
         "gasoline": 1,
         "_deepnote_index_column": 38498
        },
        {
         "diesel": 0,
         "electric": 0,
         "gasoline": 1,
         "_deepnote_index_column": 38499
        },
        {
         "diesel": 0,
         "electric": 0,
         "gasoline": 1,
         "_deepnote_index_column": 38500
        },
        {
         "diesel": 0,
         "electric": 0,
         "gasoline": 1,
         "_deepnote_index_column": 38501
        },
        {
         "diesel": 0,
         "electric": 0,
         "gasoline": 1,
         "_deepnote_index_column": 38502
        },
        {
         "diesel": 0,
         "electric": 0,
         "gasoline": 1,
         "_deepnote_index_column": 38503
        },
        {
         "diesel": 1,
         "electric": 0,
         "gasoline": 0,
         "_deepnote_index_column": 38504
        },
        {
         "diesel": 0,
         "electric": 0,
         "gasoline": 1,
         "_deepnote_index_column": 38505
        },
        {
         "diesel": 1,
         "electric": 0,
         "gasoline": 0,
         "_deepnote_index_column": 38506
        },
        {
         "diesel": 1,
         "electric": 0,
         "gasoline": 0,
         "_deepnote_index_column": 38507
        },
        {
         "diesel": 0,
         "electric": 0,
         "gasoline": 1,
         "_deepnote_index_column": 38508
        },
        {
         "diesel": 0,
         "electric": 0,
         "gasoline": 1,
         "_deepnote_index_column": 38509
        },
        {
         "diesel": 0,
         "electric": 0,
         "gasoline": 1,
         "_deepnote_index_column": 38510
        },
        {
         "diesel": 0,
         "electric": 0,
         "gasoline": 1,
         "_deepnote_index_column": 38511
        },
        {
         "diesel": 0,
         "electric": 0,
         "gasoline": 1,
         "_deepnote_index_column": 38512
        },
        {
         "diesel": 0,
         "electric": 0,
         "gasoline": 1,
         "_deepnote_index_column": 38513
        },
        {
         "diesel": 0,
         "electric": 0,
         "gasoline": 1,
         "_deepnote_index_column": 38514
        },
        {
         "diesel": 0,
         "electric": 0,
         "gasoline": 1,
         "_deepnote_index_column": 38515
        },
        {
         "diesel": 0,
         "electric": 0,
         "gasoline": 1,
         "_deepnote_index_column": 38516
        },
        {
         "diesel": 1,
         "electric": 0,
         "gasoline": 0,
         "_deepnote_index_column": 38517
        },
        {
         "diesel": 0,
         "electric": 0,
         "gasoline": 1,
         "_deepnote_index_column": 38518
        },
        {
         "diesel": 0,
         "electric": 0,
         "gasoline": 1,
         "_deepnote_index_column": 38519
        },
        {
         "diesel": 1,
         "electric": 0,
         "gasoline": 0,
         "_deepnote_index_column": 38520
        },
        {
         "diesel": 0,
         "electric": 0,
         "gasoline": 1,
         "_deepnote_index_column": 38521
        },
        {
         "diesel": 0,
         "electric": 0,
         "gasoline": 1,
         "_deepnote_index_column": 38522
        },
        {
         "diesel": 1,
         "electric": 0,
         "gasoline": 0,
         "_deepnote_index_column": 38523
        },
        {
         "diesel": 0,
         "electric": 0,
         "gasoline": 1,
         "_deepnote_index_column": 38524
        },
        {
         "diesel": 0,
         "electric": 0,
         "gasoline": 1,
         "_deepnote_index_column": 38525
        },
        {
         "diesel": 0,
         "electric": 0,
         "gasoline": 1,
         "_deepnote_index_column": 38526
        },
        {
         "diesel": 1,
         "electric": 0,
         "gasoline": 0,
         "_deepnote_index_column": 38527
        },
        {
         "diesel": 0,
         "electric": 0,
         "gasoline": 1,
         "_deepnote_index_column": 38528
        },
        {
         "diesel": 0,
         "electric": 0,
         "gasoline": 1,
         "_deepnote_index_column": 38529
        },
        {
         "diesel": 0,
         "electric": 0,
         "gasoline": 1,
         "_deepnote_index_column": 38530
        }
       ]
      },
      "text/plain": "       diesel  electric  gasoline\n0           0         0         1\n1           0         0         1\n2           0         0         1\n3           0         0         1\n4           0         0         1\n...       ...       ...       ...\n38526       0         0         1\n38527       1         0         0\n38528       0         0         1\n38529       0         0         1\n38530       0         0         1\n\n[38531 rows x 3 columns]",
      "text/html": "<div>\n<style scoped>\n    .dataframe tbody tr th:only-of-type {\n        vertical-align: middle;\n    }\n\n    .dataframe tbody tr th {\n        vertical-align: top;\n    }\n\n    .dataframe thead th {\n        text-align: right;\n    }\n</style>\n<table border=\"1\" class=\"dataframe\">\n  <thead>\n    <tr style=\"text-align: right;\">\n      <th></th>\n      <th>diesel</th>\n      <th>electric</th>\n      <th>gasoline</th>\n    </tr>\n  </thead>\n  <tbody>\n    <tr>\n      <th>0</th>\n      <td>0</td>\n      <td>0</td>\n      <td>1</td>\n    </tr>\n    <tr>\n      <th>1</th>\n      <td>0</td>\n      <td>0</td>\n      <td>1</td>\n    </tr>\n    <tr>\n      <th>2</th>\n      <td>0</td>\n      <td>0</td>\n      <td>1</td>\n    </tr>\n    <tr>\n      <th>3</th>\n      <td>0</td>\n      <td>0</td>\n      <td>1</td>\n    </tr>\n    <tr>\n      <th>4</th>\n      <td>0</td>\n      <td>0</td>\n      <td>1</td>\n    </tr>\n    <tr>\n      <th>...</th>\n      <td>...</td>\n      <td>...</td>\n      <td>...</td>\n    </tr>\n    <tr>\n      <th>38526</th>\n      <td>0</td>\n      <td>0</td>\n      <td>1</td>\n    </tr>\n    <tr>\n      <th>38527</th>\n      <td>1</td>\n      <td>0</td>\n      <td>0</td>\n    </tr>\n    <tr>\n      <th>38528</th>\n      <td>0</td>\n      <td>0</td>\n      <td>1</td>\n    </tr>\n    <tr>\n      <th>38529</th>\n      <td>0</td>\n      <td>0</td>\n      <td>1</td>\n    </tr>\n    <tr>\n      <th>38530</th>\n      <td>0</td>\n      <td>0</td>\n      <td>1</td>\n    </tr>\n  </tbody>\n</table>\n<p>38531 rows × 3 columns</p>\n</div>"
     },
     "metadata": {}
    }
   ]
  },
  {
   "cell_type": "markdown",
   "source": "One-hot con Scikit: https://scikit-learn.org/stable/modules/preprocessing.html#encoding-categorical-features ",
   "metadata": {
    "tags": [],
    "cell_id": "00004-cb10db59-6af8-4367-b912-1766e45d62e7",
    "deepnote_cell_type": "markdown"
   }
  },
  {
   "cell_type": "code",
   "metadata": {
    "tags": [],
    "cell_id": "00004-76441921-cba0-4cd5-a9d6-f355d99d36cc",
    "deepnote_to_be_reexecuted": false,
    "source_hash": "8b850e25",
    "execution_start": 1627874158374,
    "execution_millis": 1,
    "deepnote_cell_type": "code"
   },
   "source": "import sklearn.preprocessing as preprocessing\n# Metoodo de codificacion de texto\nencoder = preprocessing.OneHotEncoder(handle_unknown='ignore')",
   "execution_count": 9,
   "outputs": []
  },
  {
   "cell_type": "code",
   "metadata": {
    "tags": [],
    "cell_id": "00006-cad598dd-5029-4979-bc58-cbbfbd51c57b",
    "deepnote_to_be_reexecuted": false,
    "source_hash": "8cd1a9e4",
    "execution_start": 1627874194897,
    "execution_millis": 4,
    "output_cleared": false,
    "deepnote_cell_type": "code"
   },
   "source": "# Ajustando el encoder para la lista de valores \nencoder.fit(df[['engine_type']].values)",
   "execution_count": 12,
   "outputs": [
    {
     "output_type": "execute_result",
     "execution_count": 12,
     "data": {
      "text/plain": "OneHotEncoder(handle_unknown='ignore')"
     },
     "metadata": {}
    }
   ]
  },
  {
   "cell_type": "code",
   "metadata": {
    "tags": [],
    "cell_id": "00007-167649a6-6f3d-4ac0-8d22-cb948ea9de5d",
    "deepnote_to_be_reexecuted": false,
    "source_hash": "5ca9520a",
    "execution_start": 1627874224290,
    "execution_millis": 10,
    "output_cleared": false,
    "deepnote_cell_type": "code"
   },
   "source": "# Realizando la transformacion para los valores categoricos\nencoder.transform([['gasoline'],['diesel'],['aceite']]).toarray()",
   "execution_count": 13,
   "outputs": [
    {
     "output_type": "execute_result",
     "execution_count": 13,
     "data": {
      "text/plain": "array([[0., 0., 1.],\n       [1., 0., 0.],\n       [0., 0., 0.]])"
     },
     "metadata": {}
    }
   ]
  },
  {
   "cell_type": "markdown",
   "source": "Variables numéricas discretas pueden ser codificadas como categoricas",
   "metadata": {
    "tags": [],
    "cell_id": "00008-ed519790-e6f0-4b2a-a882-4bfde7a81695",
    "deepnote_cell_type": "markdown"
   }
  },
  {
   "cell_type": "code",
   "metadata": {
    "tags": [],
    "cell_id": "00008-67b61c47-f6ed-411f-b1d7-aedb7e863332",
    "deepnote_to_be_reexecuted": false,
    "source_hash": "ee182087",
    "execution_start": 1627874278662,
    "execution_millis": 8,
    "output_cleared": false,
    "deepnote_cell_type": "code"
   },
   "source": "encoder.fit(df[['year_produced']].values)",
   "execution_count": 14,
   "outputs": [
    {
     "output_type": "execute_result",
     "execution_count": 14,
     "data": {
      "text/plain": "OneHotEncoder(handle_unknown='ignore')"
     },
     "metadata": {}
    }
   ]
  },
  {
   "cell_type": "code",
   "metadata": {
    "tags": [],
    "cell_id": "00009-1cf839ac-cb6d-4930-a8e6-5349b55b1d88",
    "deepnote_to_be_reexecuted": false,
    "source_hash": "db2dddce",
    "execution_start": 1627874284261,
    "execution_millis": 4,
    "output_cleared": false,
    "deepnote_cell_type": "code"
   },
   "source": "encoder.transform([[2016],[2009],[190]]).toarray()",
   "execution_count": 15,
   "outputs": [
    {
     "output_type": "execute_result",
     "execution_count": 15,
     "data": {
      "text/plain": "array([[0., 0., 0., 0., 0., 0., 0., 0., 0., 0., 0., 0., 0., 0., 0., 0.,\n        0., 0., 0., 0., 0., 0., 0., 0., 0., 0., 0., 0., 0., 0., 0., 0.,\n        0., 0., 0., 0., 0., 0., 0., 0., 0., 0., 0., 0., 0., 0., 0., 0.,\n        0., 0., 0., 0., 0., 0., 0., 0., 0., 0., 0., 0., 1., 0., 0., 0.],\n       [0., 0., 0., 0., 0., 0., 0., 0., 0., 0., 0., 0., 0., 0., 0., 0.,\n        0., 0., 0., 0., 0., 0., 0., 0., 0., 0., 0., 0., 0., 0., 0., 0.,\n        0., 0., 0., 0., 0., 0., 0., 0., 0., 0., 0., 0., 0., 0., 0., 0.,\n        0., 0., 0., 0., 0., 1., 0., 0., 0., 0., 0., 0., 0., 0., 0., 0.],\n       [0., 0., 0., 0., 0., 0., 0., 0., 0., 0., 0., 0., 0., 0., 0., 0.,\n        0., 0., 0., 0., 0., 0., 0., 0., 0., 0., 0., 0., 0., 0., 0., 0.,\n        0., 0., 0., 0., 0., 0., 0., 0., 0., 0., 0., 0., 0., 0., 0., 0.,\n        0., 0., 0., 0., 0., 0., 0., 0., 0., 0., 0., 0., 0., 0., 0., 0.]])"
     },
     "metadata": {}
    }
   ]
  },
  {
   "cell_type": "markdown",
   "source": "<a style='text-decoration:none;line-height:16px;display:flex;color:#5B5B62;padding:10px;justify-content:end;' href='https://deepnote.com?utm_source=created-in-deepnote-cell&projectId=fe7e36d3-9b13-4814-af75-06a6f66245d8' target=\"_blank\">\n<img alt='Created in deepnote.com' style='display:inline;max-height:16px;margin:0px;margin-right:7.5px;' src='data:image/svg+xml;base64,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' > </img>\nCreated in <span style='font-weight:600;margin-left:4px;'>Deepnote</span></a>",
   "metadata": {
    "tags": [],
    "created_in_deepnote_cell": true,
    "deepnote_cell_type": "markdown"
   }
  }
 ],
 "nbformat": 4,
 "nbformat_minor": 2,
 "metadata": {
  "orig_nbformat": 2,
  "deepnote": {
   "is_reactive": false
  },
  "deepnote_notebook_id": "6d476368-14b6-474f-8ae9-ba16eefffcf2",
  "deepnote_execution_queue": []
 }
}